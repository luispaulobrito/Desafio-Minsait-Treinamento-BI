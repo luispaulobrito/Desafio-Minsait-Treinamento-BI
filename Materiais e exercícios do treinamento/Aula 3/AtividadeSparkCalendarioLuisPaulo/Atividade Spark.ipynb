{
 "cells": [
  {
   "cell_type": "code",
   "execution_count": 1,
   "metadata": {},
   "outputs": [],
   "source": [
    "from pyspark.sql import SparkSession, dataframe\n",
    "from pyspark.sql.functions import when, col, sum, count, isnan, round, desc, format_string\n",
    "from pyspark.sql.functions import regexp_replace, concat_ws, sha2, rtrim\n",
    "from pyspark.sql.functions import unix_timestamp, from_unixtime, to_date\n",
    "from pyspark.sql.types import StructType, StructField\n",
    "from pyspark.sql.types import DoubleType, IntegerType, StringType\n",
    "from pyspark.sql import HiveContext\n",
    "from pyspark.sql.functions import countDistinct\n",
    "from pyspark.sql.functions import year, month, dayofmonth, quarter\n",
    " \n",
    "from pyspark.sql.functions import regexp_replace\n",
    "from pyspark.sql.functions import when\n",
    " \n",
    "spark = SparkSession.builder.master(\"local[*]\")\\\n",
    "    .enableHiveSupport()\\\n",
    "    .getOrCreate()"
   ]
  },
  {
   "cell_type": "code",
   "execution_count": 2,
   "metadata": {},
   "outputs": [],
   "source": [
    "df_pedidos = spark.sql(\"select * from desafio.pedido\")\n",
    "df_categorias = spark.sql(\"select * from desafio.categorias\")\n",
    "df_clientes = spark.sql(\"select * from desafio.cliente\")\n",
    "df_cidade = spark.sql(\"select * from desafio.cidade\")\n",
    "df_estado = spark.sql(\"select * from desafio.estado\")\n",
    "df_filial = spark.sql(\"select * from desafio.filial\")\n",
    "df_item_pedido = spark.sql(\"select * from desafio.itempedido\")\n",
    "df_parceiro = spark.sql(\"select * from desafio.parceiro\")\n",
    "df_produto = spark.sql(\"select * from desafio.produto\")\n",
    "df_subcategoria = spark.sql(\"select * from desafio.subcategoria\")"
   ]
  },
  {
   "cell_type": "code",
   "execution_count": 3,
   "metadata": {},
   "outputs": [
    {
     "name": "stdout",
     "output_type": "stream",
     "text": [
      "+-----------+--------------------+-----------+----------+---------+-------------+----------+------+-----------+\n",
      "|  id_pedido|           dt_pedido|id_parceiro|id_cliente|id_filial|vr_total_pago|id_produto|tidade|vr_unitario|\n",
      "+-----------+--------------------+-----------+----------+---------+-------------+----------+------+-----------+\n",
      "|46626099016|2021-06-02T00:00:...|         16| 138633690|      547|       194.99|   5077094|     1|     194.99|\n",
      "|46630423213|2021-06-02T00:00:...|         13| 106568537|      875|        51.99|   3335368|     1|      51.99|\n",
      "|46630859716|2021-06-02T00:00:...|         16| 138757662|      884|        90.99|   5053698|     1|      90.99|\n",
      "|46631152013|2021-06-02T00:00:...|         13| 138459547|      494|       129.99|   3488193|     1|     129.99|\n",
      "|46635194213|2021-06-02T00:00:...|         13|   5534295|      194|        90.99|   4149634|     1|      90.99|\n",
      "|46635829216|2021-06-02T00:00:...|         16| 138680502|        3|        90.99|   3174943|     1|      90.99|\n",
      "|46636323516|2021-06-02T00:00:...|         16|  54441355|      597|        64.99|   2398616|     1|      64.99|\n",
      "|46636461213|2021-06-02T00:00:...|         13| 123812442|      141|       246.99|   3527649|     1|     246.99|\n",
      "|46638109716|2021-06-02T00:00:...|         16| 128992980|     1680|       324.99|   4849669|     1|     324.99|\n",
      "|46641219513|2021-06-02T00:00:...|         13|  92878260|        3|        90.99|    897394|     1|      90.99|\n",
      "+-----------+--------------------+-----------+----------+---------+-------------+----------+------+-----------+\n",
      "only showing top 10 rows\n",
      "\n"
     ]
    }
   ],
   "source": [
    "df_stage_pedidos = df_pedidos.join(df_item_pedido, \"id_pedido\", \"inner\")\n",
    "df_stage_pedidos.show(10)"
   ]
  },
  {
   "cell_type": "code",
   "execution_count": 4,
   "metadata": {},
   "outputs": [
    {
     "name": "stdout",
     "output_type": "stream",
     "text": [
      "Quantidade de pedidos: 733472\n"
     ]
    }
   ],
   "source": [
    "#Ver a quantidade de pedidos\n",
    "quantidade_pedidos = df_stage_pedidos.select(countDistinct(\"id_pedido\")).collect()[0][0]\n",
    "print(f\"Quantidade de pedidos: {quantidade_pedidos}\")"
   ]
  },
  {
   "cell_type": "code",
   "execution_count": 5,
   "metadata": {},
   "outputs": [
    {
     "name": "stdout",
     "output_type": "stream",
     "text": [
      "+-----------+-----------+\n",
      "|  id_pedido|sum(tidade)|\n",
      "+-----------+-----------+\n",
      "|46624761513|        1.0|\n",
      "|46624774013|        1.0|\n",
      "|46624782016|        1.0|\n",
      "|46624785213|        1.0|\n",
      "|46624789516|        3.0|\n",
      "|46624794713|        1.0|\n",
      "|46624807213|        1.0|\n",
      "|46624814213|        1.0|\n",
      "|46624826716|        1.0|\n",
      "|46624829513|        1.0|\n",
      "|46624850516|        1.0|\n",
      "|46624854516|        1.0|\n",
      "|46624857013|        1.0|\n",
      "|46624857016|        1.0|\n",
      "|46624881713|        1.0|\n",
      "|46624885716|        1.0|\n",
      "|46624887216|        1.0|\n",
      "|46624893213|        1.0|\n",
      "|46624913013|        1.0|\n",
      "|46624919716|        1.0|\n",
      "+-----------+-----------+\n",
      "only showing top 20 rows\n",
      "\n"
     ]
    }
   ],
   "source": [
    "#Quantidade de produtos e agrupá-los por pedido\n",
    "quantidade_produtos = df_stage_pedidos.groupBy(\"id_pedido\").agg({\"tidade\": \"sum\"}).orderBy(\"id_pedido\")\n",
    "quantidade_produtos.show()"
   ]
  },
  {
   "cell_type": "code",
   "execution_count": 6,
   "metadata": {},
   "outputs": [
    {
     "name": "stdout",
     "output_type": "stream",
     "text": [
      "+----------+----------------+\n",
      "|id_cliente|count(id_pedido)|\n",
      "+----------+----------------+\n",
      "| 100000000|               1|\n",
      "| 100000305|               1|\n",
      "| 100000642|               3|\n",
      "| 100001250|               1|\n",
      "| 100001280|               1|\n",
      "|  10000137|               1|\n",
      "| 100001832|               2|\n",
      "| 100001940|               1|\n",
      "|  10000235|               1|\n",
      "| 100002460|               2|\n",
      "| 100002697|               1|\n",
      "| 100002787|               1|\n",
      "| 100002835|               1|\n",
      "| 100003567|               1|\n",
      "| 100003685|               1|\n",
      "| 100004077|               1|\n",
      "| 100004412|               1|\n",
      "| 100004847|               1|\n",
      "| 100004980|               1|\n",
      "| 100004992|               4|\n",
      "+----------+----------------+\n",
      "only showing top 20 rows\n",
      "\n"
     ]
    }
   ],
   "source": [
    "#Quantidade de pedidos por cliente\n",
    "quantidade_pedidos_cliente = df_stage_pedidos.groupBy(\"id_cliente\").agg({\"id_pedido\": \"count\"}).orderBy(\"id_cliente\")\n",
    "quantidade_pedidos_cliente.show()"
   ]
  },
  {
   "cell_type": "code",
   "execution_count": 7,
   "metadata": {},
   "outputs": [
    {
     "name": "stdout",
     "output_type": "stream",
     "text": [
      "+-----------+----------------+\n",
      "|id_parceiro|count(id_pedido)|\n",
      "+-----------+----------------+\n",
      "|          1|             710|\n",
      "|         10|            9839|\n",
      "|         11|             500|\n",
      "|         13|          348301|\n",
      "|         16|          389436|\n",
      "|          2|              41|\n",
      "|          3|            3475|\n",
      "|          4|              92|\n",
      "|          5|           19709|\n",
      "|          6|           62531|\n",
      "|          8|              46|\n",
      "|id_parceiro|               1|\n",
      "+-----------+----------------+\n",
      "\n"
     ]
    }
   ],
   "source": [
    "#Quantidade de pedidos por parceiro\n",
    "quantidade_pedidos_parceiro = df_stage_pedidos.groupBy(\"id_parceiro\").agg({\"id_pedido\": \"count\"}).orderBy(\"id_parceiro\")\n",
    "quantidade_pedidos_parceiro.show()"
   ]
  },
  {
   "cell_type": "code",
   "execution_count": 8,
   "metadata": {},
   "outputs": [
    {
     "name": "stdout",
     "output_type": "stream",
     "text": [
      "+---------+----------------+\n",
      "|id_filial|count(id_pedido)|\n",
      "+---------+----------------+\n",
      "|       10|             543|\n",
      "|      100|             136|\n",
      "|     1000|              26|\n",
      "|     1001|              21|\n",
      "|     1002|              23|\n",
      "|     1003|              44|\n",
      "|     1004|               9|\n",
      "|     1005|              51|\n",
      "|     1006|              61|\n",
      "|     1007|              55|\n",
      "|     1008|              21|\n",
      "|     1009|              70|\n",
      "|      101|               2|\n",
      "|     1010|              40|\n",
      "|     1011|              84|\n",
      "|     1012|              19|\n",
      "|     1013|              16|\n",
      "|     1014|              17|\n",
      "|     1015|              35|\n",
      "|     1016|              26|\n",
      "+---------+----------------+\n",
      "only showing top 20 rows\n",
      "\n"
     ]
    }
   ],
   "source": [
    "#Quantidade de pedido por filial\n",
    "quantidade_pedidos_filial = df_stage_pedidos.groupBy(\"id_filial\").agg({\"id_pedido\": \"count\"}).orderBy(\"id_filial\")\n",
    "quantidade_pedidos_filial.show()"
   ]
  },
  {
   "cell_type": "code",
   "execution_count": 9,
   "metadata": {},
   "outputs": [
    {
     "name": "stdout",
     "output_type": "stream",
     "text": [
      "+---------+---------+---------+---------------+-----------+---------+\n",
      "|id_estado|id_cidade|id_filial|      ds_filial|  ds_cidade|ds_estado|\n",
      "+---------+---------+---------+---------------+-----------+---------+\n",
      "|id_estado|id_cidade|id_filial|      ds_filial|  ds_cidade|ds_estado|\n",
      "|        2|     7241|      151|Filial - 000151| UBERLANDIA|       AC|\n",
      "|        3|       59|     1514|Filial - 001514|AGUA BRANCA|       AL|\n",
      "|        3|       59|     1431|Filial - 001431|AGUA BRANCA|       AL|\n",
      "|        3|       59|     1423|Filial - 001423|AGUA BRANCA|       AL|\n",
      "|        3|       59|     1312|Filial - 001312|AGUA BRANCA|       AL|\n",
      "|        3|       59|     1063|Filial - 001063|AGUA BRANCA|       AL|\n",
      "|        3|       59|     1006|Filial - 001006|AGUA BRANCA|       AL|\n",
      "|        3|       59|      946|Filial - 000946|AGUA BRANCA|       AL|\n",
      "|        3|       59|      813|Filial - 000813|AGUA BRANCA|       AL|\n",
      "|        3|       59|      682|Filial - 000682|AGUA BRANCA|       AL|\n",
      "|        3|       59|      611|Filial - 000611|AGUA BRANCA|       AL|\n",
      "|        3|       59|      603|Filial - 000603|AGUA BRANCA|       AL|\n",
      "|        3|       59|      590|Filial - 000590|AGUA BRANCA|       AL|\n",
      "|        3|       59|      468|Filial - 000468|AGUA BRANCA|       AL|\n",
      "|        3|       59|      414|Filial - 000414|AGUA BRANCA|       AL|\n",
      "|        3|       59|       48|Filial - 000048|AGUA BRANCA|       AL|\n",
      "|        3|      248|     1553|Filial - 001553|     ANADIA|       AL|\n",
      "|        3|      248|     1387|Filial - 001387|     ANADIA|       AL|\n",
      "|        3|      248|     1238|Filial - 001238|     ANADIA|       AL|\n",
      "+---------+---------+---------+---------------+-----------+---------+\n",
      "only showing top 20 rows\n",
      "\n"
     ]
    }
   ],
   "source": [
    "#Juntar criar df_filial que deverá ser a junção das tabelas filial, cidade e estado\n",
    "\n",
    "df_stage_filial = df_filial.join(df_cidade, \"id_cidade\", \"inner\")\\\n",
    "                           .join(df_estado, \"id_estado\", \"inner\")\n",
    "df_stage_filial.show()"
   ]
  },
  {
   "cell_type": "code",
   "execution_count": 10,
   "metadata": {},
   "outputs": [
    {
     "name": "stdout",
     "output_type": "stream",
     "text": [
      "+---------+-----------+--------------------+-----------+----------+-------------+----------+------+-----------+---------+---------+---------------+----------------+---------+\n",
      "|id_filial|  id_pedido|           dt_pedido|id_parceiro|id_cliente|vr_total_pago|id_produto|tidade|vr_unitario|id_estado|id_cidade|      ds_filial|       ds_cidade|ds_estado|\n",
      "+---------+-----------+--------------------+-----------+----------+-------------+----------+------+-----------+---------+---------+---------------+----------------+---------+\n",
      "|     1090|48443031713|2021-07-12T00:00:...|         13| 136800692|       129.99|   4335308|     1|     129.99|       33|      737|Filial - 001090|         BARUERI|       SP|\n",
      "|     1090|48472409513|2021-07-12T00:00:...|         13|  69267635|       259.99|   1375916|     1|     259.99|       33|      737|Filial - 001090|         BARUERI|       SP|\n",
      "|     1090|48454600516|2021-07-12T00:00:...|         16|  48611362|        38.99|   1087204|     1|      38.99|       33|      737|Filial - 001090|         BARUERI|       SP|\n",
      "|     1090|48474015213|2021-07-12T00:00:...|         13| 110762017|       181.99|   3007703|     1|     181.99|       33|      737|Filial - 001090|         BARUERI|       SP|\n",
      "|     1090|48433649513|2021-07-12T00:00:...|         13| 114725005|       194.99|   2450167|     1|     194.99|       33|      737|Filial - 001090|         BARUERI|       SP|\n",
      "|     1090|48469345716|2021-07-12T00:00:...|         16|  64085032|       106.59|    866295|     1|     106.59|       33|      737|Filial - 001090|         BARUERI|       SP|\n",
      "|     1090|48477626716|2021-07-13T00:00:...|         16| 140176892|       131.23|   3429400|     1|      71.44|       33|      737|Filial - 001090|         BARUERI|       SP|\n",
      "|     1090|48477626716|2021-07-13T00:00:...|         16| 140176892|       131.23|   4876008|     1|      59.79|       33|      737|Filial - 001090|         BARUERI|       SP|\n",
      "|     1090|48470836213|2021-07-12T00:00:...|         13|  46721527|       389.98|   1869081|     1|     181.99|       33|      737|Filial - 001090|         BARUERI|       SP|\n",
      "|     1090|48470836213|2021-07-12T00:00:...|         13|  46721527|       389.98|   2120894|     1|     207.99|       33|      737|Filial - 001090|         BARUERI|       SP|\n",
      "|     1090|48442153513|2021-07-12T00:00:...|         13|  50397032|        45.49|   2780304|     1|      45.49|       33|      737|Filial - 001090|         BARUERI|       SP|\n",
      "|     1090|48446389013|2021-07-12T00:00:...|         13|  45217500|       103.99|   1160225|     1|     103.99|       33|      737|Filial - 001090|         BARUERI|       SP|\n",
      "|     1159|49098483713|2021-07-25T00:00:...|         13|  63531597|        71.49|   3190936|     1|      71.49|        6|      234|Filial - 001159|AMELIA RODRIGUES|       BA|\n",
      "|     1159|49078822016|2021-07-25T00:00:...|         16|  76511377|        90.99|   3134007|     1|      90.99|        6|      234|Filial - 001159|AMELIA RODRIGUES|       BA|\n",
      "|     1159|49147908013|2021-07-26T00:00:...|         13|  13997207|       259.99|   2380477|     1|     259.99|        6|      234|Filial - 001159|AMELIA RODRIGUES|       BA|\n",
      "|     1159| 4910176376|2021-07-25T00:00:...|          6|  54512730|       259.87|    287907|     1|     259.87|        6|      234|Filial - 001159|AMELIA RODRIGUES|       BA|\n",
      "|     1159|49073085016|2021-07-25T00:00:...|         16|  28884510|       131.27|    678641|     1|      44.19|        6|      234|Filial - 001159|AMELIA RODRIGUES|       BA|\n",
      "|     1159|49073085016|2021-07-25T00:00:...|         16|  28884510|       131.27|   1867788|     1|      44.19|        6|      234|Filial - 001159|AMELIA RODRIGUES|       BA|\n",
      "|     1159|49073085016|2021-07-25T00:00:...|         16|  28884510|       131.27|   2899106|     1|      42.89|        6|      234|Filial - 001159|AMELIA RODRIGUES|       BA|\n",
      "|     1159|49074817016|2021-07-25T00:00:...|         16|   4193435|        42.89|   2899106|     1|      42.89|        6|      234|Filial - 001159|AMELIA RODRIGUES|       BA|\n",
      "+---------+-----------+--------------------+-----------+----------+-------------+----------+------+-----------+---------+---------+---------------+----------------+---------+\n",
      "only showing top 20 rows\n",
      "\n"
     ]
    }
   ],
   "source": [
    "#Juntar com o df_pedidos \n",
    "df_stage_pedidos_filiais = df_stage_pedidos.join(df_stage_filial, \"id_filial\", \"inner\")\n",
    "df_stage_pedidos_filiais.show()"
   ]
  },
  {
   "cell_type": "code",
   "execution_count": 11,
   "metadata": {},
   "outputs": [
    {
     "name": "stdout",
     "output_type": "stream",
     "text": [
      "+---------+------------------+\n",
      "|ds_estado|quantidade_pedidos|\n",
      "+---------+------------------+\n",
      "|       AC|                 1|\n",
      "|       AL|              2822|\n",
      "|       AM|                 3|\n",
      "|       BA|             10541|\n",
      "|       CE|              8042|\n",
      "|       DF|               461|\n",
      "|       ES|              2308|\n",
      "|       GO|             36273|\n",
      "|       MA|             13833|\n",
      "|       MG|            317571|\n",
      "|       MS|               270|\n",
      "|       MT|               675|\n",
      "|       PA|            235021|\n",
      "|       PB|              1992|\n",
      "|       PE|             36204|\n",
      "|       PI|              1213|\n",
      "|       PR|              7315|\n",
      "|       RJ|              1189|\n",
      "|       RN|              5419|\n",
      "|       RO|                39|\n",
      "+---------+------------------+\n",
      "only showing top 20 rows\n",
      "\n"
     ]
    }
   ],
   "source": [
    "#Ver a quantidade de pedidos por estado\n",
    "\n",
    "quantidade_pedidos_por_estado = df_stage_pedidos_filiais.groupBy(\"ds_estado\")\\\n",
    "                                                        .agg(countDistinct(\"id_pedido\")\\\n",
    "                                                        .alias(\"quantidade_pedidos\"))\\\n",
    "                                                        .orderBy(\"ds_estado\")\n",
    "quantidade_pedidos_por_estado.show()"
   ]
  },
  {
   "cell_type": "code",
   "execution_count": 17,
   "metadata": {},
   "outputs": [
    {
     "name": "stdout",
     "output_type": "stream",
     "text": [
      "+---------------+-------------+\n",
      "|      ds_filial|   total_pago|\n",
      "+---------------+-------------+\n",
      "|Filial - 000003|45,919,263.46|\n",
      "|Filial - 000231|34,355,658.88|\n",
      "|Filial - 000257| 7,456,142.40|\n",
      "|Filial - 000228| 4,656,756.52|\n",
      "|Filial - 000883| 3,634,651.34|\n",
      "|Filial - 000366| 3,475,359.19|\n",
      "|Filial - 000494| 3,276,018.21|\n",
      "|Filial - 000004| 2,630,910.31|\n",
      "|Filial - 000276| 2,513,042.62|\n",
      "|Filial - 000117| 2,351,177.63|\n",
      "+---------------+-------------+\n",
      "\n"
     ]
    }
   ],
   "source": [
    "#Top 10 filial que mais vendeu\n",
    "\n",
    "top_10_filiais_mais_vendidas = df_stage_pedidos_filiais \\\n",
    "    .groupBy(\"ds_filial\") \\\n",
    "    .agg(sum(\"vr_total_pago\").alias(\"total_pago\")) \\\n",
    "    .orderBy(desc(\"total_pago\")) \\\n",
    "    .limit(10)\n",
    "\n",
    "top_10_filiais_mais_vendidas = top_10_filiais_mais_vendidas \\\n",
    "    .withColumn(\"total_pago\", format_string(\"%,.2f\", col(\"total_pago\")))\n",
    "\n",
    "top_10_filiais_mais_vendidas.show()"
   ]
  },
  {
   "cell_type": "code",
   "execution_count": 14,
   "metadata": {},
   "outputs": [
    {
     "name": "stdout",
     "output_type": "stream",
     "text": [
      "+----------+---------+-----------+--------------------+-----------+----------+-------------+------+-----------+---------+---------+---------------+--------------------+---------+------------+---------------+--------------------+--------------------+---------------+-------------+\n",
      "|id_produto|id_filial|  id_pedido|           dt_pedido|id_parceiro|id_cliente|vr_total_pago|tidade|vr_unitario|id_estado|id_cidade|      ds_filial|           ds_cidade|ds_estado|id_categoria|id_subcategoria|          ds_produto|     ds_subcategoria|   ds_categoria|perc_parceiro|\n",
      "+----------+---------+-----------+--------------------+-----------+----------+-------------+------+-----------+---------+---------+---------------+--------------------+---------+------------+---------------+--------------------+--------------------+---------------+-------------+\n",
      "|   1003397|      675|48182063516|2021-07-06T00:00:...|         16| 138266537|        77.99|     1|      77.99|       13|       22|Filial - 000675|          ACAILANDIA|       MA|          27|           1195|Produto - 0001003397|Sub-categoria - 0...|Categoria - 027|          2.0|\n",
      "|   1003397|      675|48179521216|2021-07-06T00:00:...|         16| 138266537|        77.99|     1|      77.99|       13|       22|Filial - 000675|          ACAILANDIA|       MA|          27|           1195|Produto - 0001003397|Sub-categoria - 0...|Categoria - 027|          2.0|\n",
      "|   1003397|     1692|48219477216|2021-07-07T00:00:...|         16| 121973117|       187.18|     1|      77.99|       31|       16|Filial - 001692|        ABELARDO LUZ|       SC|          27|           1195|Produto - 0001003397|Sub-categoria - 0...|Categoria - 027|          2.0|\n",
      "|   1003397|        3|47607828216|2021-06-23T00:00:...|         16| 108122950|        70.19|     1|      70.19|       18|        1|Filial - 000003|         (BARCARENA)|       PA|          27|           1195|Produto - 0001003397|Sub-categoria - 0...|Categoria - 027|          2.0|\n",
      "|   1003397|        3|48480406716|2021-07-13T00:00:...|         16|  72652057|        77.99|     1|      77.99|       18|        1|Filial - 000003|         (BARCARENA)|       PA|          27|           1195|Produto - 0001003397|Sub-categoria - 0...|Categoria - 027|          2.0|\n",
      "|   1003397|        3|47516958216|2021-06-21T00:00:...|         16| 117046910|        70.19|     1|      70.19|       18|        1|Filial - 000003|         (BARCARENA)|       PA|          27|           1195|Produto - 0001003397|Sub-categoria - 0...|Categoria - 027|          2.0|\n",
      "|   1003397|        3|46805444516|2021-06-06T00:00:...|         16|  38325122|        77.99|     1|      77.99|       18|        1|Filial - 000003|         (BARCARENA)|       PA|          27|           1195|Produto - 0001003397|Sub-categoria - 0...|Categoria - 027|          2.0|\n",
      "|   1003397|        3|47622081016|2021-06-24T00:00:...|         16| 103788910|        70.19|     1|      70.19|       18|        1|Filial - 000003|         (BARCARENA)|       PA|          27|           1195|Produto - 0001003397|Sub-categoria - 0...|Categoria - 027|          2.0|\n",
      "|   1003397|        3|47661785216|2021-06-24T00:00:...|         16| 138107580|        70.19|     1|      70.19|       18|        1|Filial - 000003|         (BARCARENA)|       PA|          27|           1195|Produto - 0001003397|Sub-categoria - 0...|Categoria - 027|          2.0|\n",
      "|   1003397|        3|48413687216|2021-07-11T00:00:...|         16|  52892470|        77.99|     1|      77.99|       18|        1|Filial - 000003|         (BARCARENA)|       PA|          27|           1195|Produto - 0001003397|Sub-categoria - 0...|Categoria - 027|          2.0|\n",
      "|   1003397|      868|47537044516|2021-06-22T00:00:...|         16| 115631397|        70.19|     1|      70.19|       33|       80|Filial - 000868|AGUAS DE SANTA BA...|       SP|          27|           1195|Produto - 0001003397|Sub-categoria - 0...|Categoria - 027|          2.0|\n",
      "|   1003397|      276|47225965016|2021-06-15T00:00:...|         16|  13530270|        70.19|     1|      70.19|       20|       20|Filial - 000276|        ABREU E LIMA|       PE|          27|           1195|Produto - 0001003397|Sub-categoria - 0...|Categoria - 027|          2.0|\n",
      "|   1003397|       98|48145024516|2021-07-05T00:00:...|         16| 138266537|        77.99|     1|      77.99|       13|       22|Filial - 000098|          ACAILANDIA|       MA|          27|           1195|Produto - 0001003397|Sub-categoria - 0...|Categoria - 027|          2.0|\n",
      "|   1003397|      224|47587241016|2021-06-23T00:00:...|         16| 134748092|        70.19|     1|      70.19|       14|        6|Filial - 000224|              ABAETE|       MG|          27|           1195|Produto - 0001003397|Sub-categoria - 0...|Categoria - 027|          2.0|\n",
      "|   1003397|      257|48059005216|2021-07-03T00:00:...|         16| 128810420|        77.99|     1|      77.99|       11|        3|Filial - 000257|     ABADIA DE GOIAS|       GO|          27|           1195|Produto - 0001003397|Sub-categoria - 0...|Categoria - 027|          2.0|\n",
      "|   1003397|      604|46832110516|2021-06-06T00:00:...|         16|  59767425|        77.99|     1|      77.99|        7|       26|Filial - 000604|              ACARAU|       CE|          27|           1195|Produto - 0001003397|Sub-categoria - 0...|Categoria - 027|          2.0|\n",
      "|   1003397|      231|47199660716|2021-06-14T00:00:...|         16|   2238447|       140.38|     1|      70.19|       14|        2|Filial - 000231|        (LEOPOLDINA)|       MG|          27|           1195|Produto - 0001003397|Sub-categoria - 0...|Categoria - 027|          2.0|\n",
      "|   1003397|      231|47992591216|2021-07-02T00:00:...|         16|  47635522|       226.17|     1|      77.99|       14|        2|Filial - 000231|        (LEOPOLDINA)|       MG|          27|           1195|Produto - 0001003397|Sub-categoria - 0...|Categoria - 027|          2.0|\n",
      "|   1003397|      231|47588933716|2021-06-23T00:00:...|         16| 140230890|       140.38|     1|      70.19|       14|        2|Filial - 000231|        (LEOPOLDINA)|       MG|          27|           1195|Produto - 0001003397|Sub-categoria - 0...|Categoria - 027|          2.0|\n",
      "|   1003397|      869|47707010016|2021-06-26T00:00:...|         16|  36224267|       140.38|     1|      70.19|       13|       22|Filial - 000869|          ACAILANDIA|       MA|          27|           1195|Produto - 0001003397|Sub-categoria - 0...|Categoria - 027|          2.0|\n",
      "+----------+---------+-----------+--------------------+-----------+----------+-------------+------+-----------+---------+---------+---------------+--------------------+---------+------------+---------------+--------------------+--------------------+---------------+-------------+\n",
      "only showing top 20 rows\n",
      "\n"
     ]
    }
   ],
   "source": [
    "#Criar o dataframe df_stage juntando todas as bases do nosso modelo relacional\n",
    "df_stage_produto = df_produto.join(df_subcategoria, \"id_subcategoria\", \"inner\")\\\n",
    "                             .join(df_categorias, \"id_categoria\", \"inner\")\n",
    "\n",
    "df_stage = df_stage_pedidos_filiais.join(df_stage_produto, \"id_produto\", \"inner\")\n",
    "df_stage.show()"
   ]
  },
  {
   "cell_type": "code",
   "execution_count": 16,
   "metadata": {},
   "outputs": [
    {
     "name": "stdout",
     "output_type": "stream",
     "text": [
      "+----------+---------+-----------+--------------------+-----------+----------+-------------+------+-----------+---------+---------+---------------+--------------------+---------+------------+---------------+--------------------+--------------------+---------------+-------------+----+---+---+---------+\n",
      "|id_produto|id_filial|  id_pedido|           dt_pedido|id_parceiro|id_cliente|vr_total_pago|tidade|vr_unitario|id_estado|id_cidade|      ds_filial|           ds_cidade|ds_estado|id_categoria|id_subcategoria|          ds_produto|     ds_subcategoria|   ds_categoria|perc_parceiro| Ano|Mês|Dia|Trimestre|\n",
      "+----------+---------+-----------+--------------------+-----------+----------+-------------+------+-----------+---------+---------+---------------+--------------------+---------+------------+---------------+--------------------+--------------------+---------------+-------------+----+---+---+---------+\n",
      "|   1003397|      675|48182063516|2021-07-06T00:00:...|         16| 138266537|        77.99|     1|      77.99|       13|       22|Filial - 000675|          ACAILANDIA|       MA|          27|           1195|Produto - 0001003397|Sub-categoria - 0...|Categoria - 027|          2.0|2021|  7|  6|        3|\n",
      "|   1003397|      675|48179521216|2021-07-06T00:00:...|         16| 138266537|        77.99|     1|      77.99|       13|       22|Filial - 000675|          ACAILANDIA|       MA|          27|           1195|Produto - 0001003397|Sub-categoria - 0...|Categoria - 027|          2.0|2021|  7|  6|        3|\n",
      "|   1003397|     1692|48219477216|2021-07-07T00:00:...|         16| 121973117|       187.18|     1|      77.99|       31|       16|Filial - 001692|        ABELARDO LUZ|       SC|          27|           1195|Produto - 0001003397|Sub-categoria - 0...|Categoria - 027|          2.0|2021|  7|  7|        3|\n",
      "|   1003397|        3|48480406716|2021-07-13T00:00:...|         16|  72652057|        77.99|     1|      77.99|       18|        1|Filial - 000003|         (BARCARENA)|       PA|          27|           1195|Produto - 0001003397|Sub-categoria - 0...|Categoria - 027|          2.0|2021|  7| 13|        3|\n",
      "|   1003397|        3|47516958216|2021-06-21T00:00:...|         16| 117046910|        70.19|     1|      70.19|       18|        1|Filial - 000003|         (BARCARENA)|       PA|          27|           1195|Produto - 0001003397|Sub-categoria - 0...|Categoria - 027|          2.0|2021|  6| 21|        2|\n",
      "|   1003397|        3|46805444516|2021-06-06T00:00:...|         16|  38325122|        77.99|     1|      77.99|       18|        1|Filial - 000003|         (BARCARENA)|       PA|          27|           1195|Produto - 0001003397|Sub-categoria - 0...|Categoria - 027|          2.0|2021|  6|  6|        2|\n",
      "|   1003397|        3|47622081016|2021-06-24T00:00:...|         16| 103788910|        70.19|     1|      70.19|       18|        1|Filial - 000003|         (BARCARENA)|       PA|          27|           1195|Produto - 0001003397|Sub-categoria - 0...|Categoria - 027|          2.0|2021|  6| 24|        2|\n",
      "|   1003397|        3|47661785216|2021-06-24T00:00:...|         16| 138107580|        70.19|     1|      70.19|       18|        1|Filial - 000003|         (BARCARENA)|       PA|          27|           1195|Produto - 0001003397|Sub-categoria - 0...|Categoria - 027|          2.0|2021|  6| 24|        2|\n",
      "|   1003397|        3|48413687216|2021-07-11T00:00:...|         16|  52892470|        77.99|     1|      77.99|       18|        1|Filial - 000003|         (BARCARENA)|       PA|          27|           1195|Produto - 0001003397|Sub-categoria - 0...|Categoria - 027|          2.0|2021|  7| 11|        3|\n",
      "|   1003397|        3|47607828216|2021-06-23T00:00:...|         16| 108122950|        70.19|     1|      70.19|       18|        1|Filial - 000003|         (BARCARENA)|       PA|          27|           1195|Produto - 0001003397|Sub-categoria - 0...|Categoria - 027|          2.0|2021|  6| 23|        2|\n",
      "|   1003397|      868|47537044516|2021-06-22T00:00:...|         16| 115631397|        70.19|     1|      70.19|       33|       80|Filial - 000868|AGUAS DE SANTA BA...|       SP|          27|           1195|Produto - 0001003397|Sub-categoria - 0...|Categoria - 027|          2.0|2021|  6| 22|        2|\n",
      "|   1003397|      276|47225965016|2021-06-15T00:00:...|         16|  13530270|        70.19|     1|      70.19|       20|       20|Filial - 000276|        ABREU E LIMA|       PE|          27|           1195|Produto - 0001003397|Sub-categoria - 0...|Categoria - 027|          2.0|2021|  6| 15|        2|\n",
      "|   1003397|       98|48145024516|2021-07-05T00:00:...|         16| 138266537|        77.99|     1|      77.99|       13|       22|Filial - 000098|          ACAILANDIA|       MA|          27|           1195|Produto - 0001003397|Sub-categoria - 0...|Categoria - 027|          2.0|2021|  7|  5|        3|\n",
      "|   1003397|      224|47587241016|2021-06-23T00:00:...|         16| 134748092|        70.19|     1|      70.19|       14|        6|Filial - 000224|              ABAETE|       MG|          27|           1195|Produto - 0001003397|Sub-categoria - 0...|Categoria - 027|          2.0|2021|  6| 23|        2|\n",
      "|   1003397|      257|48059005216|2021-07-03T00:00:...|         16| 128810420|        77.99|     1|      77.99|       11|        3|Filial - 000257|     ABADIA DE GOIAS|       GO|          27|           1195|Produto - 0001003397|Sub-categoria - 0...|Categoria - 027|          2.0|2021|  7|  3|        3|\n",
      "|   1003397|      604|46832110516|2021-06-06T00:00:...|         16|  59767425|        77.99|     1|      77.99|        7|       26|Filial - 000604|              ACARAU|       CE|          27|           1195|Produto - 0001003397|Sub-categoria - 0...|Categoria - 027|          2.0|2021|  6|  6|        2|\n",
      "|   1003397|      231|47199660716|2021-06-14T00:00:...|         16|   2238447|       140.38|     1|      70.19|       14|        2|Filial - 000231|        (LEOPOLDINA)|       MG|          27|           1195|Produto - 0001003397|Sub-categoria - 0...|Categoria - 027|          2.0|2021|  6| 14|        2|\n",
      "|   1003397|      231|47992591216|2021-07-02T00:00:...|         16|  47635522|       226.17|     1|      77.99|       14|        2|Filial - 000231|        (LEOPOLDINA)|       MG|          27|           1195|Produto - 0001003397|Sub-categoria - 0...|Categoria - 027|          2.0|2021|  7|  2|        3|\n",
      "|   1003397|      231|47588933716|2021-06-23T00:00:...|         16| 140230890|       140.38|     1|      70.19|       14|        2|Filial - 000231|        (LEOPOLDINA)|       MG|          27|           1195|Produto - 0001003397|Sub-categoria - 0...|Categoria - 027|          2.0|2021|  6| 23|        2|\n",
      "|   1003397|      869|47707010016|2021-06-26T00:00:...|         16|  36224267|       140.38|     1|      70.19|       13|       22|Filial - 000869|          ACAILANDIA|       MA|          27|           1195|Produto - 0001003397|Sub-categoria - 0...|Categoria - 027|          2.0|2021|  6| 26|        2|\n",
      "+----------+---------+-----------+--------------------+-----------+----------+-------------+------+-----------+---------+---------+---------------+--------------------+---------+------------+---------------+--------------------+--------------------+---------------+-------------+----+---+---+---------+\n",
      "only showing top 20 rows\n",
      "\n"
     ]
    }
   ],
   "source": [
    "df_stage = df_stage \\\n",
    "    .withColumn('Ano', year('dt_pedido')) \\\n",
    "    .withColumn('Mês', month('dt_pedido')) \\\n",
    "    .withColumn('Dia', dayofmonth('dt_pedido')) \\\n",
    "    .withColumn('Trimestre', quarter('dt_pedido'))\n",
    "\n",
    "df_stage.show()"
   ]
  },
  {
   "cell_type": "code",
   "execution_count": null,
   "metadata": {},
   "outputs": [],
   "source": []
  }
 ],
 "metadata": {
  "kernelspec": {
   "display_name": "PySpark",
   "language": "python",
   "name": "pyspark"
  }
 },
 "nbformat": 4,
 "nbformat_minor": 2
}
