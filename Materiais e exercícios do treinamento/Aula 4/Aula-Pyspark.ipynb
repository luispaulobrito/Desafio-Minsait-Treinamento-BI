{
 "cells": [
  {
   "cell_type": "code",
   "execution_count": 1,
   "metadata": {},
   "outputs": [],
   "source": [
    "from pyspark.sql import SparkSession, dataframe\n",
    "from pyspark.sql.functions import when, col, sum, count, isnan, round\n",
    "from pyspark.sql.functions import regexp_replace, concat_ws, sha2, rtrim, substring\n",
    "from pyspark.sql.functions import unix_timestamp, from_unixtime, to_date\n",
    "from pyspark.sql.types import StructType, StructField\n",
    "from pyspark.sql.types import DoubleType, IntegerType, StringType\n",
    "from pyspark.sql import HiveContext\n",
    "\n",
    "import os\n",
    "import re\n",
    "\n",
    "from pyspark.sql.functions import regexp_replace\n",
    "from pyspark.sql.functions import when\n",
    "\n",
    "spark = SparkSession.builder.master(\"local[*]\")\\\n",
    "    .enableHiveSupport()\\\n",
    "    .getOrCreate()"
   ]
  },
  {
   "cell_type": "code",
   "execution_count": 36,
   "metadata": {},
   "outputs": [],
   "source": [
    "def salvar_df(df, file):\n",
    "    output = \"/input/projeto_hive/gold/\" + file\n",
    "    erase = \"hdfs dfs -rm \" + output + \"/*\"\n",
    "    rename = \"hdfs dfs -get /datalake/gold/\"+file+\"/part-* /input/projeto_hive/gold/\"+file+\".csv\"\n",
    "    print(rename)\n",
    "    \n",
    "    \n",
    "    df.coalesce(1).write\\\n",
    "        .format(\"csv\")\\\n",
    "        .option(\"header\", True)\\\n",
    "        .option(\"delimiter\", \";\")\\\n",
    "        .mode(\"overwrite\")\\\n",
    "        .save(\"/datalake/gold/\"+file+\"/\")\n",
    "\n",
    "    os.system(erase)\n",
    "    os.system(rename)"
   ]
  },
  {
   "cell_type": "code",
   "execution_count": 3,
   "metadata": {},
   "outputs": [],
   "source": [
    "df_pedidos = spark.sql(\"select * from desafio.pedidos\")\n",
    "df_categorias = spark.sql(\"select * from desafio.categorias\")\n",
    "df_clientes = spark.sql(\"select * from desafio.clientes\")\n",
    "df_item_pedidos = spark.sql(\"select * from desafio.item_pedido\")"
   ]
  },
  {
   "cell_type": "code",
   "execution_count": 4,
   "metadata": {},
   "outputs": [],
   "source": [
    "df_pedidos = df_pedidos.select('*', substring('dt_pedido', 1,4).alias('Ano'),substring('dt_pedido', 6,2).alias('Mes'), substring('dt_pedido', 9,2).alias('Dia')).where(df_pedidos.dt_pedido != 'dt_pedido')"
   ]
  },
  {
   "cell_type": "code",
   "execution_count": 5,
   "metadata": {},
   "outputs": [
    {
     "name": "stdout",
     "output_type": "stream",
     "text": [
      "+-----------+--------------------+-----------+----------+---------+-------------+----+---+---+\n",
      "|  id_pedido|           dt_pedido|id_parceiro|id_cliente|id_filial|vr_total_pago| Ano|Mes|Dia|\n",
      "+-----------+--------------------+-----------+----------+---------+-------------+----+---+---+\n",
      "|47585891513|2021-06-23T00:00:...|         13|  33752975|      166|       318.48|2021| 06| 23|\n",
      "|49524083516|2021-08-03T00:00:...|         16|  43670652|      166|       249.59|2021| 08| 03|\n",
      "|49130099513|2021-07-26T00:00:...|         13|  47130570|      166|        64.87|2021| 07| 26|\n",
      "|49579056516|2021-08-04T00:00:...|         16|  16190735|      497|        93.59|2021| 08| 04|\n",
      "| 4868385806|2021-07-16T00:00:...|          6|  74672887|      497|       311.87|2021| 07| 16|\n",
      "|49959025513|2021-08-13T00:00:...|         13|  64040325|      497|        64.99|2021| 08| 13|\n",
      "|49579056513|2021-08-04T00:00:...|         13|  16190735|      497|       376.98|2021| 08| 04|\n",
      "| 4962532626|2021-08-05T00:00:...|          6|   8571960|      497|       175.37|2021| 08| 05|\n",
      "| 4976142355|2021-08-09T00:00:...|          5|  16423425|      497|        19.37|2021| 08| 09|\n",
      "|48133497716|2021-07-05T00:00:...|         16|   9923540|      497|       103.99|2021| 07| 05|\n",
      "| 4818136776|2021-07-06T00:00:...|          6| 141467882|      497|      2963.48|2021| 07| 06|\n",
      "| 5041140326|2021-08-22T00:00:...|          6|  45289257|      497|       233.87|2021| 08| 22|\n",
      "| 4806314156|2021-07-04T00:00:...|          6|   5540992|      497|       194.87|2021| 07| 04|\n",
      "| 4962599656|2021-08-05T00:00:...|          6|  15670912|      497|       175.37|2021| 08| 05|\n",
      "| 4911411906|2021-07-26T00:00:...|          6|  50074372|      497|       363.87|2021| 07| 26|\n",
      "| 4712004206|2021-06-12T00:00:...|          6| 130610770|      497|       168.87|2021| 06| 12|\n",
      "|46713189013|2021-06-03T00:00:...|         13| 105377297|      497|        31.19|2021| 06| 03|\n",
      "|47724327713|2021-06-26T00:00:...|         13|  36090227|      497|       129.99|2021| 06| 26|\n",
      "|49902991716|2021-08-12T00:00:...|         16|  29946565|      497|        53.29|2021| 08| 12|\n",
      "|47782788213|2021-06-28T00:00:...|         13|  64633727|      497|        71.49|2021| 06| 28|\n",
      "+-----------+--------------------+-----------+----------+---------+-------------+----+---+---+\n",
      "only showing top 20 rows\n",
      "\n"
     ]
    }
   ],
   "source": [
    "df_pedidos.show()"
   ]
  },
  {
   "cell_type": "code",
   "execution_count": 4,
   "metadata": {},
   "outputs": [
    {
     "data": {
      "text/plain": [
       "733472"
      ]
     },
     "execution_count": 4,
     "metadata": {},
     "output_type": "execute_result"
    }
   ],
   "source": [
    "# mostrarem a quantidade de registros de cada tabela\n",
    "df_pedidos.count()"
   ]
  },
  {
   "cell_type": "code",
   "execution_count": 6,
   "metadata": {},
   "outputs": [
    {
     "name": "stdout",
     "output_type": "stream",
     "text": [
      "+-----------+--------------------+-----------+----------+---------+-------------+\n",
      "|  id_pedido|           dt_pedido|id_parceiro|id_cliente|id_filial|vr_total_pago|\n",
      "+-----------+--------------------+-----------+----------+---------+-------------+\n",
      "|  id_pedido|           dt_pedido|id_parceiro|id_cliente|id_filial|vr_total_pago|\n",
      "|47585891513|2021-06-23T00:00:...|         13|  33752975|      166|       318.48|\n",
      "|49524083516|2021-08-03T00:00:...|         16|  43670652|      166|       249.59|\n",
      "|49130099513|2021-07-26T00:00:...|         13|  47130570|      166|        64.87|\n",
      "|49579056516|2021-08-04T00:00:...|         16|  16190735|      497|        93.59|\n",
      "| 4868385806|2021-07-16T00:00:...|          6|  74672887|      497|       311.87|\n",
      "|49959025513|2021-08-13T00:00:...|         13|  64040325|      497|        64.99|\n",
      "|49579056513|2021-08-04T00:00:...|         13|  16190735|      497|       376.98|\n",
      "| 4962532626|2021-08-05T00:00:...|          6|   8571960|      497|       175.37|\n",
      "| 4976142355|2021-08-09T00:00:...|          5|  16423425|      497|        19.37|\n",
      "+-----------+--------------------+-----------+----------+---------+-------------+\n",
      "only showing top 10 rows\n",
      "\n"
     ]
    }
   ],
   "source": [
    "# mostrar os 10 primeiros registros das tabelas\n",
    "df_pedidos.show(10)"
   ]
  },
  {
   "cell_type": "code",
   "execution_count": 10,
   "metadata": {},
   "outputs": [
    {
     "data": {
      "text/plain": [
       "[Row(sum(vr_total_pago)=138499099.90943256)]"
      ]
     },
     "execution_count": 10,
     "metadata": {},
     "output_type": "execute_result"
    }
   ],
   "source": [
    "# valor total dos pedidos\n",
    "df_pedidos.agg(sum('vr_total_pago')).collect()"
   ]
  },
  {
   "cell_type": "code",
   "execution_count": 6,
   "metadata": {},
   "outputs": [],
   "source": [
    "# Tabela de Stage\n",
    "df = df_pedidos.join(df_item_pedidos,df_pedidos.id_pedido == df_item_pedidos.id_pedido,\"inner\")"
   ]
  },
  {
   "cell_type": "code",
   "execution_count": 4,
   "metadata": {},
   "outputs": [
    {
     "name": "stdout",
     "output_type": "stream",
     "text": [
      "+-----------+--------------------+-----------+----------+---------+-------------+-----------+----------+----------+-----------+\n",
      "|  id_pedido|           dt_pedido|id_parceiro|id_cliente|id_filial|vr_total_pago|  id_pedido|id_produto|quantidade|vr_unitario|\n",
      "+-----------+--------------------+-----------+----------+---------+-------------+-----------+----------+----------+-----------+\n",
      "|46626099016|2021-06-02T00:00:...|         16| 138633690|      547|       194.99|46626099016|   5077094|         1|     194.99|\n",
      "|46630423213|2021-06-02T00:00:...|         13| 106568537|      875|        51.99|46630423213|   3335368|         1|      51.99|\n",
      "|46630859716|2021-06-02T00:00:...|         16| 138757662|      884|        90.99|46630859716|   5053698|         1|      90.99|\n",
      "|46631152013|2021-06-02T00:00:...|         13| 138459547|      494|       129.99|46631152013|   3488193|         1|     129.99|\n",
      "|46635194213|2021-06-02T00:00:...|         13|   5534295|      194|        90.99|46635194213|   4149634|         1|      90.99|\n",
      "|46635829216|2021-06-02T00:00:...|         16| 138680502|        3|        90.99|46635829216|   3174943|         1|      90.99|\n",
      "|46636323516|2021-06-02T00:00:...|         16|  54441355|      597|        64.99|46636323516|   2398616|         1|      64.99|\n",
      "|46636461213|2021-06-02T00:00:...|         13| 123812442|      141|       246.99|46636461213|   3527649|         1|     246.99|\n",
      "|46638109716|2021-06-02T00:00:...|         16| 128992980|     1680|       324.99|46638109716|   4849669|         1|     324.99|\n",
      "|46641219513|2021-06-02T00:00:...|         13|  92878260|        3|        90.99|46641219513|    897394|         1|      90.99|\n",
      "|46644071016|2021-06-02T00:00:...|         16| 131867810|      231|        71.49|46644071016|    872394|         1|      71.49|\n",
      "|46646868713|2021-06-02T00:00:...|         13|  33538792|      276|       142.99|46646868713|   4781857|         1|     142.99|\n",
      "|46647494016|2021-06-02T00:00:...|         16|   1570482|      276|       246.99|46647494016|   2768153|         1|     246.99|\n",
      "|46648068513|2021-06-02T00:00:...|         13|  36811340|     1730|       259.99|46648068513|   3172143|         1|     259.99|\n",
      "|46651158213|2021-06-02T00:00:...|         13|  86697230|     1731|        77.99|46651158213|   4645822|         1|      77.99|\n",
      "|46651205016|2021-06-02T00:00:...|         16|  59083097|      231|        97.49|46651205016|   4255825|         1|      97.49|\n",
      "| 4665819955|2021-06-02T00:00:...|          5|  55088745|      276|       214.37| 4665819955|   4810314|         1|     214.37|\n",
      "| 4665845403|2021-06-02T00:00:...|          3|   6698845|      416|        77.87| 4665845403|   2292768|         1|      77.87|\n",
      "|46663798513|2021-06-02T00:00:...|         13|  16370715|      494|       298.99|46663798513|   2835810|         1|     298.99|\n",
      "|46664415513|2021-06-02T00:00:...|         13|   9603632|      231|        90.98|46664415513|   2291386|         1|      45.49|\n",
      "+-----------+--------------------+-----------+----------+---------+-------------+-----------+----------+----------+-----------+\n",
      "only showing top 20 rows\n",
      "\n"
     ]
    }
   ],
   "source": [
    "df.select"
   ]
  },
  {
   "cell_type": "code",
   "execution_count": 7,
   "metadata": {},
   "outputs": [],
   "source": [
    "df_stage = df.join(df_clientes,df_pedidos.id_cliente == df_clientes.id_cliente,\"left\")"
   ]
  },
  {
   "cell_type": "code",
   "execution_count": 18,
   "metadata": {},
   "outputs": [
    {
     "name": "stdout",
     "output_type": "stream",
     "text": [
      "+-----------+--------------------+-----------+----------+---------+-------------+----+---+---+-----------+----------+----------+-----------+----------+--------------------+---------+\n",
      "|  id_pedido|           dt_pedido|id_parceiro|id_cliente|id_filial|vr_total_pago| Ano|Mes|Dia|  id_pedido|id_produto|quantidade|vr_unitario|id_cliente|          nm_cliente|flag_ouro|\n",
      "+-----------+--------------------+-----------+----------+---------+-------------+----+---+---+-----------+----------+----------+-----------+----------+--------------------+---------+\n",
      "|46633620016|2021-06-02T00:00:...|         16|  10144730|      229|       129.99|2021| 06| 02|46633620016|    910023|         1|     129.99|  10144730|Cliente Magalu - ...|        0|\n",
      "|46634743216|2021-06-02T00:00:...|         16| 127381525|        3|       207.99|2021| 06| 02|46634743216|   2873607|         1|     207.99| 127381525|Cliente Magalu - ...|        0|\n",
      "|46624978716|2021-06-02T00:00:...|         16| 137461790|      231|        38.99|2021| 06| 02|46624978716|   1192001|         1|      38.99| 137461790|Cliente Magalu - ...|        1|\n",
      "|46624887216|2021-06-02T00:00:...|         16| 137461790|      231|        38.99|2021| 06| 02|46624887216|   1192001|         1|      38.99| 137461790|Cliente Magalu - ...|        1|\n",
      "| 4664101626|2021-06-02T00:00:...|          6| 138962705|      228|        71.37|2021| 06| 02| 4664101626|    312008|         1|      71.37| 138962705|Cliente Magalu - ...|        0|\n",
      "|46631786016|2021-06-02T00:00:...|         16|   4226797|      231|        90.99|2021| 06| 02|46631786016|   2655229|         1|      90.99|   4226797|Cliente Magalu - ...|        0|\n",
      "|46631691216|2021-06-02T00:00:...|         16|  43974877|     1719|        33.79|2021| 06| 02|46631691216|   4848026|         1|      33.79|  43974877|Cliente Magalu - ...|        1|\n",
      "|46631692016|2021-06-02T00:00:...|         16|  44371645|     1691|       116.99|2021| 06| 02|46631692016|   3069706|         1|     116.99|  44371645|Cliente Magalu - ...|        0|\n",
      "|46647985516|2021-06-02T00:00:...|         16|  50095430|      547|        71.49|2021| 06| 02|46647985516|   3483429|         1|      71.49|  50095430|Cliente Magalu - ...|        0|\n",
      "|46625956016|2021-06-02T00:00:...|         16|  52504757|        3|        97.49|2021| 06| 02|46625956016|   2007698|         1|      97.49|  52504757|Cliente Magalu - ...|        0|\n",
      "+-----------+--------------------+-----------+----------+---------+-------------+----+---+---+-----------+----------+----------+-----------+----------+--------------------+---------+\n",
      "only showing top 10 rows\n",
      "\n"
     ]
    }
   ],
   "source": [
    "df_stage.show(10)"
   ]
  },
  {
   "cell_type": "code",
   "execution_count": 8,
   "metadata": {},
   "outputs": [],
   "source": [
    "df_pedidos.createOrReplaceTempView(\"pedidos\")\n",
    "df_item_pedidos.createOrReplaceTempView(\"item_pedido\")\n",
    "df_clientes.createOrReplaceTempView(\"cliente\")"
   ]
  },
  {
   "cell_type": "code",
   "execution_count": 16,
   "metadata": {},
   "outputs": [
    {
     "name": "stdout",
     "output_type": "stream",
     "text": [
      "root\n",
      " |-- id_pedido: string (nullable = true)\n",
      " |-- id_produto: string (nullable = true)\n",
      " |-- quantidade: string (nullable = true)\n",
      " |-- vr_unitario: string (nullable = true)\n",
      "\n"
     ]
    }
   ],
   "source": [
    "df_item_pedidos.printSchema()"
   ]
  },
  {
   "cell_type": "code",
   "execution_count": 20,
   "metadata": {},
   "outputs": [],
   "source": [
    "df_stage_final = spark.sql(\n",
    "    '''Select p.*, ip.quantidade, ip.vr_unitario, ip.id_produto,  c.nm_cliente, c.flag_ouro from pedidos p\n",
    "       inner join item_pedido ip on p.id_pedido = ip.id_pedido\n",
    "       left join cliente c\n",
    "       on p.id_cliente = c.id_cliente\n",
    "    '''\n",
    ")"
   ]
  },
  {
   "cell_type": "code",
   "execution_count": 21,
   "metadata": {},
   "outputs": [
    {
     "name": "stdout",
     "output_type": "stream",
     "text": [
      "+-----------+------------------------+-----------+----------+---------+-------------+----+---+---+----------+-----------+----------+---------------------------+---------+\n",
      "|id_pedido  |dt_pedido               |id_parceiro|id_cliente|id_filial|vr_total_pago|Ano |Mes|Dia|quantidade|vr_unitario|id_produto|nm_cliente                 |flag_ouro|\n",
      "+-----------+------------------------+-----------+----------+---------+-------------+----+---+---+----------+-----------+----------+---------------------------+---------+\n",
      "|49523668016|2021-08-03T00:00:00.000Z|16         |100041455 |231      |64.99        |2021|08 |03 |1         |64.99      |2548610   |Cliente Magalu - 0100041455|0        |\n",
      "|48347149016|2021-07-09T00:00:00.000Z|16         |100194305 |3        |55.89        |2021|07 |09 |1         |55.89      |1207789   |Cliente Magalu - 0100194305|0        |\n",
      "|47109143513|2021-06-12T00:00:00.000Z|13         |100220472 |94       |155.99       |2021|06 |12 |1         |155.99     |4538653   |Cliente Magalu - 0100220472|0        |\n",
      "|47109807213|2021-06-12T00:00:00.000Z|13         |100220472 |94       |77.99        |2021|06 |12 |1         |77.99      |3722834   |Cliente Magalu - 0100220472|0        |\n",
      "|47230296513|2021-06-15T00:00:00.000Z|13         |100245497 |494      |454.99       |2021|06 |15 |1         |454.99     |790103    |Cliente Magalu - 0100245497|0        |\n",
      "|49841149016|2021-08-11T00:00:00.000Z|16         |100294545 |3        |53.29        |2021|08 |11 |1         |53.29      |2393919   |Cliente Magalu - 0100294545|1        |\n",
      "|49063943013|2021-07-24T00:00:00.000Z|13         |10034090  |231      |84.49        |2021|07 |24 |1         |84.49      |3618356   |Cliente Magalu - 0010034090|0        |\n",
      "|49024430213|2021-07-23T00:00:00.000Z|13         |100632917 |231      |77.99        |2021|07 |23 |1         |77.99      |1440590   |Cliente Magalu - 0100632917|0        |\n",
      "|48293426513|2021-07-08T00:00:00.000Z|13         |100632917 |231      |103.99       |2021|07 |08 |1         |103.99     |3107743   |Cliente Magalu - 0100632917|0        |\n",
      "|50690320216|2021-08-29T00:00:00.000Z|16         |10075870  |224      |233.99       |2021|08 |29 |1         |233.99     |4915226   |Cliente Magalu - 0010075870|0        |\n",
      "+-----------+------------------------+-----------+----------+---------+-------------+----+---+---+----------+-----------+----------+---------------------------+---------+\n",
      "only showing top 10 rows\n",
      "\n"
     ]
    }
   ],
   "source": [
    "df_stage_final.show(10, truncate=False)"
   ]
  },
  {
   "cell_type": "code",
   "execution_count": 22,
   "metadata": {},
   "outputs": [],
   "source": [
    "df_stage_final = df_stage_final.withColumn('PK_CLIENTE', sha2(concat_ws(\"\",df_stage_final.id_cliente, df_stage_final.nm_cliente,df_stage_final.flag_ouro), 256))"
   ]
  },
  {
   "cell_type": "code",
   "execution_count": 24,
   "metadata": {},
   "outputs": [],
   "source": [
    "df_stage_final = df_stage_final.withColumn('PK_CALENDARIO', sha2(concat_ws(\"\",df_stage_final.dt_pedido, df_stage_final.Ano,df_stage_final.Mes,df_stage_final.Dia), 256))"
   ]
  },
  {
   "cell_type": "code",
   "execution_count": 25,
   "metadata": {},
   "outputs": [
    {
     "name": "stdout",
     "output_type": "stream",
     "text": [
      "+-----------+------------------------+-----------+----------+---------+-------------+----+---+---+----------+-----------+----------+---------------------------+---------+----------------------------------------------------------------+----------------------------------------------------------------+\n",
      "|id_pedido  |dt_pedido               |id_parceiro|id_cliente|id_filial|vr_total_pago|Ano |Mes|Dia|quantidade|vr_unitario|id_produto|nm_cliente                 |flag_ouro|PK_CLIENTE                                                      |PK_CALENDARIO                                                   |\n",
      "+-----------+------------------------+-----------+----------+---------+-------------+----+---+---+----------+-----------+----------+---------------------------+---------+----------------------------------------------------------------+----------------------------------------------------------------+\n",
      "|49523668016|2021-08-03T00:00:00.000Z|16         |100041455 |231      |64.99        |2021|08 |03 |1         |64.99      |2548610   |Cliente Magalu - 0100041455|0        |3d23e8919382b735d9574328c67913b89e55d0b3c11e8e4e38e64001439bb2a8|34184fefc0b3a5157e0fa6b02cdd45e26f127f2c06b9cbf98869f470c2985886|\n",
      "|48347149016|2021-07-09T00:00:00.000Z|16         |100194305 |3        |55.89        |2021|07 |09 |1         |55.89      |1207789   |Cliente Magalu - 0100194305|0        |73f40d1b4908af92e9dd28fcc70474d223d20c26ed74f17211be2841f0c611aa|20cc9b611ed4914022c2e2725af3268129a72513bfd397d18136446688b1b0a4|\n",
      "|47109143513|2021-06-12T00:00:00.000Z|13         |100220472 |94       |155.99       |2021|06 |12 |1         |155.99     |4538653   |Cliente Magalu - 0100220472|0        |6293e4f996514322d644dfc7046f5feda88de18aba8839c747011e496a7d368b|3a7e4eeff1b179417596bd33f6bccd677043893095fba315bccffac83c7a7c75|\n",
      "|47109807213|2021-06-12T00:00:00.000Z|13         |100220472 |94       |77.99        |2021|06 |12 |1         |77.99      |3722834   |Cliente Magalu - 0100220472|0        |6293e4f996514322d644dfc7046f5feda88de18aba8839c747011e496a7d368b|3a7e4eeff1b179417596bd33f6bccd677043893095fba315bccffac83c7a7c75|\n",
      "|47230296513|2021-06-15T00:00:00.000Z|13         |100245497 |494      |454.99       |2021|06 |15 |1         |454.99     |790103    |Cliente Magalu - 0100245497|0        |133eb47a29c4edc0ff3378f63a017960bc3ca57863dcd30040f51aab6a366194|14439e4125aab703397a73ad2bc2f2e245e82ea2de683200367064078d106061|\n",
      "+-----------+------------------------+-----------+----------+---------+-------------+----+---+---+----------+-----------+----------+---------------------------+---------+----------------------------------------------------------------+----------------------------------------------------------------+\n",
      "only showing top 5 rows\n",
      "\n"
     ]
    }
   ],
   "source": [
    "df_stage_final.show(5, truncate=False)"
   ]
  },
  {
   "cell_type": "code",
   "execution_count": 26,
   "metadata": {},
   "outputs": [],
   "source": [
    "df_stage_final.createOrReplaceTempView(\"stage\")"
   ]
  },
  {
   "cell_type": "code",
   "execution_count": 28,
   "metadata": {},
   "outputs": [
    {
     "name": "stdout",
     "output_type": "stream",
     "text": [
      "+-----------+------------------------+-----------+----------+---------+-------------+----+---+---+----------+-----------+----------+---------------------------+---------+----------------------------------------------------------------+----------------------------------------------------------------+\n",
      "|id_pedido  |dt_pedido               |id_parceiro|id_cliente|id_filial|vr_total_pago|Ano |Mes|Dia|quantidade|vr_unitario|id_produto|nm_cliente                 |flag_ouro|PK_CLIENTE                                                      |PK_CALENDARIO                                                   |\n",
      "+-----------+------------------------+-----------+----------+---------+-------------+----+---+---+----------+-----------+----------+---------------------------+---------+----------------------------------------------------------------+----------------------------------------------------------------+\n",
      "|49523668016|2021-08-03T00:00:00.000Z|16         |100041455 |231      |64.99        |2021|08 |03 |1         |64.99      |2548610   |Cliente Magalu - 0100041455|0        |3d23e8919382b735d9574328c67913b89e55d0b3c11e8e4e38e64001439bb2a8|34184fefc0b3a5157e0fa6b02cdd45e26f127f2c06b9cbf98869f470c2985886|\n",
      "|48347149016|2021-07-09T00:00:00.000Z|16         |100194305 |3        |55.89        |2021|07 |09 |1         |55.89      |1207789   |Cliente Magalu - 0100194305|0        |73f40d1b4908af92e9dd28fcc70474d223d20c26ed74f17211be2841f0c611aa|20cc9b611ed4914022c2e2725af3268129a72513bfd397d18136446688b1b0a4|\n",
      "+-----------+------------------------+-----------+----------+---------+-------------+----+---+---+----------+-----------+----------+---------------------------+---------+----------------------------------------------------------------+----------------------------------------------------------------+\n",
      "only showing top 2 rows\n",
      "\n"
     ]
    }
   ],
   "source": [
    "spark.sql(\"select * from stage\").show(2, truncate=False)"
   ]
  },
  {
   "cell_type": "code",
   "execution_count": 32,
   "metadata": {},
   "outputs": [],
   "source": [
    "ft_pedidos = spark.sql(\"SELECT PK_CLIENTE, PK_CALENDARIO, COUNT(id_pedido) AS QUANTIDADE, SUM(vr_total_pago) as VALOR_TOTAL from stage group by PK_CLIENTE, PK_CALENDARIO\")"
   ]
  },
  {
   "cell_type": "code",
   "execution_count": 39,
   "metadata": {},
   "outputs": [],
   "source": [
    "df_clientes = spark.sql(\"SELECT DISTINCT PK_CLIENTE, nm_cliente, id_cliente, flag_ouro FROM STAGE\")"
   ]
  },
  {
   "cell_type": "code",
   "execution_count": 41,
   "metadata": {},
   "outputs": [],
   "source": [
    "df_calendario = spark.sql(\"SELECT DISTINCT PK_CALENDARIO, dt_pedido, Ano, Mes, Dia FROM STAGE\")"
   ]
  },
  {
   "cell_type": "code",
   "execution_count": 34,
   "metadata": {},
   "outputs": [
    {
     "name": "stdout",
     "output_type": "stream",
     "text": [
      "+----------------------------------------------------------------+----------------------------------------------------------------+----------+-----------+\n",
      "|PK_CLIENTE                                                      |PK_CALENDARIO                                                   |QUANTIDADE|VALOR_TOTAL|\n",
      "+----------------------------------------------------------------+----------------------------------------------------------------+----------+-----------+\n",
      "|9a350c8b7b2edad890ceb91de10b524ec536b9930a53f26b5e7c8d8340cf6b8a|9575b34955f33d58677d4369c6db4087457ba380fe9adecda4eb503803f3cfeb|1         |207.94     |\n",
      "|2857e1f286d99a76d8ecd447205197301766e93102809bc687f3280f947c06da|62e2135b5913bec7b997d1e8a19df56ab0296f1e0b4a10eba860c48dc337c3d2|1         |155.99     |\n",
      "|8b9f8bda6b1889fb7982ce8695d18d3d2f242f2f0a45b6e910fc7347f8d4f699|47028c02fbfb23f39a192eb5d47ccabd7aef38c45bae73e14a52268c0249c96d|1         |194.99     |\n",
      "|ed11aeeb8ea790a44e5c59d2661189b503166d942a9d6d51d3af7e62a4c34916|dbc9e0517694e7cb14178f1b295619a18f8356f2215032aed91b9a8d98ecd1b8|1         |40.29      |\n",
      "|fcc7b22f9d9bb66da63241d52d01c8a97bf9c25a0a5614d94e79b8c6564f937b|e6e6ff89ccab28d818017dd293c971a1e693a3c3120b1526de3efb27d0adf3e0|1         |103.99     |\n",
      "+----------------------------------------------------------------+----------------------------------------------------------------+----------+-----------+\n",
      "only showing top 5 rows\n",
      "\n"
     ]
    }
   ],
   "source": [
    "ft_pedidos.show(5, truncate=False)"
   ]
  },
  {
   "cell_type": "code",
   "execution_count": 37,
   "metadata": {
    "scrolled": false
   },
   "outputs": [
    {
     "name": "stdout",
     "output_type": "stream",
     "text": [
      "hdfs dfs -get /datalake/gold/ft_pedidos/part-* /input/projeto_hive/gold/ft_pedidos.csv\n"
     ]
    }
   ],
   "source": [
    "# mostrar natela a estrutura dos dataframes\n",
    "salvar_df(ft_pedidos, 'ft_pedidos')"
   ]
  },
  {
   "cell_type": "code",
   "execution_count": 43,
   "metadata": {},
   "outputs": [
    {
     "name": "stdout",
     "output_type": "stream",
     "text": [
      "hdfs dfs -get /datalake/gold/dim_clientes/part-* /input/projeto_hive/gold/dim_clientes.csv\n"
     ]
    }
   ],
   "source": [
    "salvar_df(df_clientes, 'dim_clientes')"
   ]
  },
  {
   "cell_type": "code",
   "execution_count": 42,
   "metadata": {},
   "outputs": [
    {
     "name": "stdout",
     "output_type": "stream",
     "text": [
      "hdfs dfs -get /datalake/gold/dim_calendario/part-* /input/projeto_hive/gold/dim_calendario.csv\n"
     ]
    }
   ],
   "source": [
    "salvar_df(df_calendario, 'dim_calendario')"
   ]
  }
 ],
 "metadata": {
  "kernelspec": {
   "display_name": "PySpark",
   "language": "python",
   "name": "pyspark"
  },
  "language_info": {
   "codemirror_mode": {
    "name": "ipython",
    "version": 3
   },
   "file_extension": ".py",
   "mimetype": "text/x-python",
   "name": "python",
   "nbconvert_exporter": "python",
   "pygments_lexer": "ipython3",
   "version": "3.6.10"
  }
 },
 "nbformat": 4,
 "nbformat_minor": 2
}
