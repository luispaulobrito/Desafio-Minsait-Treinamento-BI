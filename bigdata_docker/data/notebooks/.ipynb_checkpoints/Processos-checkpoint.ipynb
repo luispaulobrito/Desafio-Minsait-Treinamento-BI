{
 "cells": [
  {
   "cell_type": "code",
   "execution_count": 20,
   "metadata": {},
   "outputs": [],
   "source": [
    "from pyspark.sql import SparkSession, dataframe\n",
    "from pyspark.sql.functions import when, col, sum, count, isnan, round\n",
    "from pyspark.sql.functions import regexp_replace, concat_ws, sha2, rtrim, substring\n",
    "from pyspark.sql.functions import unix_timestamp, from_unixtime, to_date\n",
    "from pyspark.sql.types import StructType, StructField\n",
    "from pyspark.sql.types import DoubleType, IntegerType, StringType\n",
    "from pyspark.sql import HiveContext\n",
    "from pyspark.sql.functions import year, month, dayofmonth, quarter\n",
    "from pyspark.sql.types import DecimalType\n",
    "from pyspark.sql.functions import trim, regexp_replace, when, col\n",
    "\n",
    "import os\n",
    "import re\n",
    "\n",
    "from pyspark.sql.functions import regexp_replace\n",
    "from pyspark.sql.functions import when\n",
    "\n",
    "spark = SparkSession.builder.master(\"local[*]\")\\\n",
    "    .enableHiveSupport()\\\n",
    "    .getOrCreate()"
   ]
  },
  {
   "cell_type": "code",
   "execution_count": 21,
   "metadata": {},
   "outputs": [],
   "source": [
    "def salvar_df(df, file):\n",
    "    output = \"input/projeto-hive/gold/\" + file\n",
    "    erase = \"hdfs dfs -rm \" + output + \"/*\"\n",
    "    rename = \"hdfs dfs -get /datalake/gold/\"+file+\"/part-* input/projeto-hive/gold/\"+file+\".csv\"\n",
    "    \n",
    "    print(rename)    \n",
    "    \n",
    "    df.coalesce(1).write\\\n",
    "        .format(\"csv\")\\\n",
    "        .option(\"header\", True)\\\n",
    "        .option(\"delimiter\", \";\")\\\n",
    "        .mode(\"overwrite\")\\\n",
    "        .save(\"/datalake/gold/\"+file+\"/\")\n",
    "    \n",
    "    os.system(erase)\n",
    "    os.system(rename)"
   ]
  },
  {
   "cell_type": "code",
   "execution_count": 22,
   "metadata": {
    "scrolled": true
   },
   "outputs": [
    {
     "name": "stdout",
     "output_type": "stream",
     "text": [
      "+--------------------+------------+----------+---------------+------------+--------------+----------+-----------+--------------------+-----------+----------+------------+----------------------+------------+--------------------------------+-----------------+-------------------+-----------+--------------+---------+---+\n",
      "|actual_delivery_date|customer_key|  date_key|discount_amount|invoice_date|invoice_number|item_class|item_number|                item|line_number|list_price|order_number|promised_delivery_date|sales_amount|sales_amount_based_on_list_price|sales_cost_amount|sales_margin_amount|sales_price|sales_quantity|sales_rep|u_m|\n",
      "+--------------------+------------+----------+---------------+------------+--------------+----------+-----------+--------------------+-----------+----------+------------+----------------------+------------+--------------------------------+-----------------+-------------------+-----------+--------------+---------+---+\n",
      "|          28/04/2019|    10000481|28/04/2018|        -237,91|  30/04/2018|        100012|          |           |    Urban Large Eggs|       2000|         0|      200015|            28/04/2019|      237,91|                               0|                0|             237,91|     237,91|             1|      184| EA|\n",
      "|          12/07/2019|    10002220|12/07/2018|         368,79|  14/07/2018|        100233|       P01|      20910|  Moms Sliced Turkey|       1000|    824,96|      200245|            12/07/2019|      456,17|                          824,96|                0|             456,17|     456,17|             1|      127| EA|\n",
      "|          14/10/2019|    10002220|15/10/2018|         109,73|  17/10/2018|        116165|       P01|      38076|Cutting Edge Foot...|       1000|    548,66|      213157|            14/10/2019|      438,93|                          548,66|                0|             438,93|     438,93|             1|      127| EA|\n",
      "+--------------------+------------+----------+---------------+------------+--------------+----------+-----------+--------------------+-----------+----------+------------+----------------------+------------+--------------------------------+-----------------+-------------------+-----------+--------------+---------+---+\n",
      "\n",
      "+--------------+--------------------+-------+--------------------+--------------------+--------------------+--------------------+-----+------------+\n",
      "|address_number|                city|country|  customer_address_1|  customer_address_2|  customer_address_3|  customer_address_4|state|    zip_code|\n",
      "+--------------+--------------------+-------+--------------------+--------------------+--------------------+--------------------+-----+------------+\n",
      "|      10000000|               Akron|     US|         PO Box 6258|                 ...|                 ...|                 ...|   OH|       44312|\n",
      "|      10000453|                 ...|     UK|                 ...|                 ...|                 ...|                 ...|     |            |\n",
      "|      10000455|    Huntington Beach|     US|   7392 Count Circle|                 ...|                 ...|                 ...|   CA|       92647|\n",
      "+--------------+--------------------+-------+--------------------+--------------------+--------------------+--------------------+-----+------------+\n",
      "\n",
      "+--------------+--------------------+-------------+--------------------+------------+-------------+--------+----------------+------------+-----------+------------------+-----------+\n",
      "|address_number|business_family_name|business_unit|            customer|customer_key|customer_type|division|line_of_business|       phone|region_code|regional_sales_mgr|search_type|\n",
      "+--------------+--------------------+-------------+--------------------+------------+-------------+--------+----------------+------------+-----------+------------------+-----------+\n",
      "|      10000000|                  R3|            1|    City Supermarket|    10000000|           G2|       2|                |816-455-8733|          4|               S16|          C|\n",
      "|      10000453|                  R3|            1|       A Supermarket|    10000453|           G1|       1|                |816-455-8733|          5|               S19|          C|\n",
      "|      10000455|                  R3|            1|Caribian Supermarket|    10000455|           G2|       2|                |816-455-8733|          1|               S16|          C|\n",
      "+--------------+--------------------+-------------+--------------------+------------+-------------+--------+----------------+------------+-----------+------------------+-----------+\n",
      "\n",
      "+--------+-------------+\n",
      "|division|division_name|\n",
      "+--------+-------------+\n",
      "|       1|International|\n",
      "|       2|     Domestic|\n",
      "+--------+-------------+\n",
      "\n",
      "+-----------+-------------+\n",
      "|region_code|  region_name|\n",
      "+-----------+-------------+\n",
      "|          0|       Canada|\n",
      "|          1|      Western|\n",
      "|          2|     Southern|\n",
      "|          3|    Northeast|\n",
      "|          4|      Central|\n",
      "|          5|International|\n",
      "+-----------+-------------+\n",
      "\n"
     ]
    }
   ],
   "source": [
    "# df_clientes = spark.sql(\"select * from desafio_curso.clientes\")\n",
    "# df_divisao = spark.sql(\"select * from desafio_curso.divisao\")\n",
    "# df_regiao = spark.sql(\"select * from desafio_curso.regiao\")\n",
    "# df_vendas = spark.sql(\"select * from desafio_curso.vendas\")\n",
    "\n",
    "# df_clientes = spark.sql(\"select * from desafio_curso.clientes\")\n",
    "# df_divisao = spark.sql(\"select * from desafio_curso.divisao\")\n",
    "# df_regiao = spark.sql(\"select * from desafio_curso.regiao\")\n",
    "# df_vendas = spark.sql(\"select * from desafio_curso.vendas\")\n",
    "\n",
    "# Carregar tabela endereco e remover a primeira linha que copiou o cabeçalho\n",
    "df_endereco = spark.read.table(\"desafio_curso.endereco\")\n",
    "rdd = df_endereco.rdd.zipWithIndex().filter(lambda x: x[1] > 0).map(lambda x: x[0])\n",
    "df_endereco = rdd.toDF(df_endereco.schema)\n",
    "\n",
    "# Carregar tabela clientes e remover a primeira linha que copiou o cabeçalho\n",
    "df_clientes = spark.read.table(\"desafio_curso.clientes\")\n",
    "rdd = df_clientes.rdd.zipWithIndex().filter(lambda x: x[1] > 0).map(lambda x: x[0])\n",
    "df_clientes = rdd.toDF(df_clientes.schema)\n",
    "\n",
    "# Carregar tabela divisao e remover a primeira linha que copiou o cabeçalho\n",
    "df_divisao = spark.read.table(\"desafio_curso.divisao\")\n",
    "rdd = df_divisao.rdd.zipWithIndex().filter(lambda x: x[1] > 0).map(lambda x: x[0])\n",
    "df_divisao = rdd.toDF(df_divisao.schema)\n",
    "\n",
    "# Carregar tabela regiao e remover a primeira linha que copiou o cabeçalho\n",
    "df_regiao = spark.read.table(\"desafio_curso.regiao\")\n",
    "rdd = df_regiao.rdd.zipWithIndex().filter(lambda x: x[1] > 0).map(lambda x: x[0])\n",
    "df_regiao = rdd.toDF(df_regiao.schema)\n",
    "\n",
    "# Carregar tabela regiao e remover a primeira linha que copiou o cabeçalho\n",
    "df_vendas = spark.read.table(\"desafio_curso.vendas\")\n",
    "rdd = df_vendas.rdd.zipWithIndex().filter(lambda x: x[1] > 0).map(lambda x: x[0])\n",
    "df_vendas = rdd.toDF(df_vendas.schema)\n",
    "\n",
    "df_vendas.limit(3).show()\n",
    "df_endereco.limit(3).show()\n",
    "df_clientes.limit(3).show()\n",
    "df_divisao.show()\n",
    "df_regiao.show()\n"
   ]
  },
  {
   "cell_type": "code",
   "execution_count": 23,
   "metadata": {},
   "outputs": [
    {
     "name": "stdout",
     "output_type": "stream",
     "text": [
      "Total sales amount: 26409762.0\n",
      "Número de linhas: 65535\n"
     ]
    }
   ],
   "source": [
    "from pyspark.sql.functions import sum\n",
    "\n",
    "# Somar os valores da coluna \"sales_amount\" no DataFrame \"df_stage\"\n",
    "total_sales_amount = df_vendas.agg(sum(\"sales_amount\")).collect()[0][0]\n",
    "\n",
    "# Imprimir o resultado\n",
    "print(\"Total sales amount:\", total_sales_amount)\n",
    "\n",
    "# Contar a quantidade de linhas no DataFrame \"df_vendas\"\n",
    "# num_rows = df_vendas.count()\n",
    "num_rows = df_vendas.count()\n",
    "\n",
    "# Imprimir o resultado\n",
    "print(\"Número de linhas:\", num_rows)"
   ]
  },
  {
   "cell_type": "code",
   "execution_count": 57,
   "metadata": {},
   "outputs": [],
   "source": [
    "#limpar linhas duplicadas em clientes\n",
    "df_clientes = df_clientes.dropDuplicates(['customer_key'])\n",
    "df_endereco = df_endereco.dropDuplicates(['address_number'])\n",
    "\n"
   ]
  },
  {
   "cell_type": "code",
   "execution_count": 58,
   "metadata": {},
   "outputs": [
    {
     "name": "stdout",
     "output_type": "stream",
     "text": [
      "Total sales amount: 26409762.0\n",
      "Número de linhas: 65535\n"
     ]
    }
   ],
   "source": [
    "from pyspark.sql.functions import sum\n",
    "\n",
    "# Somar os valores da coluna \"sales_amount\" no DataFrame \"df_stage\"\n",
    "total_sales_amount = df_vendas.agg(sum(\"sales_amount\")).collect()[0][0]\n",
    "\n",
    "# Imprimir o resultado\n",
    "print(\"Total sales amount:\", total_sales_amount)\n",
    "\n",
    "# Contar a quantidade de linhas no DataFrame \"df_vendas\"\n",
    "# num_rows = df_vendas.count()\n",
    "num_rows = df_vendas.count()\n",
    "\n",
    "# Imprimir o resultado\n",
    "print(\"Número de linhas:\", num_rows)"
   ]
  },
  {
   "cell_type": "code",
   "execution_count": 59,
   "metadata": {},
   "outputs": [
    {
     "name": "stdout",
     "output_type": "stream",
     "text": [
      "+--------------------+------------+----------+---------------+------------+--------------+----------+-----------+--------------------+-----------+----------+------------+----------------------+------------+--------------------------------+-----------------+-------------------+-----------+--------------+---------+---+--------------+--------------------+-------------+-------------------+------------+-------------+--------+----------------+------------+-----------+------------------+-----------+\n",
      "|actual_delivery_date|customer_key|  date_key|discount_amount|invoice_date|invoice_number|item_class|item_number|                item|line_number|list_price|order_number|promised_delivery_date|sales_amount|sales_amount_based_on_list_price|sales_cost_amount|sales_margin_amount|sales_price|sales_quantity|sales_rep|u_m|address_number|business_family_name|business_unit|           customer|customer_key|customer_type|division|line_of_business|       phone|region_code|regional_sales_mgr|search_type|\n",
      "+--------------------+------------+----------+---------------+------------+--------------+----------+-----------+--------------------+-----------+----------+------------+----------------------+------------+--------------------------------+-----------------+-------------------+-----------+--------------+---------+---+--------------+--------------------+-------------+-------------------+------------+-------------+--------+----------------+------------+-----------+------------------+-----------+\n",
      "|          26/05/2019|    10004516|25/05/2018|       96627,94|  27/05/2018|        103341|       P01|      60776|High Top Sweet Onion|       1000|    408,52|      203785|            26/05/2019|    89248,66|                        185876,6|                0|           89248,66|196,1509011|           455|      124| SE|      10004516|                  R3|            1|      Besicorp Shop|    10004516|           G1|       1|              M1|816-455-8733|          5|               S19|          C|\n",
      "|          28/05/2019|    10004516|28/05/2018|          -1950|  30/05/2018|        103610|          |           |Best Choice Fudge...|       2000|         0|      203785|            28/05/2019|        1950|                               0|                0|               1950|       1950|             1|      124| EA|      10004516|                  R3|            1|      Besicorp Shop|    10004516|           G1|       1|              M1|816-455-8733|          5|               S19|          C|\n",
      "|          14/09/2019|    10009606|14/09/2018|      1287,3476|  16/09/2018|        100445|       P01|      17801|Better Fancy Cann...|       3000| 1379,7938|      200478|            14/09/2019|     1472,24|                       2759,5876|                0|            1472,24|     736,12|             2|      118| EA|      10009606|                  R3|            1|   Champs Gigaplace|    10009606|           G1|       1|              M1|816-455-8733|          5|               S19|          C|\n",
      "|          14/09/2019|    10009606|14/09/2018|        4764,33|  16/09/2018|        100445|       P01|      48500|Red Spade Low Fat...|       1000|   1134,77|      200478|            14/09/2019|      5448,6|                        10212,93|                0|             5448,6|      605,4|             9|      118| EA|      10009606|                  R3|            1|   Champs Gigaplace|    10009606|           G1|       1|              M1|816-455-8733|          5|               S19|          C|\n",
      "|          16/06/2019|    10009356|16/06/2018|         608,08|  18/06/2018|        105481|       P01|      62550|    Tell Tale Garlic|      29000|       575|      205213|            16/06/2019|      541,92|                            1150|                0|             541,92|     270,96|             2|      103| EA|      10009356|                  R1|            1|Central Supermarket|    10009356|           G2|       2|                |816-455-8733|          4|               S11|          C|\n",
      "|          16/06/2019|    10009356|16/06/2018|          424,8|  18/06/2018|        105481|       P01|      60794|    High Top Walnuts|      18000|     51,88|      205213|            16/06/2019|       353,4|                           778,2|                0|              353,4|      23,56|            15|      103| EA|      10009356|                  R1|            1|Central Supermarket|    10009356|           G2|       2|                |816-455-8733|          4|               S11|          C|\n",
      "|          16/06/2019|    10009356|16/06/2018|        13492,8|  18/06/2018|        105481|       P01|      36001|Big Time Frozen C...|       9000|    412,03|      205213|            16/06/2019|       11229|                         24721,8|                0|              11229|     187,15|            60|      103| EA|      10009356|                  R1|            1|Central Supermarket|    10009356|           G2|       2|                |816-455-8733|          4|               S11|          C|\n",
      "|          16/06/2019|    10009356|16/06/2018|        10481,1|  18/06/2018|        105481|       P01|      38076|Cutting Edge Foot...|      13000|    548,66|      205213|            16/06/2019|        8722|                         19203,1|                0|               8722|      249,2|            35|      103| EA|      10009356|                  R1|            1|Central Supermarket|    10009356|           G2|       2|                |816-455-8733|          4|               S11|          C|\n",
      "|          16/06/2019|    10009356|16/06/2018|       404,1465|  18/06/2018|        105481|       P01|      61484|Super Creamy Pean...|      37000|   50,5051|      205213|            16/06/2019|      353,43|                        757,5765|                0|             353,43|     23,562|            15|      103| EA|      10009356|                  R1|            1|Central Supermarket|    10009356|           G2|       2|                |816-455-8733|          4|               S11|          C|\n",
      "|          01/06/2019|    10002489|01/06/2018|        -211,75|  03/06/2018|        100096|          |           |            Kiwi Lox|       1000|         0|      200107|            01/06/2019|      211,75|                               0|                0|             211,75|     211,75|             1|      160| EA|      10002489|                  R3|            1|    ACT Supermarket|    10002489|           G2|       2|                |816-455-8733|          2|               S16|          C|\n",
      "|          12/07/2019|    10002220|12/07/2018|         368,79|  14/07/2018|        100233|       P01|      20910|  Moms Sliced Turkey|       1000|    824,96|      200245|            12/07/2019|      456,17|                          824,96|                0|             456,17|     456,17|             1|      127| EA|      10002220|                  R3|            1|         ACRON Shop|    10002220|           G3|       1|                |816-455-8733|          0|                S5|          C|\n",
      "|          14/10/2019|    10002220|15/10/2018|         109,73|  17/10/2018|        116165|       P01|      38076|Cutting Edge Foot...|       1000|    548,66|      213157|            14/10/2019|      438,93|                          548,66|                0|             438,93|     438,93|             1|      127| EA|      10002220|                  R3|            1|         ACRON Shop|    10002220|           G3|       1|                |816-455-8733|          0|                S5|          C|\n",
      "|          12/05/2019|    10009652|12/05/2018|             91|  14/05/2018|        102256|          |      63113|Landslide Columbi...|       1000|      5,61|      202989|            12/05/2019|      1872,5|                          1963,5|                0|             1872,5|       5,35|           350|      145| EA|      10009652|                  R1|            1|           Dci Shop|    10009652|           G3|       1|                |816-455-8733|          0|               S21|          C|\n",
      "|          12/05/2019|    10009652|12/05/2018|           -700|  14/05/2018|        102256|          |           |High Top Dried Mu...|       2000|         0|      202989|            12/05/2019|         700|                               0|                0|                700|          2|           350|      145| EA|      10009652|                  R1|            1|           Dci Shop|    10009652|           G3|       1|                |816-455-8733|          0|               S21|          C|\n",
      "|          01/09/2019|    10007866|01/09/2018|        371,014|  03/09/2018|        100403|       P01|      20910|  Moms Sliced Turkey|       2000|   795,314|      200436|            01/09/2019|       424,3|                         795,314|                0|              424,3|      424,3|             1|      149| EA|      10007866|                  R3|            1|        Camros Shop|    10007866|           G1|       1|              M1|816-455-8733|          5|               S16|          C|\n",
      "|          04/11/2019|    10009907|04/11/2018|          786,6|  06/11/2018|        117815|       P01|      38050|Gorilla Chocolate...|       2000|    301,23|      200706|            04/11/2019|      418,32|                         1204,92|                0|             418,32|     104,58|             4|      167| EA|      10009907|                  R2|            1|    Del Supermarket|    10009907|           G2|       2|                |816-455-8733|          2|                S9|          C|\n",
      "|          04/06/2019|    10009633|08/06/2018|        -526,64|  10/06/2018|        104708|          |      38631|    Jumbo Large Eggs|       1000|         0|      204575|            04/06/2019|      526,64|                               0|                0|             526,64|     526,64|             1|      127| EA|      10009633|                  R3|            1|          Dan Store|    10009633|           G2|       1|                |816-455-8733|          5|               S16|          C|\n",
      "|          16/08/2019|    10009633|18/08/2018|              0|  20/08/2018|        100379|       P01|      60449|High Top Corn on ...|       1000|    346,53|      200397|            16/08/2019|      346,53|                          346,53|                0|             346,53|     346,53|             1|      127| EA|      10009633|                  R3|            1|          Dan Store|    10009633|           G2|       1|                |816-455-8733|          5|               S16|          C|\n",
      "|          17/06/2019|    10010884|17/06/2018|         499,44|  19/06/2018|        105615|       P01|      38007| Gorilla Jack Cheese|       1000|      1103|      205323|            17/06/2019|      603,56|                            1103|                0|             603,56|     603,56|             1|      105| EA|      10010884|                  R3|            1|    EDC Supermarket|    10010884|           G3|       1|              M1|816-455-8733|          0|                S5|          C|\n",
      "|          28/04/2019|    10000481|28/04/2018|        -237,91|  30/04/2018|        100012|          |           |    Urban Large Eggs|       2000|         0|      200015|            28/04/2019|      237,91|                               0|                0|             237,91|     237,91|             1|      184| EA|      10000481|                  R2|            1|        Abbott Shop|    10000481|           G2|       2|                |816-455-8733|          4|                S5|          C|\n",
      "+--------------------+------------+----------+---------------+------------+--------------+----------+-----------+--------------------+-----------+----------+------------+----------------------+------------+--------------------------------+-----------------+-------------------+-----------+--------------+---------+---+--------------+--------------------+-------------+-------------------+------------+-------------+--------+----------------+------------+-----------+------------------+-----------+\n",
      "only showing top 20 rows\n",
      "\n"
     ]
    },
    {
     "ename": "AttributeError",
     "evalue": "'NoneType' object has no attribute 'limit'",
     "output_type": "error",
     "traceback": [
      "\u001b[0;31m---------------------------------------------------------------------------\u001b[0m",
      "\u001b[0;31mAttributeError\u001b[0m                            Traceback (most recent call last)",
      "\u001b[0;32m<ipython-input-59-a846f0005f9e>\u001b[0m in \u001b[0;36m<module>\u001b[0;34m()\u001b[0m\n\u001b[1;32m     10\u001b[0m \u001b[0;34m\u001b[0m\u001b[0m\n\u001b[1;32m     11\u001b[0m \u001b[0;34m\u001b[0m\u001b[0m\n\u001b[0;32m---> 12\u001b[0;31m \u001b[0mdf_stage\u001b[0m\u001b[0;34m.\u001b[0m\u001b[0mshow\u001b[0m\u001b[0;34m(\u001b[0m\u001b[0;34m)\u001b[0m\u001b[0;34m.\u001b[0m\u001b[0mlimit\u001b[0m\u001b[0;34m(\u001b[0m\u001b[0;36m3\u001b[0m\u001b[0;34m)\u001b[0m\u001b[0;34m\u001b[0m\u001b[0;34m\u001b[0m\u001b[0m\n\u001b[0m",
      "\u001b[0;31mAttributeError\u001b[0m: 'NoneType' object has no attribute 'limit'"
     ]
    }
   ],
   "source": [
    "#Fazer um tabelão\n",
    "\n",
    "# df_stage = df_vendas.join(df_clientes, \"customer_key\", \"left\")\n",
    "# # \\\n",
    "# #                                 .join(df_endereco, \"address_number\", \"inner\")\\\n",
    "# #                                 .join(df_divisao, \"division\", \"left\")\\\n",
    "# #                                 .join(df_regiao, \"region_code\", \"left\")\n",
    "\n",
    "df_stage = df_vendas.join(df_clientes,df_vendas.customer_key == df_clientes.customer_key,\"left\")\n",
    "\n",
    "\n",
    "df_stage.show().limit(3)"
   ]
  },
  {
   "cell_type": "code",
   "execution_count": 60,
   "metadata": {},
   "outputs": [
    {
     "name": "stdout",
     "output_type": "stream",
     "text": [
      "Total sales amount: 26409762.0\n",
      "65535\n",
      "65535\n",
      "683\n",
      "65535\n"
     ]
    }
   ],
   "source": [
    "from pyspark.sql.functions import sum\n",
    "\n",
    "# Somar os valores da coluna \"sales_amount\" no DataFrame \"df_stage\"\n",
    "total_sales_amount = df_stage.agg(sum(\"sales_amount\")).collect()[0][0]\n",
    "\n",
    "# Imprimir o resultado\n",
    "print(\"Total sales amount:\", total_sales_amount)\n",
    "print(df_vendas.count())\n",
    "\n",
    "print(df_vendas.count())\n",
    "print(df_clientes.count())\n",
    "print(df_stage.count())"
   ]
  },
  {
   "cell_type": "code",
   "execution_count": 61,
   "metadata": {},
   "outputs": [],
   "source": [
    "df_stage = df_stage.join(df_endereco,df_stage.address_number == df_endereco.address_number,\"left\")"
   ]
  },
  {
   "cell_type": "code",
   "execution_count": 62,
   "metadata": {},
   "outputs": [
    {
     "name": "stdout",
     "output_type": "stream",
     "text": [
      "Total sales amount: 26409762.0\n",
      "65535\n",
      "65535\n",
      "683\n",
      "65535\n"
     ]
    }
   ],
   "source": [
    "from pyspark.sql.functions import sum\n",
    "\n",
    "# Somar os valores da coluna \"sales_amount\" no DataFrame \"df_stage\"\n",
    "total_sales_amount = df_stage.agg(sum(\"sales_amount\")).collect()[0][0]\n",
    "\n",
    "# Imprimir o resultado\n",
    "print(\"Total sales amount:\", total_sales_amount)\n",
    "print(df_vendas.count())\n",
    "\n",
    "print(df_vendas.count())\n",
    "print(df_clientes.count())\n",
    "print(df_stage.count())"
   ]
  },
  {
   "cell_type": "code",
   "execution_count": 63,
   "metadata": {},
   "outputs": [],
   "source": [
    "# #Fazer um tabelão\n",
    "\n",
    "# df_stage_clientes_localidade = df_clientes.join(df_endereco, \"address_number\", \"inner\")\\\n",
    "#                                 .join(df_divisao, \"division\", \"inner\")\\\n",
    "#                                 .join(df_regiao, \"region_code\", \"inner\")\\\n",
    "#                                 .join(df_vendas, \"customer_key\", \"inner\")\n",
    "\n",
    "# df_stage_clientes_localidade.show()"
   ]
  },
  {
   "cell_type": "code",
   "execution_count": 67,
   "metadata": {},
   "outputs": [
    {
     "name": "stdout",
     "output_type": "stream",
     "text": [
      "+------------+-----------+--------+--------------+--------------------+-------------+-----------+-------------+----------------+------------+------------------+-----------+--------+-------+-------------------+--------------------+--------------------+--------------------+-----+--------+-------------+-----------+--------------------+----------+---------------+------------+--------------+----------+-----------+--------------------+-----------+----------+------------+----------------------+------------+--------------------------------+-----------------+-------------------+-----------+--------------+---------+---+----+---+---+---------+\n",
      "|customer_key|region_code|division|address_number|business_family_name|business_unit|   customer|customer_type|line_of_business|       phone|regional_sales_mgr|search_type|    city|country| customer_address_1|  customer_address_2|  customer_address_3|  customer_address_4|state|zip_code|division_name|region_name|actual_delivery_date|  date_key|discount_amount|invoice_date|invoice_number|item_class|item_number|                item|line_number|list_price|order_number|promised_delivery_date|sales_amount|sales_amount_based_on_list_price|sales_cost_amount|sales_margin_amount|sales_price|sales_quantity|sales_rep|u_m| Ano|Mes|Dia|Trimestre|\n",
      "+------------+-----------+--------+--------------+--------------------+-------------+-----------+-------------+----------------+------------+------------------+-----------+--------+-------+-------------------+--------------------+--------------------+--------------------+-----+--------+-------------+-----------+--------------------+----------+---------------+------------+--------------+----------+-----------+--------------------+-----------+----------+------------+----------------------+------------+--------------------------------+-----------------+-------------------+-----------+--------------+---------+---+----+---+---+---------+\n",
      "|    10000472|          1|       2|      10000472|                  R3|            1|Aaron Store|           G2|                |816-455-8733|                S4|          C|Van Nuys|     US|8000 Haskell Avenue|                 ...|                 ...|                 ...|   CA|   91406|     Domestic|    Western|          19/01/2019|19/01/2018|         363,99|  2018-01-21|        120547|       P01|      61752|Carlson Cheese Sp...|       1000|    803,86|      216973|            19/01/2019|      439,87|                          803,86|           474,05|             -34,18|     439,87|             1|      119| EA|2018|  1| 21|        1|\n",
      "|    10000472|          1|       2|      10000472|                  R3|            1|Aaron Store|           G2|                |816-455-8733|                S4|          C|Van Nuys|     US|8000 Haskell Avenue|                 ...|                 ...|                 ...|   CA|   91406|     Domestic|    Western|          23/01/2019|23/01/2018|         919,75|  2018-01-25|        121031|       P01|      27550|   Imagine Popsicles|       2000|   1084,61|      217830|            23/01/2019|     1249,47|                         2169,22|           605,31|             644,16|    624,735|             2|      119| EA|2018|  1| 25|        1|\n",
      "|    10000472|          1|       2|      10000472|                  R3|            1|Aaron Store|           G2|                |816-455-8733|                S4|          C|Van Nuys|     US|8000 Haskell Avenue|                 ...|                 ...|                 ...|   CA|   91406|     Domestic|    Western|          23/01/2019|23/01/2018|         224,79|  2018-01-25|        121031|       P01|      29312|  Discover Spaghetti|       5000|     44,18|      217830|            23/01/2019|      305,37|                          530,16|           158,73|             146,64|    25,4475|            12|      119| EA|2018|  1| 25|        1|\n",
      "|    10000472|          1|       2|      10000472|                  R3|            1|Aaron Store|           G2|                |816-455-8733|                S4|          C|Van Nuys|     US|8000 Haskell Avenue|                 ...|                 ...|                 ...|   CA|   91406|     Domestic|    Western|          23/01/2019|23/01/2018|         398,38|  2018-01-25|        121031|       P01|      26502|Bravo Large Canne...|       1000|    939,57|      217830|            23/01/2019|      541,19|                          939,57|           273,05|             268,14|     541,19|             1|      119| EA|2018|  1| 25|        1|\n",
      "|    10000472|          1|       2|      10000472|                  R3|            1|Aaron Store|           G2|                |816-455-8733|                S4|          C|Van Nuys|     US|8000 Haskell Avenue|                 ...|                 ...|                 ...|   CA|   91406|     Domestic|    Western|          23/01/2019|23/01/2018|      1346,6403|  2018-01-25|        121031|       P01|      28500|        Ebony Squash|       3000| 1058,6801|      217830|            23/01/2019|      1829,4|                       3176,0403|           928,93|             900,47|      609,8|             3|      119| EA|2018|  1| 25|        1|\n",
      "|    10000472|          1|       2|      10000472|                  R3|            1|Aaron Store|           G2|                |816-455-8733|                S4|          C|Van Nuys|     US|8000 Haskell Avenue|                 ...|                 ...|                 ...|   CA|   91406|     Domestic|    Western|          23/01/2019|23/01/2018|         435,15|  2018-01-25|        121031|       P01|      26370|Bravo Canned Tomatos|       4000|    205,26|      217830|            23/01/2019|      591,15|                          1026,3|           287,69|             303,46|     118,23|             5|      119| EA|2018|  1| 25|        1|\n",
      "|    10000472|          1|       2|      10000472|                  R3|            1|Aaron Store|           G2|                |816-455-8733|                S4|          C|Van Nuys|     US|8000 Haskell Avenue|                 ...|                 ...|                 ...|   CA|   91406|     Domestic|    Western|          09/02/2019|09/02/2018|         334,45|  2018-02-11|        122466|       P01|      28761|   Ebony Fuji Apples|       1000|    157,76|      218734|            09/02/2019|      454,35|                           788,8|           238,73|             215,62|      90,87|             5|      119| SE|2018|  2| 11|        1|\n",
      "|    10000472|          1|       2|      10000472|                  R3|            1|Aaron Store|           G2|                |816-455-8733|                S4|          C|Van Nuys|     US|8000 Haskell Avenue|                 ...|                 ...|                 ...|   CA|   91406|     Domestic|    Western|          20/02/2019|20/02/2018|         334,45|  2018-02-22|        123476|       P01|      28761|   Ebony Fuji Apples|       5000|    157,76|      219480|            20/02/2019|      454,35|                           788,8|           238,73|             215,62|      90,87|             5|      119| SE|2018|  2| 22|        1|\n",
      "|    10000472|          1|       2|      10000472|                  R3|            1|Aaron Store|           G2|                |816-455-8733|                S4|          C|Van Nuys|     US|8000 Haskell Avenue|                 ...|                 ...|                 ...|   CA|   91406|     Domestic|    Western|          20/02/2019|20/02/2018|         253,65|  2018-02-22|        123476|       P01|      25300|   Fast Dried Apples|       1000|    199,41|      219480|            20/02/2019|      344,58|                          598,23|           167,81|             176,77|     114,86|             3|      119| EA|2018|  2| 22|        1|\n",
      "|    10000472|          1|       2|      10000472|                  R3|            1|Aaron Store|           G2|                |816-455-8733|                S4|          C|Van Nuys|     US|8000 Haskell Avenue|                 ...|                 ...|                 ...|   CA|   91406|     Domestic|    Western|          20/02/2019|20/02/2018|         374,65|  2018-02-22|        123476|       P01|      29312|  Discover Spaghetti|       2000|     44,18|      219480|            20/02/2019|      508,95|                           883,6|           264,56|             244,39|    25,4475|            20|      119| EA|2018|  2| 22|        1|\n",
      "|    10000472|          1|       2|      10000472|                  R3|            1|Aaron Store|           G2|                |816-455-8733|                S4|          C|Van Nuys|     US|8000 Haskell Avenue|                 ...|                 ...|                 ...|   CA|   91406|     Domestic|    Western|          03/03/2019|03/03/2018|         253,65|  2018-03-05|        124390|       P01|      25300|   Fast Dried Apples|       1000|    199,41|      220087|            03/03/2019|      344,58|                          598,23|           167,81|             176,77|     114,86|             3|      119| EA|2018|  3|  5|        1|\n",
      "|    10000472|          1|       2|      10000472|                  R3|            1|Aaron Store|           G2|                |816-455-8733|                S4|          C|Van Nuys|     US|8000 Haskell Avenue|                 ...|                 ...|                 ...|   CA|   91406|     Domestic|    Western|          05/03/2019|05/03/2018|         363,99|  2018-03-07|        124591|       P01|      61752|Carlson Cheese Sp...|       1000|    803,86|      220197|            05/03/2019|      439,87|                          803,86|           389,73|              50,14|     439,87|             1|      119| EA|2018|  3|  7|        1|\n",
      "|    10000472|          1|       2|      10000472|                  R3|            1|Aaron Store|           G2|                |816-455-8733|                S4|          C|Van Nuys|     US|8000 Haskell Avenue|                 ...|                 ...|                 ...|   CA|   91406|     Domestic|    Western|          11/03/2019|11/03/2018|          169,1|  2018-03-13|        125063|       P01|      25300|   Fast Dried Apples|       1000|    199,41|      220544|            11/03/2019|      229,72|                          398,82|           111,87|             117,85|     114,86|             2|      119| EA|2018|  3| 13|        1|\n",
      "|    10000472|          1|       2|      10000472|                  R3|            1|Aaron Store|           G2|                |816-455-8733|                S4|          C|Van Nuys|     US|8000 Haskell Avenue|                 ...|                 ...|                 ...|   CA|   91406|     Domestic|    Western|          19/03/2019|19/03/2018|         398,38|  2018-03-21|        125808|       P01|      26502|Bravo Large Canne...|       7000|    939,57|      220986|            19/03/2019|      541,19|                          939,57|           266,94|             274,25|     541,19|             1|      119| EA|2018|  3| 21|        1|\n",
      "|    10000472|          1|       2|      10000472|                  R3|            1|Aaron Store|           G2|                |816-455-8733|                S4|          C|Van Nuys|     US|8000 Haskell Avenue|                 ...|                 ...|                 ...|   CA|   91406|     Domestic|    Western|          19/03/2019|19/03/2018|       448,8801|  2018-03-21|        125808|       P01|      28500|        Ebony Squash|       8000| 1058,6801|      220986|            19/03/2019|       609,8|                       1058,6801|           303,54|             306,26|      609,8|             1|      119| EA|2018|  3| 21|        1|\n",
      "|    10000472|          1|       2|      10000472|                  R3|            1|Aaron Store|           G2|                |816-455-8733|                S4|          C|Van Nuys|     US|8000 Haskell Avenue|                 ...|                 ...|                 ...|   CA|   91406|     Domestic|    Western|          19/03/2019|19/03/2018|         468,23|  2018-03-21|        125808|       P01|      28761|   Ebony Fuji Apples|       4000|    157,76|      220986|            19/03/2019|      636,09|                         1104,32|           334,22|             301,87|      90,87|             7|      119| SE|2018|  3| 21|        1|\n",
      "|    10000472|          1|       2|      10000472|                  R3|            1|Aaron Store|           G2|                |816-455-8733|                S4|          C|Van Nuys|     US|8000 Haskell Avenue|                 ...|                 ...|                 ...|   CA|   91406|     Domestic|    Western|          19/03/2019|19/03/2018|         1839,5|  2018-03-21|        125808|       P01|      27550|   Imagine Popsicles|       9000|   1084,61|      220986|            19/03/2019|     2498,94|                         4338,44|          1186,19|            1312,75|    624,735|             4|      119| EA|2018|  3| 21|        1|\n",
      "|    10000472|          1|       2|      10000472|                  R3|            1|Aaron Store|           G2|                |816-455-8733|                S4|          C|Van Nuys|     US|8000 Haskell Avenue|                 ...|                 ...|                 ...|   CA|   91406|     Domestic|    Western|          19/04/2019|19/04/2018|         363,99|  2018-04-21|        132059|       P01|      61752|Carlson Cheese Sp...|       1000|    803,86|      225677|            19/04/2019|      439,87|                          803,86|           474,05|             -34,18|     439,87|             1|      119| EA|2018|  4| 21|        2|\n",
      "|    10000472|          1|       2|      10000472|                  R3|            1|Aaron Store|           G2|                |816-455-8733|                S4|          C|Van Nuys|     US|8000 Haskell Avenue|                 ...|                 ...|                 ...|   CA|   91406|     Domestic|    Western|          23/04/2019|23/04/2018|         919,75|  2018-04-25|        132543|       P01|      27550|   Imagine Popsicles|       2000|   1084,61|      226383|            23/04/2019|     1249,47|                         2169,22|           605,31|             644,16|    624,735|             2|      119| EA|2018|  4| 25|        2|\n",
      "|    10000472|          1|       2|      10000472|                  R3|            1|Aaron Store|           G2|                |816-455-8733|                S4|          C|Van Nuys|     US|8000 Haskell Avenue|                 ...|                 ...|                 ...|   CA|   91406|     Domestic|    Western|          23/04/2019|23/04/2018|         224,79|  2018-04-25|        132543|       P01|      29312|  Discover Spaghetti|       5000|     44,18|      226383|            23/04/2019|      305,37|                          530,16|           158,73|             146,64|    25,4475|            12|      119| EA|2018|  4| 25|        2|\n",
      "+------------+-----------+--------+--------------+--------------------+-------------+-----------+-------------+----------------+------------+------------------+-----------+--------+-------+-------------------+--------------------+--------------------+--------------------+-----+--------+-------------+-----------+--------------------+----------+---------------+------------+--------------+----------+-----------+--------------------+-----------+----------+------------+----------------------+------------+--------------------------------+-----------------+-------------------+-----------+--------------+---------+---+----+---+---+---------+\n",
      "only showing top 20 rows\n",
      "\n"
     ]
    }
   ],
   "source": [
    "#Adicionar colunas Ano, Mês, Dia, Trimestre tomando como base a coluna invoice_date\n",
    "\n",
    "df_stage = df_stage.withColumn('invoice_date', to_date(col('invoice_date'), 'dd/MM/yyyy'))\n",
    "\n",
    "df_stage = df_stage \\\n",
    "    .withColumn('Ano', year('invoice_date')) \\\n",
    "    .withColumn('Mes', month('invoice_date')) \\\n",
    "    .withColumn('Dia', dayofmonth('invoice_date')) \\\n",
    "    .withColumn('Trimestre', quarter('invoice_date'))\n",
    "\n",
    "df_stage.show()\n",
    "                        "
   ]
  },
  {
   "cell_type": "code",
   "execution_count": 68,
   "metadata": {},
   "outputs": [],
   "source": [
    "#Campos decimais ou inteiros nulos ou vazios, deversão ser preenchidos por 0.\n",
    "\n",
    "cols_to_check = ['item_number', 'discount_amount', 'list_price', 'sales_amount', 'sales_amount_based_on_list_price', 'sales_cost_amount', 'sales_margin_amount', 'sales_price', 'line_number', 'sales_quantity']\n",
    "\n",
    "for col_name in cols_to_check:\n",
    "     df_stage = df_stage.withColumn(col_name, when(col(col_name) == '', 0).otherwise(col(col_name)))\n"
   ]
  },
  {
   "cell_type": "code",
   "execution_count": 69,
   "metadata": {},
   "outputs": [
    {
     "name": "stdout",
     "output_type": "stream",
     "text": [
      "+------------+-----------+--------+--------------+--------------------+-------------+----------------+-------------+----------------+------------+------------------+-----------+-------+-------+---------------------+----------------------------------------+----------------------------------------+----------------------------------------+-----+----------+-------------+-----------+--------------------+----------+---------------+------------+--------------+----------+-----------+------------------------------+-----------+----------+------------+----------------------+------------+--------------------------------+-----------------+-------------------+-----------+--------------+---------+---+----+---+---+---------+\n",
      "|customer_key|region_code|division|address_number|business_family_name|business_unit|customer        |customer_type|line_of_business|phone       |regional_sales_mgr|search_type|city   |country|customer_address_1   |customer_address_2                      |customer_address_3                      |customer_address_4                      |state|zip_code  |division_name|region_name|actual_delivery_date|date_key  |discount_amount|invoice_date|invoice_number|item_class|item_number|item                          |line_number|list_price|order_number|promised_delivery_date|sales_amount|sales_amount_based_on_list_price|sales_cost_amount|sales_margin_amount|sales_price|sales_quantity|sales_rep|u_m|Ano |Mes|Dia|Trimestre|\n",
      "+------------+-----------+--------+--------------+--------------------+-------------+----------------+-------------+----------------+------------+------------------+-----------+-------+-------+---------------------+----------------------------------------+----------------------------------------+----------------------------------------+-----+----------+-------------+-----------+--------------------+----------+---------------+------------+--------------+----------+-----------+------------------------------+-----------+----------+------------+----------------------+------------+--------------------------------+-----------------+-------------------+-----------+--------------+---------+---+----+---+---+---------+\n",
      "|10016588    |2          |2       |10016588      |R3                  |1            |Bounds Megaplace|G2           |M1              |816-455-8733|S16               |C          |Schertz|US     |6025 Corridor Parkway|                                        |                                        |                                        |TX   |78154-3214|Domestic     |Southern   |16/08/2019          |16/08/2018|-698,4         |2018-08-18  |110753        |          |64420      |Blue Label Canned String Beans|1000       |0         |208991      |16/08/2019            |698,4       |0                               |361,32           |337,08             |69,84      |10            |104      |EA |2018|8  |18 |3        |\n",
      "|10016588    |2          |2       |10016588      |R3                  |1            |Bounds Megaplace|G2           |M1              |816-455-8733|S16               |C          |Schertz|US     |6025 Corridor Parkway|                                        |                                        |                                        |TX   |78154-3214|Domestic     |Southern   |16/08/2019          |16/08/2018|0              |2018-08-18  |110753        |          |0          |Monarch Manicotti             |2000       |0         |208991      |16/08/2019            |401,86      |0                               |0                |401,86             |0          |0             |104      |EA |2018|8  |18 |3        |\n",
      "+------------+-----------+--------+--------------+--------------------+-------------+----------------+-------------+----------------+------------+------------------+-----------+-------+-------+---------------------+----------------------------------------+----------------------------------------+----------------------------------------+-----+----------+-------------+-----------+--------------------+----------+---------------+------------+--------------+----------+-----------+------------------------------+-----------+----------+------------+----------------------+------------+--------------------------------+-----------------+-------------------+-----------+--------------+---------+---+----+---+---+---------+\n",
      "\n"
     ]
    }
   ],
   "source": [
    "#Filtro para verificar se determinado cliente que tinha valores vazio foram substituidos por zero\n",
    "df_stage.filter((col(\"customer_key\") == \"10016588\") & (col(\"invoice_number\") == \"110753\")).show(truncate=False)"
   ]
  },
  {
   "cell_type": "code",
   "execution_count": 70,
   "metadata": {},
   "outputs": [
    {
     "name": "stdout",
     "output_type": "stream",
     "text": [
      "+------------+-----------+--------+--------------+--------------------+-------------+----------------+-------------+----------------+------------+------------------+-----------+-------+-------+---------------------+------------------+------------------+------------------+-----+----------+-------------+-----------+--------------------+----------+---------------+------------+--------------+-------------+-----------+------------------------------+-----------+----------+------------+----------------------+------------+--------------------------------+-----------------+-------------------+-----------+--------------+---------+---+----+---+---+---------+\n",
      "|customer_key|region_code|division|address_number|business_family_name|business_unit|customer        |customer_type|line_of_business|phone       |regional_sales_mgr|search_type|city   |country|customer_address_1   |customer_address_2|customer_address_3|customer_address_4|state|zip_code  |division_name|region_name|actual_delivery_date|date_key  |discount_amount|invoice_date|invoice_number|item_class   |item_number|item                          |line_number|list_price|order_number|promised_delivery_date|sales_amount|sales_amount_based_on_list_price|sales_cost_amount|sales_margin_amount|sales_price|sales_quantity|sales_rep|u_m|Ano |Mes|Dia|Trimestre|\n",
      "+------------+-----------+--------+--------------+--------------------+-------------+----------------+-------------+----------------+------------+------------------+-----------+-------+-------+---------------------+------------------+------------------+------------------+-----+----------+-------------+-----------+--------------------+----------+---------------+------------+--------------+-------------+-----------+------------------------------+-----------+----------+------------+----------------------+------------+--------------------------------+-----------------+-------------------+-----------+--------------+---------+---+----+---+---+---------+\n",
      "|10016588    |2          |2       |10016588      |R3                  |1            |Bounds Megaplace|G2           |M1              |816-455-8733|S16               |C          |Schertz|US     |6025 Corridor Parkway|Nao informado     |Nao informado     |Nao informado     |TX   |78154-3214|Domestic     |Southern   |16/08/2019          |16/08/2018|-698,4         |2018-08-18  |110753        |Nao informado|64420      |Blue Label Canned String Beans|1000       |0         |208991      |16/08/2019            |698,4       |0                               |361,32           |337,08             |69,84      |10            |104      |EA |2018|8  |18 |3        |\n",
      "|10016588    |2          |2       |10016588      |R3                  |1            |Bounds Megaplace|G2           |M1              |816-455-8733|S16               |C          |Schertz|US     |6025 Corridor Parkway|Nao informado     |Nao informado     |Nao informado     |TX   |78154-3214|Domestic     |Southern   |16/08/2019          |16/08/2018|0              |2018-08-18  |110753        |Nao informado|0          |Monarch Manicotti             |2000       |0         |208991      |16/08/2019            |401,86      |0                               |0                |401,86             |0          |0             |104      |EA |2018|8  |18 |3        |\n",
      "+------------+-----------+--------+--------------+--------------------+-------------+----------------+-------------+----------------+------------+------------------+-----------+-------+-------+---------------------+------------------+------------------+------------------+-----+----------+-------------+-----------+--------------------+----------+---------------+------------+--------------+-------------+-----------+------------------------------+-----------+----------+------------+----------------------+------------+--------------------------------+-----------------+-------------------+-----------+--------------+---------+---+----+---+---+---------+\n",
      "\n"
     ]
    }
   ],
   "source": [
    "#Campos strings vazios deverão ser preenchidos com 'Não informado'\n",
    "all_columns = df_stage.columns\n",
    "\n",
    "for column in all_columns:\n",
    "    df_stage = df_stage.withColumn(column, \n",
    "                                   when(trim(regexp_replace(col(column), '\\n', '')) == \"\", \"Nao informado\")\n",
    "                                   .otherwise(col(column)))\n",
    "\n",
    "#Filtro para verificar se determinado cliente que tinha strings vaziasforam substituídos com 'Não informado'\n",
    "df_stage.filter((col(\"customer_key\") == \"10016588\") & (col(\"invoice_number\") == \"110753\")).show(truncate=False)\n"
   ]
  },
  {
   "cell_type": "code",
   "execution_count": 71,
   "metadata": {},
   "outputs": [
    {
     "name": "stdout",
     "output_type": "stream",
     "text": [
      "+------------+-----------+--------+--------------+--------------------+-------------+----------------+-------------+----------------+------------+------------------+-----------+-------+-------+--------------------+------------------+------------------+------------------+-----+----------+-------------+-----------+--------------------+----------+---------------+------------+--------------+-------------+-----------+--------------------+-----------+----------+------------+----------------------+------------+--------------------------------+-----------------+-------------------+-----------+--------------+---------+---+----+---+---+---------+\n",
      "|customer_key|region_code|division|address_number|business_family_name|business_unit|        customer|customer_type|line_of_business|       phone|regional_sales_mgr|search_type|   city|country|  customer_address_1|customer_address_2|customer_address_3|customer_address_4|state|  zip_code|division_name|region_name|actual_delivery_date|  date_key|discount_amount|invoice_date|invoice_number|   item_class|item_number|                item|line_number|list_price|order_number|promised_delivery_date|sales_amount|sales_amount_based_on_list_price|sales_cost_amount|sales_margin_amount|sales_price|sales_quantity|sales_rep|u_m| Ano|Mes|Dia|Trimestre|\n",
      "+------------+-----------+--------+--------------+--------------------+-------------+----------------+-------------+----------------+------------+------------------+-----------+-------+-------+--------------------+------------------+------------------+------------------+-----+----------+-------------+-----------+--------------------+----------+---------------+------------+--------------+-------------+-----------+--------------------+-----------+----------+------------+----------------------+------------+--------------------------------+-----------------+-------------------+-----------+--------------+---------+---+----+---+---+---------+\n",
      "|    10016588|          2|       2|      10016588|                  R3|            1|Bounds Megaplace|           G2|              M1|816-455-8733|               S16|          C|Schertz|     US|6025 Corridor Par...|     Nao informado|     Nao informado|     Nao informado|   TX|78154-3214|     Domestic|   Southern|          16/08/2019|16/08/2018|         -698,4|  2018-08-18|        110753|Nao informado|      64420|Blue Label Canned...|       1000|         0|      208991|            16/08/2019|       698,4|                               0|           361,32|             337,08|      69,84|            10|      104| EA|2018|  8| 18|        3|\n",
      "|    10016588|          2|       2|      10016588|                  R3|            1|Bounds Megaplace|           G2|              M1|816-455-8733|               S16|          C|Schertz|     US|6025 Corridor Par...|     Nao informado|     Nao informado|     Nao informado|   TX|78154-3214|     Domestic|   Southern|          16/08/2019|16/08/2018|              0|  2018-08-18|        110753|Nao informado|          0|   Monarch Manicotti|       2000|         0|      208991|            16/08/2019|      401,86|                               0|                0|             401,86|          0|             0|      104| EA|2018|  8| 18|        3|\n",
      "+------------+-----------+--------+--------------+--------------------+-------------+----------------+-------------+----------------+------------+------------------+-----------+-------+-------+--------------------+------------------+------------------+------------------+-----+----------+-------------+-----------+--------------------+----------+---------------+------------+--------------+-------------+-----------+--------------------+-----------+----------+------------+----------------------+------------+--------------------------------+-----------------+-------------------+-----------+--------------+---------+---+----+---+---+---------+\n",
      "\n"
     ]
    }
   ],
   "source": [
    "df_stage.filter((col(\"customer_key\") == \"10016588\") & (col(\"invoice_number\") == \"110753\")).show()\n"
   ]
  },
  {
   "cell_type": "code",
   "execution_count": 72,
   "metadata": {},
   "outputs": [],
   "source": [
    "# # Conta o número de valores vazios em todas as colunas\n",
    "# empty_counts = [df_stage.select(when(col(c) == \"\", 1).otherwise(0)).agg({\"*\": \"sum\"}).collect()[0][0] for c in df_stage.columns]\n",
    "# for i, c in enumerate(df_stage.columns):\n",
    "#     print(f\"{c}: {empty_counts[i]}\")"
   ]
  },
  {
   "cell_type": "code",
   "execution_count": 73,
   "metadata": {},
   "outputs": [],
   "source": [
    "# # Verificar se há valores nulos em colunas numéricas\n",
    "# from pyspark.sql.functions import isnan, col\n",
    "# from pyspark.sql.types import DoubleType, IntegerType, LongType, FloatType\n",
    "\n",
    "# numeric_cols = [c.name for c in df_stage.schema if c.dataType in [DoubleType(), IntegerType(), LongType(), FloatType()]]\n",
    "\n",
    "# null_counts = [df_stage.select(isnan(col(c)).alias(c)).agg({\"*\": \"sum\"}).collect()[0][0] for c in numeric_cols]\n",
    "# for i, c in enumerate(numeric_cols):\n",
    "#     print(f\"{c}: {null_counts[i]}\")"
   ]
  },
  {
   "cell_type": "code",
   "execution_count": 90,
   "metadata": {},
   "outputs": [],
   "source": [
    "#Adicionar chaves estrangeiras\n",
    "df_stage = df_stage.withColumn('PK_TEMPO', sha2(concat_ws(\"\",df_stage.invoice_date, df_stage.Ano,df_stage.Mes,df_stage.Dia,df_stage.Trimestre), 256))\n",
    "\n",
    "df_stage = df_stage.withColumn('PK_CLIENTES', sha2(concat_ws(\"\",df_stage.customer_key,df_stage.customer,df_stage.business_family_name,df_stage.business_unit,df_stage.customer_type,df_stage.division,df_stage.line_of_business,df_stage.phone,df_stage.region_code,df_stage.regional_sales_mgr,df_stage.search_type), 256))\n",
    "\n",
    "df_stage = df_stage.withColumn('PK_LOCALIDADE', sha2(concat_ws(\"\",df_stage.address_number,df_stage.city,df_stage.country,df_stage.state,df_stage.zip_code,df_stage.division,df_stage.division_name,df_stage.region_code,df_stage.region_name,df_stage.customer_address_1,df_stage.customer_address_2,df_stage.customer_address_3,df_stage.customer_address_4), 256))"
   ]
  },
  {
   "cell_type": "code",
   "execution_count": 91,
   "metadata": {},
   "outputs": [
    {
     "name": "stdout",
     "output_type": "stream",
     "text": [
      "+------------+-----------+--------+--------------+--------------------+-------------+-----------+-------------+----------------+------------+------------------+-----------+--------+-------+-------------------+------------------+------------------+------------------+-----+--------+-------------+-----------+--------------------+----------+---------------+------------+--------------+----------+-----------+-------------------------+-----------+----------+------------+----------------------+------------+--------------------------------+-----------------+-------------------+-----------+--------------+---------+---+----+---+---+---------+----------------------------------------------------------------+----------------------------------------------------------------+----------------------------------------------------------------+\n",
      "|customer_key|region_code|division|address_number|business_family_name|business_unit|customer   |customer_type|line_of_business|phone       |regional_sales_mgr|search_type|city    |country|customer_address_1 |customer_address_2|customer_address_3|customer_address_4|state|zip_code|division_name|region_name|actual_delivery_date|date_key  |discount_amount|invoice_date|invoice_number|item_class|item_number|item                     |line_number|list_price|order_number|promised_delivery_date|sales_amount|sales_amount_based_on_list_price|sales_cost_amount|sales_margin_amount|sales_price|sales_quantity|sales_rep|u_m|Ano |Mes|Dia|Trimestre|PK_TEMPO                                                        |PK_CLIENTES                                                     |PK_LOCALIDADE                                                   |\n",
      "+------------+-----------+--------+--------------+--------------------+-------------+-----------+-------------+----------------+------------+------------------+-----------+--------+-------+-------------------+------------------+------------------+------------------+-----+--------+-------------+-----------+--------------------+----------+---------------+------------+--------------+----------+-----------+-------------------------+-----------+----------+------------+----------------------+------------+--------------------------------+-----------------+-------------------+-----------+--------------+---------+---+----+---+---+---------+----------------------------------------------------------------+----------------------------------------------------------------+----------------------------------------------------------------+\n",
      "|10000472    |1          |2       |10000472      |R3                  |1            |Aaron Store|G2           |Nao informado   |816-455-8733|S4                |C          |Van Nuys|US     |8000 Haskell Avenue|Nao informado     |Nao informado     |Nao informado     |CA   |91406   |Domestic     |Western    |19/01/2019          |19/01/2018|363,99         |2018-01-21  |120547        |P01       |61752      |Carlson Cheese Spread    |1000       |803,86    |216973      |19/01/2019            |439,87      |803,86                          |474,05           |-34,18             |439,87     |1             |119      |EA |2018|1  |21 |1        |ac6162c898b65e3a77eb64502bfac45995513482bd558f239f7067566c4a078c|6ea406def5bbf1f7465a6fd71575bf663fd6a8e759662fe62d79c8d581974869|7b2d152400f7e5632e1a253132cfc4987c31e1a57418ad7e10638785a6733e63|\n",
      "|10000472    |1          |2       |10000472      |R3                  |1            |Aaron Store|G2           |Nao informado   |816-455-8733|S4                |C          |Van Nuys|US     |8000 Haskell Avenue|Nao informado     |Nao informado     |Nao informado     |CA   |91406   |Domestic     |Western    |23/01/2019          |23/01/2018|919,75         |2018-01-25  |121031        |P01       |27550      |Imagine Popsicles        |2000       |1084,61   |217830      |23/01/2019            |1249,47     |2169,22                         |605,31           |644,16             |624,735    |2             |119      |EA |2018|1  |25 |1        |03d450e10578350d5a8341dd3447f6e647f385d6defce51e2b65e08973287083|6ea406def5bbf1f7465a6fd71575bf663fd6a8e759662fe62d79c8d581974869|7b2d152400f7e5632e1a253132cfc4987c31e1a57418ad7e10638785a6733e63|\n",
      "|10000472    |1          |2       |10000472      |R3                  |1            |Aaron Store|G2           |Nao informado   |816-455-8733|S4                |C          |Van Nuys|US     |8000 Haskell Avenue|Nao informado     |Nao informado     |Nao informado     |CA   |91406   |Domestic     |Western    |23/01/2019          |23/01/2018|224,79         |2018-01-25  |121031        |P01       |29312      |Discover Spaghetti       |5000       |44,18     |217830      |23/01/2019            |305,37      |530,16                          |158,73           |146,64             |25,4475    |12            |119      |EA |2018|1  |25 |1        |03d450e10578350d5a8341dd3447f6e647f385d6defce51e2b65e08973287083|6ea406def5bbf1f7465a6fd71575bf663fd6a8e759662fe62d79c8d581974869|7b2d152400f7e5632e1a253132cfc4987c31e1a57418ad7e10638785a6733e63|\n",
      "|10000472    |1          |2       |10000472      |R3                  |1            |Aaron Store|G2           |Nao informado   |816-455-8733|S4                |C          |Van Nuys|US     |8000 Haskell Avenue|Nao informado     |Nao informado     |Nao informado     |CA   |91406   |Domestic     |Western    |23/01/2019          |23/01/2018|398,38         |2018-01-25  |121031        |P01       |26502      |Bravo Large Canned Shrimp|1000       |939,57    |217830      |23/01/2019            |541,19      |939,57                          |273,05           |268,14             |541,19     |1             |119      |EA |2018|1  |25 |1        |03d450e10578350d5a8341dd3447f6e647f385d6defce51e2b65e08973287083|6ea406def5bbf1f7465a6fd71575bf663fd6a8e759662fe62d79c8d581974869|7b2d152400f7e5632e1a253132cfc4987c31e1a57418ad7e10638785a6733e63|\n",
      "|10000472    |1          |2       |10000472      |R3                  |1            |Aaron Store|G2           |Nao informado   |816-455-8733|S4                |C          |Van Nuys|US     |8000 Haskell Avenue|Nao informado     |Nao informado     |Nao informado     |CA   |91406   |Domestic     |Western    |23/01/2019          |23/01/2018|1346,6403      |2018-01-25  |121031        |P01       |28500      |Ebony Squash             |3000       |1058,6801 |217830      |23/01/2019            |1829,4      |3176,0403                       |928,93           |900,47             |609,8      |3             |119      |EA |2018|1  |25 |1        |03d450e10578350d5a8341dd3447f6e647f385d6defce51e2b65e08973287083|6ea406def5bbf1f7465a6fd71575bf663fd6a8e759662fe62d79c8d581974869|7b2d152400f7e5632e1a253132cfc4987c31e1a57418ad7e10638785a6733e63|\n",
      "+------------+-----------+--------+--------------+--------------------+-------------+-----------+-------------+----------------+------------+------------------+-----------+--------+-------+-------------------+------------------+------------------+------------------+-----+--------+-------------+-----------+--------------------+----------+---------------+------------+--------------+----------+-----------+-------------------------+-----------+----------+------------+----------------------+------------+--------------------------------+-----------------+-------------------+-----------+--------------+---------+---+----+---+---+---------+----------------------------------------------------------------+----------------------------------------------------------------+----------------------------------------------------------------+\n",
      "only showing top 5 rows\n",
      "\n"
     ]
    }
   ],
   "source": [
    "df_stage.show(5, truncate=False)"
   ]
  },
  {
   "cell_type": "code",
   "execution_count": 92,
   "metadata": {},
   "outputs": [],
   "source": [
    "df_stage.createOrReplaceTempView(\"stage\")"
   ]
  },
  {
   "cell_type": "code",
   "execution_count": 93,
   "metadata": {},
   "outputs": [],
   "source": [
    "#Gerar dimensões e fato a partir do tabelão  \n",
    "df_tempo = spark.sql(\"SELECT DISTINCT PK_TEMPO, invoice_date, Ano, Mes, Dia, Trimestre FROM stage\")"
   ]
  },
  {
   "cell_type": "code",
   "execution_count": 94,
   "metadata": {},
   "outputs": [
    {
     "name": "stdout",
     "output_type": "stream",
     "text": [
      "hdfs dfs -get /datalake/gold/dim_tempo/part-* input/projeto-hive/gold/dim_tempo.csv\n"
     ]
    }
   ],
   "source": [
    "#Exportar dataframes como tabelas csv\n",
    "salvar_df(df_tempo, 'dim_tempo')"
   ]
  },
  {
   "cell_type": "code",
   "execution_count": 95,
   "metadata": {},
   "outputs": [],
   "source": [
    "df_clientes = spark.sql(\"SELECT DISTINCT PK_CLIENTES, customer_key, customer, business_family_name, business_unit, customer_type, division, line_of_business, phone, region_code, regional_sales_mgr, search_type FROM stage\")"
   ]
  },
  {
   "cell_type": "code",
   "execution_count": 96,
   "metadata": {},
   "outputs": [
    {
     "name": "stdout",
     "output_type": "stream",
     "text": [
      "hdfs dfs -get /datalake/gold/dim_clientes/part-* input/projeto-hive/gold/dim_clientes.csv\n"
     ]
    }
   ],
   "source": [
    "salvar_df(df_clientes, 'dim_clientes')"
   ]
  },
  {
   "cell_type": "code",
   "execution_count": 97,
   "metadata": {},
   "outputs": [],
   "source": [
    "df_localidade = spark.sql(\"SELECT DISTINCT PK_LOCALIDADE, address_number, city, country, state, zip_code, division, division_name, region_code, region_name, customer_address_1, customer_address_2, customer_address_3, customer_address_4 FROM stage\")"
   ]
  },
  {
   "cell_type": "code",
   "execution_count": 98,
   "metadata": {},
   "outputs": [
    {
     "name": "stdout",
     "output_type": "stream",
     "text": [
      "hdfs dfs -get /datalake/gold/dim_localidade/part-* input/projeto-hive/gold/dim_localidade.csv\n"
     ]
    }
   ],
   "source": [
    "salvar_df(df_localidade, 'dim_localidade')"
   ]
  },
  {
   "cell_type": "code",
   "execution_count": 99,
   "metadata": {},
   "outputs": [],
   "source": [
    "ft_vendas = spark.sql(\"SELECT PK_CLIENTES, PK_TEMPO, PK_LOCALIDADE, actual_delivery_date, date_key, discount_amount, invoice_date, invoice_number, item_class, item_number, item, line_number, list_price, order_number, promised_delivery_date, sales_amount, sales_amount_based_on_list_price, sales_cost_amount, sales_margin_amount, sales_price, sales_quantity, sales_rep, u_m  FROM stage\")  "
   ]
  },
  {
   "cell_type": "code",
   "execution_count": 100,
   "metadata": {},
   "outputs": [
    {
     "name": "stdout",
     "output_type": "stream",
     "text": [
      "hdfs dfs -get /datalake/gold/ft_vendas/part-* input/projeto-hive/gold/ft_vendas.csv\n"
     ]
    }
   ],
   "source": [
    "salvar_df(ft_vendas, 'ft_vendas')"
   ]
  }
 ],
 "metadata": {
  "kernelspec": {
   "display_name": "PySpark",
   "language": "python",
   "name": "pyspark"
  },
  "language_info": {
   "codemirror_mode": {
    "name": "ipython",
    "version": 3
   },
   "file_extension": ".py",
   "mimetype": "text/x-python",
   "name": "python",
   "nbconvert_exporter": "python",
   "pygments_lexer": "ipython3",
   "version": "3.6.10"
  }
 },
 "nbformat": 4,
 "nbformat_minor": 2
}
