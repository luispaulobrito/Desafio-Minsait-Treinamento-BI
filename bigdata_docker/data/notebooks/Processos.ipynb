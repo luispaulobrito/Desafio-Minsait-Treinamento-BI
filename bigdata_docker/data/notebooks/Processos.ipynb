{
 "cells": [
  {
   "cell_type": "code",
   "execution_count": 119,
   "metadata": {},
   "outputs": [],
   "source": [
    "from pyspark.sql import SparkSession, dataframe\n",
    "from pyspark.sql.functions import when, col, sum, count, isnan, round\n",
    "from pyspark.sql.functions import regexp_replace, concat_ws, sha2, rtrim, substring\n",
    "from pyspark.sql.functions import unix_timestamp, from_unixtime, to_date\n",
    "from pyspark.sql.types import StructType, StructField\n",
    "from pyspark.sql.types import DoubleType, IntegerType, StringType\n",
    "from pyspark.sql import HiveContext\n",
    "from pyspark.sql.functions import year, month, dayofmonth, quarter\n",
    "from pyspark.sql.types import DecimalType\n",
    "from pyspark.sql.functions import trim, regexp_replace, when, col\n",
    "\n",
    "import os\n",
    "import re\n",
    "\n",
    "from pyspark.sql.functions import regexp_replace\n",
    "from pyspark.sql.functions import when\n",
    "\n",
    "spark = SparkSession.builder.master(\"local[*]\")\\\n",
    "    .enableHiveSupport()\\\n",
    "    .getOrCreate()"
   ]
  },
  {
   "cell_type": "code",
   "execution_count": 120,
   "metadata": {},
   "outputs": [],
   "source": [
    "def salvar_df(df, file):\n",
    "    output = \"input/projeto-hive/gold/\" + file\n",
    "    erase = \"hdfs dfs -rm \" + output + \"/*\"\n",
    "    rename = \"hdfs dfs -get /datalake/gold/\"+file+\"/part-* input/projeto-hive/gold/\"+file+\".csv\"\n",
    "    \n",
    "    print(rename)    \n",
    "    \n",
    "    df.coalesce(1).write\\\n",
    "        .format(\"csv\")\\\n",
    "        .option(\"header\", True)\\\n",
    "        .option(\"delimiter\", \";\")\\\n",
    "        .mode(\"overwrite\")\\\n",
    "        .save(\"/datalake/gold/\"+file+\"/\")\n",
    "    \n",
    "    os.system(erase)\n",
    "    os.system(rename)"
   ]
  },
  {
   "cell_type": "code",
   "execution_count": 121,
   "metadata": {
    "scrolled": true
   },
   "outputs": [
    {
     "name": "stdout",
     "output_type": "stream",
     "text": [
      "+--------------------+------------+----------+---------------+------------+--------------+----------+-----------+--------------------+-----------+----------+------------+----------------------+------------+--------------------------------+-----------------+-------------------+-----------+--------------+---------+---+\n",
      "|actual_delivery_date|customer_key|  date_key|discount_amount|invoice_date|invoice_number|item_class|item_number|                item|line_number|list_price|order_number|promised_delivery_date|sales_amount|sales_amount_based_on_list_price|sales_cost_amount|sales_margin_amount|sales_price|sales_quantity|sales_rep|u_m|\n",
      "+--------------------+------------+----------+---------------+------------+--------------+----------+-----------+--------------------+-----------+----------+------------+----------------------+------------+--------------------------------+-----------------+-------------------+-----------+--------------+---------+---+\n",
      "|          28/04/2019|    10000481|28/04/2018|        -237,91|  30/04/2018|        100012|          |           |    Urban Large Eggs|       2000|         0|      200015|            28/04/2019|      237,91|                               0|                0|             237,91|     237,91|             1|      184| EA|\n",
      "|          12/07/2019|    10002220|12/07/2018|         368,79|  14/07/2018|        100233|       P01|      20910|  Moms Sliced Turkey|       1000|    824,96|      200245|            12/07/2019|      456,17|                          824,96|                0|             456,17|     456,17|             1|      127| EA|\n",
      "|          14/10/2019|    10002220|15/10/2018|         109,73|  17/10/2018|        116165|       P01|      38076|Cutting Edge Foot...|       1000|    548,66|      213157|            14/10/2019|      438,93|                          548,66|                0|             438,93|     438,93|             1|      127| EA|\n",
      "+--------------------+------------+----------+---------------+------------+--------------+----------+-----------+--------------------+-----------+----------+------------+----------------------+------------+--------------------------------+-----------------+-------------------+-----------+--------------+---------+---+\n",
      "\n",
      "+--------------+--------+-------+-------------------+--------------------+--------------------+--------------------+-----+--------+\n",
      "|address_number|    city|country| customer_address_1|  customer_address_2|  customer_address_3|  customer_address_4|state|zip_code|\n",
      "+--------------+--------+-------+-------------------+--------------------+--------------------+--------------------+-----+--------+\n",
      "|      10000472|Van Nuys|     US|8000 Haskell Avenue|                 ...|                 ...|                 ...|   CA|   91406|\n",
      "|      10025769| Redding|     US|850 Commerce Street|                 ...|                 ...|                 ...|   CA|   96002|\n",
      "|      10023235| Houston|     US|7600 South Santa Fe|                 ...|                 ...|                 ...|   TX|   77061|\n",
      "+--------------+--------+-------+-------------------+--------------------+--------------------+--------------------+-----+--------+\n",
      "\n",
      "+--------------+--------------------+-------------+-----------------+------------+-------------+--------+----------------+------------+-----------+------------------+-----------+\n",
      "|address_number|business_family_name|business_unit|         customer|customer_key|customer_type|division|line_of_business|       phone|region_code|regional_sales_mgr|search_type|\n",
      "+--------------+--------------------+-------------+-----------------+------------+-------------+--------+----------------+------------+-----------+------------------+-----------+\n",
      "|      10000472|                  R3|            1|      Aaron Store|    10000472|           G2|       2|                |816-455-8733|          1|                S4|          C|\n",
      "|      10025769|                  R3|            1|      UUmail Shop|    10025769|           G2|       2|                |816-455-8733|          1|                S1|          C|\n",
      "|      10003882|                  R3|            1|Beech Supermarket|    10003882|           G2|       1|                |816-455-8733|          5|               S16|          C|\n",
      "+--------------+--------------------+-------------+-----------------+------------+-------------+--------+----------------+------------+-----------+------------------+-----------+\n",
      "\n",
      "+--------+-------------+\n",
      "|division|division_name|\n",
      "+--------+-------------+\n",
      "|       1|International|\n",
      "|       2|     Domestic|\n",
      "+--------+-------------+\n",
      "\n",
      "+-----------+-------------+\n",
      "|region_code|  region_name|\n",
      "+-----------+-------------+\n",
      "|          0|       Canada|\n",
      "|          1|      Western|\n",
      "|          2|     Southern|\n",
      "|          3|    Northeast|\n",
      "|          4|      Central|\n",
      "|          5|International|\n",
      "+-----------+-------------+\n",
      "\n"
     ]
    }
   ],
   "source": [
    "# # Carregar tabela endereco e remover a primeira linha que copiou o cabeçalho\n",
    "# df_endereco = spark.read.table(\"desafio_curso.endereco\")\n",
    "# rdd = df_endereco.rdd.zipWithIndex().filter(lambda x: x[1] > 0).map(lambda x: x[0])\n",
    "# df_endereco = rdd.toDF(df_endereco.schema)\n",
    "\n",
    "# # Carregar tabela clientes e remover a primeira linha que copiou o cabeçalho\n",
    "# df_clientes = spark.read.table(\"desafio_curso.clientes\")\n",
    "# rdd = df_clientes.rdd.zipWithIndex().filter(lambda x: x[1] > 0).map(lambda x: x[0])\n",
    "# df_clientes = rdd.toDF(df_clientes.schema)\n",
    "\n",
    "# # Carregar tabela divisao e remover a primeira linha que copiou o cabeçalho\n",
    "# df_divisao = spark.read.table(\"desafio_curso.divisao\")\n",
    "# rdd = df_divisao.rdd.zipWithIndex().filter(lambda x: x[1] > 0).map(lambda x: x[0])\n",
    "# df_divisao = rdd.toDF(df_divisao.schema)\n",
    "\n",
    "# # Carregar tabela regiao e remover a primeira linha que copiou o cabeçalho\n",
    "# df_regiao = spark.read.table(\"desafio_curso.regiao\")\n",
    "# rdd = df_regiao.rdd.zipWithIndex().filter(lambda x: x[1] > 0).map(lambda x: x[0])\n",
    "# df_regiao = rdd.toDF(df_regiao.schema)\n",
    "\n",
    "# # Carregar tabela regiao e remover a primeira linha que copiou o cabeçalho\n",
    "# df_vendas = spark.read.table(\"desafio_curso.vendas\")\n",
    "# rdd = df_vendas.rdd.zipWithIndex().filter(lambda x: x[1] > 0).map(lambda x: x[0])\n",
    "# df_vendas = rdd.toDF(df_vendas.schema)\n",
    "\n",
    "tables = [\"endereco\", \"clientes\", \"divisao\", \"regiao\", \"vendas\"]\n",
    "dfs = {}\n",
    "\n",
    "for table in tables:\n",
    "    # Carregar a tabela e remover a primeira linha que copiou o cabeçalho\n",
    "    df = spark.read.table(\"desafio_curso.\" + table)\n",
    "    rdd = df.rdd.zipWithIndex().filter(lambda x: x[1] > 0).map(lambda x: x[0])\n",
    "    df = rdd.toDF(df.schema)\n",
    "    dfs[table] = df\n",
    "\n",
    "\n",
    "df_vendas.limit(3).show()\n",
    "df_endereco.limit(3).show()\n",
    "df_clientes.limit(3).show()\n",
    "df_divisao.show()\n",
    "df_regiao.show()\n"
   ]
  },
  {
   "cell_type": "code",
   "execution_count": 122,
   "metadata": {},
   "outputs": [
    {
     "name": "stdout",
     "output_type": "stream",
     "text": [
      "Total sales amount: 26409762.0\n",
      "Número de linhas: 65535\n"
     ]
    }
   ],
   "source": [
    "from pyspark.sql.functions import sum\n",
    "\n",
    "# Somar os valores da coluna \"sales_amount\" no DataFrame \"df_stage\"\n",
    "total_sales_amount = df_vendas.agg(sum(\"sales_amount\")).collect()[0][0]\n",
    "\n",
    "# Imprimir o resultado\n",
    "print(\"Total sales amount:\", total_sales_amount)\n",
    "\n",
    "# Contar a quantidade de linhas no DataFrame \"df_vendas\"\n",
    "# num_rows = df_vendas.count()\n",
    "num_rows = df_vendas.count()\n",
    "\n",
    "# Imprimir o resultado\n",
    "print(\"Número de linhas:\", num_rows)"
   ]
  },
  {
   "cell_type": "code",
   "execution_count": 123,
   "metadata": {},
   "outputs": [],
   "source": [
    "#limpar linhas duplicadas em clientes e endereço\n",
    "df_clientes = df_clientes.dropDuplicates(['customer_key'])\n",
    "df_endereco = df_endereco.dropDuplicates(['address_number'])\n",
    "\n"
   ]
  },
  {
   "cell_type": "code",
   "execution_count": 124,
   "metadata": {},
   "outputs": [
    {
     "name": "stdout",
     "output_type": "stream",
     "text": [
      "Total sales amount: 26409762.0\n",
      "Número de linhas: 65535\n"
     ]
    }
   ],
   "source": [
    "from pyspark.sql.functions import sum\n",
    "\n",
    "# Somar os valores da coluna \"sales_amount\" no DataFrame \"df_stage\"\n",
    "total_sales_amount = df_vendas.agg(sum(\"sales_amount\")).collect()[0][0]\n",
    "\n",
    "# Imprimir o resultado\n",
    "print(\"Total sales amount:\", total_sales_amount)\n",
    "\n",
    "# Contar a quantidade de linhas no DataFrame \"df_vendas\"\n",
    "num_rows = df_vendas.count()\n",
    "\n",
    "# Imprimir o resultado\n",
    "print(\"Número de linhas:\", num_rows)"
   ]
  },
  {
   "cell_type": "code",
   "execution_count": 125,
   "metadata": {},
   "outputs": [
    {
     "name": "stdout",
     "output_type": "stream",
     "text": [
      "+--------------------+------------+----------+---------------+------------+--------------+----------+-----------+--------------------+-----------+----------+------------+----------------------+------------+--------------------------------+-----------------+-------------------+-----------+--------------+---------+---+--------------+--------------------+-------------+-------------------+------------+-------------+--------+----------------+------------+-----------+------------------+-----------+--------------+--------------------+-------+--------------------+--------------------+--------------------+--------------------+-----+------------+--------+-------------+-----------+-------------+\n",
      "|actual_delivery_date|customer_key|  date_key|discount_amount|invoice_date|invoice_number|item_class|item_number|                item|line_number|list_price|order_number|promised_delivery_date|sales_amount|sales_amount_based_on_list_price|sales_cost_amount|sales_margin_amount|sales_price|sales_quantity|sales_rep|u_m|address_number|business_family_name|business_unit|           customer|customer_key|customer_type|division|line_of_business|       phone|region_code|regional_sales_mgr|search_type|address_number|                city|country|  customer_address_1|  customer_address_2|  customer_address_3|  customer_address_4|state|    zip_code|division|division_name|region_code|  region_name|\n",
      "+--------------------+------------+----------+---------------+------------+--------------+----------+-----------+--------------------+-----------+----------+------------+----------------------+------------+--------------------------------+-----------------+-------------------+-----------+--------------+---------+---+--------------+--------------------+-------------+-------------------+------------+-------------+--------+----------------+------------+-----------+------------------+-----------+--------------+--------------------+-------+--------------------+--------------------+--------------------+--------------------+-----+------------+--------+-------------+-----------+-------------+\n",
      "|          12/07/2019|    10002220|12/07/2018|         368,79|  14/07/2018|        100233|       P01|      20910|  Moms Sliced Turkey|       1000|    824,96|      200245|            12/07/2019|      456,17|                          824,96|                0|             456,17|     456,17|             1|      127| EA|      10002220|                  R3|            1|         ACRON Shop|    10002220|           G3|       1|                |816-455-8733|          0|                S5|          C|      10002220|       Prince George|     CA|1594 Nicholson St...|                 ...|                 ...|                 ...|   BC|     V2N 1V6|       1|International|          0|       Canada|\n",
      "|          14/10/2019|    10002220|15/10/2018|         109,73|  17/10/2018|        116165|       P01|      38076|Cutting Edge Foot...|       1000|    548,66|      213157|            14/10/2019|      438,93|                          548,66|                0|             438,93|     438,93|             1|      127| EA|      10002220|                  R3|            1|         ACRON Shop|    10002220|           G3|       1|                |816-455-8733|          0|                S5|          C|      10002220|       Prince George|     CA|1594 Nicholson St...|                 ...|                 ...|                 ...|   BC|     V2N 1V6|       1|International|          0|       Canada|\n",
      "|          12/05/2019|    10009652|12/05/2018|             91|  14/05/2018|        102256|          |      63113|Landslide Columbi...|       1000|      5,61|      202989|            12/05/2019|      1872,5|                          1963,5|                0|             1872,5|       5,35|           350|      145| EA|      10009652|                  R1|            1|           Dci Shop|    10009652|           G3|       1|                |816-455-8733|          0|               S21|          C|      10009652|            Valcourt|     CA|550 Du Parc Boule...|                 ...|                 ...|                 ...|   QU|     J0E 2L0|       1|International|          0|       Canada|\n",
      "|          12/05/2019|    10009652|12/05/2018|           -700|  14/05/2018|        102256|          |           |High Top Dried Mu...|       2000|         0|      202989|            12/05/2019|         700|                               0|                0|                700|          2|           350|      145| EA|      10009652|                  R1|            1|           Dci Shop|    10009652|           G3|       1|                |816-455-8733|          0|               S21|          C|      10009652|            Valcourt|     CA|550 Du Parc Boule...|                 ...|                 ...|                 ...|   QU|     J0E 2L0|       1|International|          0|       Canada|\n",
      "|          17/06/2019|    10010884|17/06/2018|         499,44|  19/06/2018|        105615|       P01|      38007| Gorilla Jack Cheese|       1000|      1103|      205323|            17/06/2019|      603,56|                            1103|                0|             603,56|     603,56|             1|      105| EA|      10010884|                  R3|            1|    EDC Supermarket|    10010884|           G3|       1|              M1|816-455-8733|          0|                S5|          C|      10010884|        Boucherville|     CA|170 Industrial Bo...|                 ...|                 ...|                 ...|   QU|     J4B 2X3|       1|International|          0|       Canada|\n",
      "|          26/05/2019|    10004516|25/05/2018|       96627,94|  27/05/2018|        103341|       P01|      60776|High Top Sweet Onion|       1000|    408,52|      203785|            26/05/2019|    89248,66|                        185876,6|                0|           89248,66|196,1509011|           455|      124| SE|      10004516|                  R3|            1|      Besicorp Shop|    10004516|           G1|       1|              M1|816-455-8733|          5|               S19|          C|      10004516|  Lighthorne Warwick|     UK|  Vehicle Operations|Building 540 53G/...|        Banbury Road|                 ...|     |    CV35 ORG|       1|International|          5|International|\n",
      "|          28/05/2019|    10004516|28/05/2018|          -1950|  30/05/2018|        103610|          |           |Best Choice Fudge...|       2000|         0|      203785|            28/05/2019|        1950|                               0|                0|               1950|       1950|             1|      124| EA|      10004516|                  R3|            1|      Besicorp Shop|    10004516|           G1|       1|              M1|816-455-8733|          5|               S19|          C|      10004516|  Lighthorne Warwick|     UK|  Vehicle Operations|Building 540 53G/...|        Banbury Road|                 ...|     |    CV35 ORG|       1|International|          5|International|\n",
      "|          14/09/2019|    10009606|14/09/2018|      1287,3476|  16/09/2018|        100445|       P01|      17801|Better Fancy Cann...|       3000| 1379,7938|      200478|            14/09/2019|     1472,24|                       2759,5876|                0|            1472,24|     736,12|             2|      118| EA|      10009606|                  R3|            1|   Champs Gigaplace|    10009606|           G1|       1|              M1|816-455-8733|          5|               S19|          C|      10009606|             Kilsyth|     UK|          PO Box 105|                 ...|                 ...|                 ...|     |        3136|       1|International|          5|International|\n",
      "|          14/09/2019|    10009606|14/09/2018|        4764,33|  16/09/2018|        100445|       P01|      48500|Red Spade Low Fat...|       1000|   1134,77|      200478|            14/09/2019|      5448,6|                        10212,93|                0|             5448,6|      605,4|             9|      118| EA|      10009606|                  R3|            1|   Champs Gigaplace|    10009606|           G1|       1|              M1|816-455-8733|          5|               S19|          C|      10009606|             Kilsyth|     UK|          PO Box 105|                 ...|                 ...|                 ...|     |        3136|       1|International|          5|International|\n",
      "|          01/09/2019|    10007866|01/09/2018|        371,014|  03/09/2018|        100403|       P01|      20910|  Moms Sliced Turkey|       2000|   795,314|      200436|            01/09/2019|       424,3|                         795,314|                0|              424,3|      424,3|             1|      149| EA|      10007866|                  R3|            1|        Camros Shop|    10007866|           G1|       1|              M1|816-455-8733|          5|               S16|          C|      10007866|           Sao Paulo|     UK|    Rua Sepetiba 464|                 ...|                 ...|                 ...|     |        5052|       1|International|          5|International|\n",
      "|          04/06/2019|    10009633|08/06/2018|        -526,64|  10/06/2018|        104708|          |      38631|    Jumbo Large Eggs|       1000|         0|      204575|            04/06/2019|      526,64|                               0|                0|             526,64|     526,64|             1|      127| EA|      10009633|                  R3|            1|          Dan Store|    10009633|           G2|       1|                |816-455-8733|          5|               S16|          C|      10009633|                 ...|     UK|                 ...|                 ...|                 ...|                 ...|     |            |       1|International|          5|International|\n",
      "|          16/08/2019|    10009633|18/08/2018|              0|  20/08/2018|        100379|       P01|      60449|High Top Corn on ...|       1000|    346,53|      200397|            16/08/2019|      346,53|                          346,53|                0|             346,53|     346,53|             1|      127| EA|      10009633|                  R3|            1|          Dan Store|    10009633|           G2|       1|                |816-455-8733|          5|               S16|          C|      10009633|                 ...|     UK|                 ...|                 ...|                 ...|                 ...|     |            |       1|International|          5|International|\n",
      "|          12/11/2019|    10009645|15/11/2018|              0|  17/11/2018|        100684|          |      61801|Moms Low Fat Bologna|       2000|    258,01|      200733|            12/11/2019|     3096,12|                         3096,12|                0|            3096,12|     258,01|            12|      155| EA|      10009645|                  O2|            1|         Day Market|    10009645|           G2|       1|                |816-455-8733|          5|               S12|          C|          null|                null|   null|                null|                null|                null|                null| null|        null|       1|International|          5|International|\n",
      "|          16/06/2019|    10009356|16/06/2018|         608,08|  18/06/2018|        105481|       P01|      62550|    Tell Tale Garlic|      29000|       575|      205213|            16/06/2019|      541,92|                            1150|                0|             541,92|     270,96|             2|      103| EA|      10009356|                  R1|            1|Central Supermarket|    10009356|           G2|       2|                |816-455-8733|          4|               S11|          C|      10009356|      Cape Girardeau|     US|Global Motorsport...|         PO Box 1179|                 ...|                 ...|   MO|       63702|       2|     Domestic|          4|      Central|\n",
      "|          16/06/2019|    10009356|16/06/2018|          424,8|  18/06/2018|        105481|       P01|      60794|    High Top Walnuts|      18000|     51,88|      205213|            16/06/2019|       353,4|                           778,2|                0|              353,4|      23,56|            15|      103| EA|      10009356|                  R1|            1|Central Supermarket|    10009356|           G2|       2|                |816-455-8733|          4|               S11|          C|      10009356|      Cape Girardeau|     US|Global Motorsport...|         PO Box 1179|                 ...|                 ...|   MO|       63702|       2|     Domestic|          4|      Central|\n",
      "|          16/06/2019|    10009356|16/06/2018|        13492,8|  18/06/2018|        105481|       P01|      36001|Big Time Frozen C...|       9000|    412,03|      205213|            16/06/2019|       11229|                         24721,8|                0|              11229|     187,15|            60|      103| EA|      10009356|                  R1|            1|Central Supermarket|    10009356|           G2|       2|                |816-455-8733|          4|               S11|          C|      10009356|      Cape Girardeau|     US|Global Motorsport...|         PO Box 1179|                 ...|                 ...|   MO|       63702|       2|     Domestic|          4|      Central|\n",
      "|          16/06/2019|    10009356|16/06/2018|        10481,1|  18/06/2018|        105481|       P01|      38076|Cutting Edge Foot...|      13000|    548,66|      205213|            16/06/2019|        8722|                         19203,1|                0|               8722|      249,2|            35|      103| EA|      10009356|                  R1|            1|Central Supermarket|    10009356|           G2|       2|                |816-455-8733|          4|               S11|          C|      10009356|      Cape Girardeau|     US|Global Motorsport...|         PO Box 1179|                 ...|                 ...|   MO|       63702|       2|     Domestic|          4|      Central|\n",
      "|          16/06/2019|    10009356|16/06/2018|       404,1465|  18/06/2018|        105481|       P01|      61484|Super Creamy Pean...|      37000|   50,5051|      205213|            16/06/2019|      353,43|                        757,5765|                0|             353,43|     23,562|            15|      103| EA|      10009356|                  R1|            1|Central Supermarket|    10009356|           G2|       2|                |816-455-8733|          4|               S11|          C|      10009356|      Cape Girardeau|     US|Global Motorsport...|         PO Box 1179|                 ...|                 ...|   MO|       63702|       2|     Domestic|          4|      Central|\n",
      "|          28/04/2019|    10000481|28/04/2018|        -237,91|  30/04/2018|        100012|          |           |    Urban Large Eggs|       2000|         0|      200015|            28/04/2019|      237,91|                               0|                0|             237,91|     237,91|             1|      184| EA|      10000481|                  R2|            1|        Abbott Shop|    10000481|           G2|       2|                |816-455-8733|          4|                S5|          C|      10000481|             Chicago|     US|            Box 5516|                 ...|                 ...|                 ...|   IL|       60680|       2|     Domestic|          4|      Central|\n",
      "|          01/06/2019|    10002489|01/06/2018|        -211,75|  03/06/2018|        100096|          |           |            Kiwi Lox|       1000|         0|      200107|            01/06/2019|      211,75|                               0|                0|             211,75|     211,75|             1|      160| EA|      10002489|                  R3|            1|    ACT Supermarket|    10002489|           G2|       2|                |816-455-8733|          2|               S16|          C|      10002489|          Villa Rica|     US|          PO Box 266|                 ...|                 ...|                 ...|   GA|  30180-0266|       2|     Domestic|          2|     Southern|\n",
      "+--------------------+------------+----------+---------------+------------+--------------+----------+-----------+--------------------+-----------+----------+------------+----------------------+------------+--------------------------------+-----------------+-------------------+-----------+--------------+---------+---+--------------+--------------------+-------------+-------------------+------------+-------------+--------+----------------+------------+-----------+------------------+-----------+--------------+--------------------+-------+--------------------+--------------------+--------------------+--------------------+-----+------------+--------+-------------+-----------+-------------+\n",
      "only showing top 20 rows\n",
      "\n"
     ]
    },
    {
     "ename": "AttributeError",
     "evalue": "'NoneType' object has no attribute 'limit'",
     "output_type": "error",
     "traceback": [
      "\u001b[0;31m---------------------------------------------------------------------------\u001b[0m",
      "\u001b[0;31mAttributeError\u001b[0m                            Traceback (most recent call last)",
      "\u001b[0;32m<ipython-input-125-3c9cb8d77d5a>\u001b[0m in \u001b[0;36m<module>\u001b[0;34m()\u001b[0m\n\u001b[1;32m      6\u001b[0m \u001b[0mdf_stage\u001b[0m \u001b[0;34m=\u001b[0m \u001b[0mdf_stage\u001b[0m\u001b[0;34m.\u001b[0m\u001b[0mjoin\u001b[0m\u001b[0;34m(\u001b[0m\u001b[0mdf_regiao\u001b[0m\u001b[0;34m,\u001b[0m\u001b[0mdf_stage\u001b[0m\u001b[0;34m.\u001b[0m\u001b[0mregion_code\u001b[0m \u001b[0;34m==\u001b[0m \u001b[0mdf_regiao\u001b[0m\u001b[0;34m.\u001b[0m\u001b[0mregion_code\u001b[0m\u001b[0;34m,\u001b[0m\u001b[0;34m\"left\"\u001b[0m\u001b[0;34m)\u001b[0m\u001b[0;34m\u001b[0m\u001b[0;34m\u001b[0m\u001b[0m\n\u001b[1;32m      7\u001b[0m \u001b[0;34m\u001b[0m\u001b[0m\n\u001b[0;32m----> 8\u001b[0;31m \u001b[0mdf_stage\u001b[0m\u001b[0;34m.\u001b[0m\u001b[0mshow\u001b[0m\u001b[0;34m(\u001b[0m\u001b[0;34m)\u001b[0m\u001b[0;34m.\u001b[0m\u001b[0mlimit\u001b[0m\u001b[0;34m(\u001b[0m\u001b[0;36m3\u001b[0m\u001b[0;34m)\u001b[0m\u001b[0;34m\u001b[0m\u001b[0;34m\u001b[0m\u001b[0m\n\u001b[0m",
      "\u001b[0;31mAttributeError\u001b[0m: 'NoneType' object has no attribute 'limit'"
     ]
    }
   ],
   "source": [
    "#Fazer um tabelão\n",
    "\n",
    "df_stage = df_vendas.join(df_clientes,df_vendas.customer_key == df_clientes.customer_key,\"left\")\n",
    "df_stage = df_stage.join(df_endereco,df_stage.address_number == df_endereco.address_number,\"left\")\n",
    "df_stage = df_stage.join(df_divisao,df_stage.division == df_divisao.division,\"left\")\n",
    "df_stage = df_stage.join(df_regiao,df_stage.region_code == df_regiao.region_code,\"left\")\n",
    "\n",
    "df_stage.show().limit(3)"
   ]
  },
  {
   "cell_type": "code",
   "execution_count": 126,
   "metadata": {},
   "outputs": [
    {
     "name": "stdout",
     "output_type": "stream",
     "text": [
      "Total sales amount: 26409762.0\n",
      "Total sales quantity: 2943194.0\n",
      "65535\n",
      "683\n",
      "65535\n"
     ]
    }
   ],
   "source": [
    "from pyspark.sql.functions import sum\n",
    "\n",
    "# Somar os valores da coluna \"sales_amount\" no DataFrame \"df_stage\"\n",
    "total_sales_amount = df_stage.agg(sum(\"sales_amount\")).collect()[0][0]\n",
    "total_sales_quantity = df_stage.agg(sum(\"sales_quantity\")).collect()[0][0]\n",
    "\n",
    "# Imprimir o resultado\n",
    "print(\"Total sales amount:\", total_sales_amount)\n",
    "print(\"Total sales quantity:\", total_sales_quantity)\n",
    "\n",
    "print(df_vendas.count())\n",
    "print(df_clientes.count())\n",
    "print(df_stage.count())"
   ]
  },
  {
   "cell_type": "code",
   "execution_count": 127,
   "metadata": {},
   "outputs": [
    {
     "name": "stdout",
     "output_type": "stream",
     "text": [
      "+--------------------+------------+----------+---------------+------------+--------------+----------+-----------+--------------------+-----------+----------+------------+----------------------+------------+--------------------------------+-----------------+-------------------+-----------+--------------+---------+---+--------------+--------------------+-------------+----------------+------------+-------------+--------+----------------+------------+-----------+------------------+-----------+--------------+-------+-------+------------------+--------------------+------------------+--------------------+-----+--------+--------+-------------+-----------+-----------+----+---+---+---------+\n",
      "|actual_delivery_date|customer_key|  date_key|discount_amount|invoice_date|invoice_number|item_class|item_number|                item|line_number|list_price|order_number|promised_delivery_date|sales_amount|sales_amount_based_on_list_price|sales_cost_amount|sales_margin_amount|sales_price|sales_quantity|sales_rep|u_m|address_number|business_family_name|business_unit|        customer|customer_key|customer_type|division|line_of_business|       phone|region_code|regional_sales_mgr|search_type|address_number|   city|country|customer_address_1|  customer_address_2|customer_address_3|  customer_address_4|state|zip_code|division|division_name|region_code|region_name| Ano|Mes|Dia|Trimestre|\n",
      "+--------------------+------------+----------+---------------+------------+--------------+----------+-----------+--------------------+-----------+----------+------------+----------------------+------------+--------------------------------+-----------------+-------------------+-----------+--------------+---------+---+--------------+--------------------+-------------+----------------+------------+-------------+--------+----------------+------------+-----------+------------------+-----------+--------------+-------+-------+------------------+--------------------+------------------+--------------------+-----+--------+--------+-------------+-----------+-----------+----+---+---+---------+\n",
      "|          14/07/2019|    10017638|15/07/2018|        2562,97|  2018-07-17|        100246|       P01|      20990|     Moms Sliced Ham|       4000|       101|      200261|            14/07/2019|     2487,03|                            5050|                0|            2487,03|    49,7406|            50|      115| SE|      10017638|                  R3|            1|Kellys Gigastore|    10017638|           G2|       2|                |816-455-8733|          3|               S16|          C|      10017638|Roanoke|     US|Advance Auto Parts|Attn  Merchandise...|     P.O. Box 2710|                 ...|   VA|   24001|       2|     Domestic|          3|  Northeast|2018|  7| 17|        3|\n",
      "|          13/08/2019|    10017638|13/08/2018|        -325,82|  2018-08-15|        100366|          |           |Excellent Cream Soda|       7000|         0|      200392|            13/08/2019|      325,82|                               0|                0|             325,82|     325,82|             1|      115| EA|      10017638|                  R3|            1|Kellys Gigastore|    10017638|           G2|       2|                |816-455-8733|          3|               S16|          C|      10017638|Roanoke|     US|Advance Auto Parts|Attn  Merchandise...|     P.O. Box 2710|                 ...|   VA|   24001|       2|     Domestic|          3|  Northeast|2018|  8| 15|        3|\n",
      "|          01/09/2019|    10017638|01/09/2018|        -218,15|  2018-09-03|        100410|          |           | Jeffers Wheat Puffs|       7000|         0|      200443|            01/09/2019|      218,15|                               0|                0|             218,15|     218,15|             1|      115| EA|      10017638|                  R3|            1|Kellys Gigastore|    10017638|           G2|       2|                |816-455-8733|          3|               S16|          C|      10017638|Roanoke|     US|Advance Auto Parts|Attn  Merchandise...|     P.O. Box 2710|                 ...|   VA|   24001|       2|     Domestic|          3|  Northeast|2018|  9|  3|        3|\n",
      "|          30/12/2018|    10017638|30/12/2017|         355,31|  2018-01-01|        119078|       P01|      26543|Bravo Fancy Canne...|       7000|    140,02|      216510|            30/12/2018|      344,79|                           700,1|           208,49|              136,3|     68,958|             5|      115| EA|      10017638|                  R3|            1|Kellys Gigastore|    10017638|           G2|       2|                |816-455-8733|          3|               S16|          C|      10017638|Roanoke|     US|Advance Auto Parts|Attn  Merchandise...|     P.O. Box 2710|                 ...|   VA|   24001|       2|     Domestic|          3|  Northeast|2018|  1|  1|        1|\n",
      "|          31/12/2018|    10017638|31/12/2017|         347,64|  2018-01-02|        119230|       P01|      45880|Red Spade Low Fat...|       1000|    767,75|      216769|            31/12/2018|      420,11|                          767,75|           288,16|             131,95|     420,11|             1|      115| EA|      10017638|                  R3|            1|Kellys Gigastore|    10017638|           G2|       2|                |816-455-8733|          3|               S16|          C|      10017638|Roanoke|     US|Advance Auto Parts|Attn  Merchandise...|     P.O. Box 2710|                 ...|   VA|   24001|       2|     Domestic|          3|  Northeast|2018|  1|  2|        1|\n",
      "|          13/01/2019|    10017638|13/01/2018|         248,43|  2018-01-15|        120036|       P01|      38076|Cutting Edge Foot...|       1000|    548,66|      217346|            13/01/2019|      300,23|                          548,66|           121,48|             178,75|     300,23|             1|      115| EA|      10017638|                  R3|            1|Kellys Gigastore|    10017638|           G2|       2|                |816-455-8733|          3|               S16|          C|      10017638|Roanoke|     US|Advance Auto Parts|Attn  Merchandise...|     P.O. Box 2710|                 ...|   VA|   24001|       2|     Domestic|          3|  Northeast|2018|  1| 15|        1|\n",
      "|          19/01/2019|    10017638|19/01/2018|          214,3|  2018-01-21|        120488|       P01|      28761|   Ebony Fuji Apples|       1000|    157,76|      216010|            19/01/2019|      258,98|                          473,28|           143,24|             115,74|86,32666667|             3|      115| EA|      10017638|                  R3|            1|Kellys Gigastore|    10017638|           G2|       2|                |816-455-8733|          3|               S16|          C|      10017638|Roanoke|     US|Advance Auto Parts|Attn  Merchandise...|     P.O. Box 2710|                 ...|   VA|   24001|       2|     Domestic|          3|  Northeast|2018|  1| 21|        1|\n",
      "|          19/01/2019|    10017638|19/01/2018|         357,17|  2018-01-21|        120490|       P01|      28761|   Ebony Fuji Apples|       2000|    157,76|      216380|            19/01/2019|      431,63|                           788,8|           238,73|              192,9|     86,326|             5|      115| EA|      10017638|                  R3|            1|Kellys Gigastore|    10017638|           G2|       2|                |816-455-8733|          3|               S16|          C|      10017638|Roanoke|     US|Advance Auto Parts|Attn  Merchandise...|     P.O. Box 2710|                 ...|   VA|   24001|       2|     Domestic|          3|  Northeast|2018|  1| 21|        1|\n",
      "|          23/01/2019|    10017638|23/01/2018|         292,06|  2018-01-25|        121084|          |      63664|Just Right Fancy ...|       1000|       645|      218035|            23/01/2019|      352,94|                             645|           241,11|             111,83|     352,94|             1|      115| EA|      10017638|                  R3|            1|Kellys Gigastore|    10017638|           G2|       2|                |816-455-8733|          3|               S16|          C|      10017638|Roanoke|     US|Advance Auto Parts|Attn  Merchandise...|     P.O. Box 2710|                 ...|   VA|   24001|       2|     Domestic|          3|  Northeast|2018|  1| 25|        1|\n",
      "|          09/02/2019|    10017638|09/02/2018|          214,3|  2018-02-11|        122368|       P01|      28739|Ebony Canned Peanuts|       2000|    157,76|      218897|            09/02/2019|      258,98|                          473,28|           177,96|              81,02|86,32666667|             3|      115| EA|      10017638|                  R3|            1|Kellys Gigastore|    10017638|           G2|       2|                |816-455-8733|          3|               S16|          C|      10017638|Roanoke|     US|Advance Auto Parts|Attn  Merchandise...|     P.O. Box 2710|                 ...|   VA|   24001|       2|     Domestic|          3|  Northeast|2018|  2| 11|        1|\n",
      "|          09/02/2019|    10017638|09/02/2018|         875,21|  2018-02-11|        122367|       P01|      28401|Ebony Prepared Salad|       1000|    966,44|      218895|            09/02/2019|     1057,67|                         1932,88|           556,76|             500,91|    528,835|             2|      115| EA|      10017638|                  R3|            1|Kellys Gigastore|    10017638|           G2|       2|                |816-455-8733|          3|               S16|          C|      10017638|Roanoke|     US|Advance Auto Parts|Attn  Merchandise...|     P.O. Box 2710|                 ...|   VA|   24001|       2|     Domestic|          3|  Northeast|2018|  2| 11|        1|\n",
      "|          09/02/2019|    10017638|09/02/2018|         323,24|  2018-02-11|        122366|       P01|      32720|High Top Cauliflower|       2000|     50,99|      218894|            09/02/2019|      390,62|                          713,86|           107,84|             282,78|27,90142857|            14|      115| EA|      10017638|                  R3|            1|Kellys Gigastore|    10017638|           G2|       2|                |816-455-8733|          3|               S16|          C|      10017638|Roanoke|     US|Advance Auto Parts|Attn  Merchandise...|     P.O. Box 2710|                 ...|   VA|   24001|       2|     Domestic|          3|  Northeast|2018|  2| 11|        1|\n",
      "|          10/02/2019|    10017638|10/02/2018|       520,9199|  2018-02-12|        122526|       P01|      31875|Golden Frozen Chi...|      13000| 1150,4399|      218904|            10/02/2019|      629,52|                       1150,4399|           320,04|             309,48|     629,52|             1|      115| EA|      10017638|                  R3|            1|Kellys Gigastore|    10017638|           G2|       2|                |816-455-8733|          3|               S16|          C|      10017638|Roanoke|     US|Advance Auto Parts|Attn  Merchandise...|     P.O. Box 2710|                 ...|   VA|   24001|       2|     Domestic|          3|  Northeast|2018|  2| 12|        1|\n",
      "|          10/02/2019|    10017638|10/02/2018|         252,04|  2018-02-12|        122526|       P01|      29260|     Monarch Ravioli|       8000|    556,63|      218904|            10/02/2019|      304,59|                          556,63|            166,3|             138,29|     304,59|             1|      115| EA|      10017638|                  R3|            1|Kellys Gigastore|    10017638|           G2|       2|                |816-455-8733|          3|               S16|          C|      10017638|Roanoke|     US|Advance Auto Parts|Attn  Merchandise...|     P.O. Box 2710|                 ...|   VA|   24001|       2|     Domestic|          3|  Northeast|2018|  2| 12|        1|\n",
      "|          10/02/2019|    10017638|10/02/2018|          428,6|  2018-02-12|        122527|       P01|      28761|   Ebony Fuji Apples|       7000|    157,76|      218945|            10/02/2019|      517,96|                          946,56|           286,47|             231,49|86,32666667|             6|      115| EA|      10017638|                  R3|            1|Kellys Gigastore|    10017638|           G2|       2|                |816-455-8733|          3|               S16|          C|      10017638|Roanoke|     US|Advance Auto Parts|Attn  Merchandise...|     P.O. Box 2710|                 ...|   VA|   24001|       2|     Domestic|          3|  Northeast|2018|  2| 12|        1|\n",
      "|          10/02/2019|    10017638|10/02/2018|        5125,95|  2018-02-12|        122528|       P01|      20990|     Moms Sliced Ham|       1000|       101|      218949|            10/02/2019|     4974,05|                           10100|          2935,66|            2038,39|    49,7405|           100|      115| EA|      10017638|                  R3|            1|Kellys Gigastore|    10017638|           G2|       2|                |816-455-8733|          3|               S16|          C|      10017638|Roanoke|     US|Advance Auto Parts|Attn  Merchandise...|     P.O. Box 2710|                 ...|   VA|   24001|       2|     Domestic|          3|  Northeast|2018|  2| 12|        1|\n",
      "|          10/02/2019|    10017638|10/02/2018|         174,18|  2018-02-12|        122529|       P01|      11690|High Top Dried Mu...|       1000|    192,34|      218951|            10/02/2019|       210,5|                          384,68|            66,78|             143,72|     105,25|             2|      115| EA|      10017638|                  R3|            1|Kellys Gigastore|    10017638|           G2|       2|                |816-455-8733|          3|               S16|          C|      10017638|Roanoke|     US|Advance Auto Parts|Attn  Merchandise...|     P.O. Box 2710|                 ...|   VA|   24001|       2|     Domestic|          3|  Northeast|2018|  2| 12|        1|\n",
      "|          16/02/2019|    10017638|13/02/2018|        7688,92|  2018-02-15|        122892|       P01|      20990|     Moms Sliced Ham|       1000|       101|      219072|            16/02/2019|     7461,08|                           15150|          4403,49|            3057,59|49,74053333|           150|      115| EA|      10017638|                  R3|            1|Kellys Gigastore|    10017638|           G2|       2|                |816-455-8733|          3|               S16|          C|      10017638|Roanoke|     US|Advance Auto Parts|Attn  Merchandise...|     P.O. Box 2710|                 ...|   VA|   24001|       2|     Domestic|          3|  Northeast|2018|  2| 15|        1|\n",
      "|          16/02/2019|    10017638|16/02/2018|         373,13|  2018-02-18|        123018|       P01|      36001|Big Time Frozen C...|       2000|    412,03|      218957|            16/02/2019|      450,93|                          824,06|           168,47|             282,46|    225,465|             2|      115| EA|      10017638|                  R3|            1|Kellys Gigastore|    10017638|           G2|       2|                |816-455-8733|          3|               S16|          C|      10017638|Roanoke|     US|Advance Auto Parts|Attn  Merchandise...|     P.O. Box 2710|                 ...|   VA|   24001|       2|     Domestic|          3|  Northeast|2018|  2| 18|        1|\n",
      "|          16/02/2019|    10017638|16/02/2018|          214,3|  2018-02-18|        123017|       P01|      28761|   Ebony Fuji Apples|       1000|    157,76|      218956|            16/02/2019|      258,98|                          473,28|           143,24|             115,74|86,32666667|             3|      115| EA|      10017638|                  R3|            1|Kellys Gigastore|    10017638|           G2|       2|                |816-455-8733|          3|               S16|          C|      10017638|Roanoke|     US|Advance Auto Parts|Attn  Merchandise...|     P.O. Box 2710|                 ...|   VA|   24001|       2|     Domestic|          3|  Northeast|2018|  2| 18|        1|\n",
      "+--------------------+------------+----------+---------------+------------+--------------+----------+-----------+--------------------+-----------+----------+------------+----------------------+------------+--------------------------------+-----------------+-------------------+-----------+--------------+---------+---+--------------+--------------------+-------------+----------------+------------+-------------+--------+----------------+------------+-----------+------------------+-----------+--------------+-------+-------+------------------+--------------------+------------------+--------------------+-----+--------+--------+-------------+-----------+-----------+----+---+---+---------+\n",
      "only showing top 20 rows\n",
      "\n"
     ]
    }
   ],
   "source": [
    "#Adicionar colunas Ano, Mês, Dia, Trimestre tomando como base a coluna invoice_date\n",
    "\n",
    "df_stage = df_stage.withColumn('invoice_date', to_date(col('invoice_date'), 'dd/MM/yyyy'))\n",
    "\n",
    "df_stage = df_stage \\\n",
    "    .withColumn('Ano', year('invoice_date')) \\\n",
    "    .withColumn('Mes', month('invoice_date')) \\\n",
    "    .withColumn('Dia', dayofmonth('invoice_date')) \\\n",
    "    .withColumn('Trimestre', quarter('invoice_date'))\n",
    "\n",
    "df_stage.show()\n",
    "                        "
   ]
  },
  {
   "cell_type": "code",
   "execution_count": 128,
   "metadata": {},
   "outputs": [],
   "source": [
    "#Campos decimais ou inteiros nulos ou vazios, deversão ser preenchidos por 0.\n",
    "\n",
    "cols_to_check = ['item_number', 'discount_amount', 'list_price', 'sales_amount', 'sales_amount_based_on_list_price', 'sales_cost_amount', 'sales_margin_amount', 'sales_price', 'line_number', 'sales_quantity']\n",
    "\n",
    "for col_name in cols_to_check:\n",
    "     df_stage = df_stage.withColumn(col_name, when(col(col_name) == '', 0).otherwise(col(col_name)))\n"
   ]
  },
  {
   "cell_type": "code",
   "execution_count": 129,
   "metadata": {},
   "outputs": [
    {
     "ename": "AnalysisException",
     "evalue": "\"Reference 'customer_key' is ambiguous, could be: customer_key, customer_key.;\"",
     "output_type": "error",
     "traceback": [
      "\u001b[0;31m---------------------------------------------------------------------------\u001b[0m",
      "\u001b[0;31mPy4JJavaError\u001b[0m                             Traceback (most recent call last)",
      "\u001b[0;32m/opt/spark/python/pyspark/sql/utils.py\u001b[0m in \u001b[0;36mdeco\u001b[0;34m(*a, **kw)\u001b[0m\n\u001b[1;32m     62\u001b[0m         \u001b[0;32mtry\u001b[0m\u001b[0;34m:\u001b[0m\u001b[0;34m\u001b[0m\u001b[0;34m\u001b[0m\u001b[0m\n\u001b[0;32m---> 63\u001b[0;31m             \u001b[0;32mreturn\u001b[0m \u001b[0mf\u001b[0m\u001b[0;34m(\u001b[0m\u001b[0;34m*\u001b[0m\u001b[0ma\u001b[0m\u001b[0;34m,\u001b[0m \u001b[0;34m**\u001b[0m\u001b[0mkw\u001b[0m\u001b[0;34m)\u001b[0m\u001b[0;34m\u001b[0m\u001b[0;34m\u001b[0m\u001b[0m\n\u001b[0m\u001b[1;32m     64\u001b[0m         \u001b[0;32mexcept\u001b[0m \u001b[0mpy4j\u001b[0m\u001b[0;34m.\u001b[0m\u001b[0mprotocol\u001b[0m\u001b[0;34m.\u001b[0m\u001b[0mPy4JJavaError\u001b[0m \u001b[0;32mas\u001b[0m \u001b[0me\u001b[0m\u001b[0;34m:\u001b[0m\u001b[0;34m\u001b[0m\u001b[0;34m\u001b[0m\u001b[0m\n",
      "\u001b[0;32m/opt/spark/python/lib/py4j-0.10.7-src.zip/py4j/protocol.py\u001b[0m in \u001b[0;36mget_return_value\u001b[0;34m(answer, gateway_client, target_id, name)\u001b[0m\n\u001b[1;32m    327\u001b[0m                     \u001b[0;34m\"An error occurred while calling {0}{1}{2}.\\n\"\u001b[0m\u001b[0;34m.\u001b[0m\u001b[0;34m\u001b[0m\u001b[0;34m\u001b[0m\u001b[0m\n\u001b[0;32m--> 328\u001b[0;31m                     format(target_id, \".\", name), value)\n\u001b[0m\u001b[1;32m    329\u001b[0m             \u001b[0;32melse\u001b[0m\u001b[0;34m:\u001b[0m\u001b[0;34m\u001b[0m\u001b[0;34m\u001b[0m\u001b[0m\n",
      "\u001b[0;31mPy4JJavaError\u001b[0m: An error occurred while calling o2869.filter.\n: org.apache.spark.sql.AnalysisException: Reference 'customer_key' is ambiguous, could be: customer_key, customer_key.;\n\tat org.apache.spark.sql.catalyst.expressions.package$AttributeSeq.resolve(package.scala:259)\n\tat org.apache.spark.sql.catalyst.plans.logical.LogicalPlan.resolveChildren(LogicalPlan.scala:101)\n\tat org.apache.spark.sql.catalyst.analysis.Analyzer$ResolveReferences$$anonfun$40.apply(Analyzer.scala:890)\n\tat org.apache.spark.sql.catalyst.analysis.Analyzer$ResolveReferences$$anonfun$40.apply(Analyzer.scala:892)\n\tat org.apache.spark.sql.catalyst.analysis.package$.withPosition(package.scala:53)\n\tat org.apache.spark.sql.catalyst.analysis.Analyzer$ResolveReferences$.org$apache$spark$sql$catalyst$analysis$Analyzer$ResolveReferences$$resolve(Analyzer.scala:889)\n\tat org.apache.spark.sql.catalyst.analysis.Analyzer$ResolveReferences$$anonfun$org$apache$spark$sql$catalyst$analysis$Analyzer$ResolveReferences$$resolve$2.apply(Analyzer.scala:898)\n\tat org.apache.spark.sql.catalyst.analysis.Analyzer$ResolveReferences$$anonfun$org$apache$spark$sql$catalyst$analysis$Analyzer$ResolveReferences$$resolve$2.apply(Analyzer.scala:898)\n\tat org.apache.spark.sql.catalyst.trees.TreeNode$$anonfun$4.apply(TreeNode.scala:326)\n\tat org.apache.spark.sql.catalyst.trees.TreeNode.mapProductIterator(TreeNode.scala:187)\n\tat org.apache.spark.sql.catalyst.trees.TreeNode.mapChildren(TreeNode.scala:324)\n\tat org.apache.spark.sql.catalyst.analysis.Analyzer$ResolveReferences$.org$apache$spark$sql$catalyst$analysis$Analyzer$ResolveReferences$$resolve(Analyzer.scala:898)\n\tat org.apache.spark.sql.catalyst.analysis.Analyzer$ResolveReferences$$anonfun$org$apache$spark$sql$catalyst$analysis$Analyzer$ResolveReferences$$resolve$2.apply(Analyzer.scala:898)\n\tat org.apache.spark.sql.catalyst.analysis.Analyzer$ResolveReferences$$anonfun$org$apache$spark$sql$catalyst$analysis$Analyzer$ResolveReferences$$resolve$2.apply(Analyzer.scala:898)\n\tat org.apache.spark.sql.catalyst.trees.TreeNode$$anonfun$4.apply(TreeNode.scala:326)\n\tat org.apache.spark.sql.catalyst.trees.TreeNode.mapProductIterator(TreeNode.scala:187)\n\tat org.apache.spark.sql.catalyst.trees.TreeNode.mapChildren(TreeNode.scala:324)\n\tat org.apache.spark.sql.catalyst.analysis.Analyzer$ResolveReferences$.org$apache$spark$sql$catalyst$analysis$Analyzer$ResolveReferences$$resolve(Analyzer.scala:898)\n\tat org.apache.spark.sql.catalyst.analysis.Analyzer$ResolveReferences$$anonfun$apply$9$$anonfun$applyOrElse$35.apply(Analyzer.scala:958)\n\tat org.apache.spark.sql.catalyst.analysis.Analyzer$ResolveReferences$$anonfun$apply$9$$anonfun$applyOrElse$35.apply(Analyzer.scala:958)\n\tat org.apache.spark.sql.catalyst.plans.QueryPlan$$anonfun$1.apply(QueryPlan.scala:105)\n\tat org.apache.spark.sql.catalyst.plans.QueryPlan$$anonfun$1.apply(QueryPlan.scala:105)\n\tat org.apache.spark.sql.catalyst.trees.CurrentOrigin$.withOrigin(TreeNode.scala:70)\n\tat org.apache.spark.sql.catalyst.plans.QueryPlan.transformExpression$1(QueryPlan.scala:104)\n\tat org.apache.spark.sql.catalyst.plans.QueryPlan.org$apache$spark$sql$catalyst$plans$QueryPlan$$recursiveTransform$1(QueryPlan.scala:116)\n\tat org.apache.spark.sql.catalyst.plans.QueryPlan$$anonfun$2.apply(QueryPlan.scala:126)\n\tat org.apache.spark.sql.catalyst.trees.TreeNode.mapProductIterator(TreeNode.scala:187)\n\tat org.apache.spark.sql.catalyst.plans.QueryPlan.mapExpressions(QueryPlan.scala:126)\n\tat org.apache.spark.sql.catalyst.analysis.Analyzer$ResolveReferences$$anonfun$apply$9.applyOrElse(Analyzer.scala:958)\n\tat org.apache.spark.sql.catalyst.analysis.Analyzer$ResolveReferences$$anonfun$apply$9.applyOrElse(Analyzer.scala:901)\n\tat org.apache.spark.sql.catalyst.plans.logical.AnalysisHelper$$anonfun$resolveOperatorsUp$1$$anonfun$apply$1.apply(AnalysisHelper.scala:90)\n\tat org.apache.spark.sql.catalyst.plans.logical.AnalysisHelper$$anonfun$resolveOperatorsUp$1$$anonfun$apply$1.apply(AnalysisHelper.scala:90)\n\tat org.apache.spark.sql.catalyst.trees.CurrentOrigin$.withOrigin(TreeNode.scala:70)\n\tat org.apache.spark.sql.catalyst.plans.logical.AnalysisHelper$$anonfun$resolveOperatorsUp$1.apply(AnalysisHelper.scala:89)\n\tat org.apache.spark.sql.catalyst.plans.logical.AnalysisHelper$$anonfun$resolveOperatorsUp$1.apply(AnalysisHelper.scala:86)\n\tat org.apache.spark.sql.catalyst.plans.logical.AnalysisHelper$.allowInvokingTransformsInAnalyzer(AnalysisHelper.scala:194)\n\tat org.apache.spark.sql.catalyst.plans.logical.AnalysisHelper$class.resolveOperatorsUp(AnalysisHelper.scala:86)\n\tat org.apache.spark.sql.catalyst.plans.logical.LogicalPlan.resolveOperatorsUp(LogicalPlan.scala:29)\n\tat org.apache.spark.sql.catalyst.analysis.Analyzer$ResolveReferences$.apply(Analyzer.scala:901)\n\tat org.apache.spark.sql.catalyst.analysis.Analyzer$ResolveReferences$.apply(Analyzer.scala:758)\n\tat org.apache.spark.sql.catalyst.rules.RuleExecutor$$anonfun$execute$1$$anonfun$apply$1.apply(RuleExecutor.scala:87)\n\tat org.apache.spark.sql.catalyst.rules.RuleExecutor$$anonfun$execute$1$$anonfun$apply$1.apply(RuleExecutor.scala:84)\n\tat scala.collection.LinearSeqOptimized$class.foldLeft(LinearSeqOptimized.scala:124)\n\tat scala.collection.immutable.List.foldLeft(List.scala:84)\n\tat org.apache.spark.sql.catalyst.rules.RuleExecutor$$anonfun$execute$1.apply(RuleExecutor.scala:84)\n\tat org.apache.spark.sql.catalyst.rules.RuleExecutor$$anonfun$execute$1.apply(RuleExecutor.scala:76)\n\tat scala.collection.immutable.List.foreach(List.scala:392)\n\tat org.apache.spark.sql.catalyst.rules.RuleExecutor.execute(RuleExecutor.scala:76)\n\tat org.apache.spark.sql.catalyst.analysis.Analyzer.org$apache$spark$sql$catalyst$analysis$Analyzer$$executeSameContext(Analyzer.scala:127)\n\tat org.apache.spark.sql.catalyst.analysis.Analyzer.execute(Analyzer.scala:121)\n\tat org.apache.spark.sql.catalyst.analysis.Analyzer$$anonfun$executeAndCheck$1.apply(Analyzer.scala:106)\n\tat org.apache.spark.sql.catalyst.analysis.Analyzer$$anonfun$executeAndCheck$1.apply(Analyzer.scala:105)\n\tat org.apache.spark.sql.catalyst.plans.logical.AnalysisHelper$.markInAnalyzer(AnalysisHelper.scala:201)\n\tat org.apache.spark.sql.catalyst.analysis.Analyzer.executeAndCheck(Analyzer.scala:105)\n\tat org.apache.spark.sql.execution.QueryExecution.analyzed$lzycompute(QueryExecution.scala:57)\n\tat org.apache.spark.sql.execution.QueryExecution.analyzed(QueryExecution.scala:55)\n\tat org.apache.spark.sql.execution.QueryExecution.assertAnalyzed(QueryExecution.scala:47)\n\tat org.apache.spark.sql.Dataset.<init>(Dataset.scala:176)\n\tat org.apache.spark.sql.Dataset.<init>(Dataset.scala:182)\n\tat org.apache.spark.sql.Dataset$.apply(Dataset.scala:64)\n\tat org.apache.spark.sql.Dataset.withTypedPlan(Dataset.scala:3411)\n\tat org.apache.spark.sql.Dataset.filter(Dataset.scala:1484)\n\tat sun.reflect.NativeMethodAccessorImpl.invoke0(Native Method)\n\tat sun.reflect.NativeMethodAccessorImpl.invoke(NativeMethodAccessorImpl.java:62)\n\tat sun.reflect.DelegatingMethodAccessorImpl.invoke(DelegatingMethodAccessorImpl.java:43)\n\tat java.lang.reflect.Method.invoke(Method.java:498)\n\tat py4j.reflection.MethodInvoker.invoke(MethodInvoker.java:244)\n\tat py4j.reflection.ReflectionEngine.invoke(ReflectionEngine.java:357)\n\tat py4j.Gateway.invoke(Gateway.java:282)\n\tat py4j.commands.AbstractCommand.invokeMethod(AbstractCommand.java:132)\n\tat py4j.commands.CallCommand.execute(CallCommand.java:79)\n\tat py4j.GatewayConnection.run(GatewayConnection.java:238)\n\tat java.lang.Thread.run(Thread.java:748)\n",
      "\nDuring handling of the above exception, another exception occurred:\n",
      "\u001b[0;31mAnalysisException\u001b[0m                         Traceback (most recent call last)",
      "\u001b[0;32m<ipython-input-129-6d0a56cf4ac2>\u001b[0m in \u001b[0;36m<module>\u001b[0;34m()\u001b[0m\n\u001b[1;32m      1\u001b[0m \u001b[0;31m#Filtro para verificar se determinado cliente que tinha valores vazio foram substituidos por zero\u001b[0m\u001b[0;34m\u001b[0m\u001b[0;34m\u001b[0m\u001b[0;34m\u001b[0m\u001b[0m\n\u001b[0;32m----> 2\u001b[0;31m \u001b[0mdf_stage\u001b[0m\u001b[0;34m.\u001b[0m\u001b[0mfilter\u001b[0m\u001b[0;34m(\u001b[0m\u001b[0;34m(\u001b[0m\u001b[0mcol\u001b[0m\u001b[0;34m(\u001b[0m\u001b[0;34m\"customer_key\"\u001b[0m\u001b[0;34m)\u001b[0m \u001b[0;34m==\u001b[0m \u001b[0;34m\"10016588\"\u001b[0m\u001b[0;34m)\u001b[0m \u001b[0;34m&\u001b[0m \u001b[0;34m(\u001b[0m\u001b[0mcol\u001b[0m\u001b[0;34m(\u001b[0m\u001b[0;34m\"invoice_number\"\u001b[0m\u001b[0;34m)\u001b[0m \u001b[0;34m==\u001b[0m \u001b[0;34m\"110753\"\u001b[0m\u001b[0;34m)\u001b[0m\u001b[0;34m)\u001b[0m\u001b[0;34m.\u001b[0m\u001b[0mshow\u001b[0m\u001b[0;34m(\u001b[0m\u001b[0mtruncate\u001b[0m\u001b[0;34m=\u001b[0m\u001b[0;32mFalse\u001b[0m\u001b[0;34m)\u001b[0m\u001b[0;34m\u001b[0m\u001b[0;34m\u001b[0m\u001b[0m\n\u001b[0m",
      "\u001b[0;32m/opt/spark/python/pyspark/sql/dataframe.py\u001b[0m in \u001b[0;36mfilter\u001b[0;34m(self, condition)\u001b[0m\n\u001b[1;32m   1358\u001b[0m             \u001b[0mjdf\u001b[0m \u001b[0;34m=\u001b[0m \u001b[0mself\u001b[0m\u001b[0;34m.\u001b[0m\u001b[0m_jdf\u001b[0m\u001b[0;34m.\u001b[0m\u001b[0mfilter\u001b[0m\u001b[0;34m(\u001b[0m\u001b[0mcondition\u001b[0m\u001b[0;34m)\u001b[0m\u001b[0;34m\u001b[0m\u001b[0;34m\u001b[0m\u001b[0m\n\u001b[1;32m   1359\u001b[0m         \u001b[0;32melif\u001b[0m \u001b[0misinstance\u001b[0m\u001b[0;34m(\u001b[0m\u001b[0mcondition\u001b[0m\u001b[0;34m,\u001b[0m \u001b[0mColumn\u001b[0m\u001b[0;34m)\u001b[0m\u001b[0;34m:\u001b[0m\u001b[0;34m\u001b[0m\u001b[0;34m\u001b[0m\u001b[0m\n\u001b[0;32m-> 1360\u001b[0;31m             \u001b[0mjdf\u001b[0m \u001b[0;34m=\u001b[0m \u001b[0mself\u001b[0m\u001b[0;34m.\u001b[0m\u001b[0m_jdf\u001b[0m\u001b[0;34m.\u001b[0m\u001b[0mfilter\u001b[0m\u001b[0;34m(\u001b[0m\u001b[0mcondition\u001b[0m\u001b[0;34m.\u001b[0m\u001b[0m_jc\u001b[0m\u001b[0;34m)\u001b[0m\u001b[0;34m\u001b[0m\u001b[0;34m\u001b[0m\u001b[0m\n\u001b[0m\u001b[1;32m   1361\u001b[0m         \u001b[0;32melse\u001b[0m\u001b[0;34m:\u001b[0m\u001b[0;34m\u001b[0m\u001b[0;34m\u001b[0m\u001b[0m\n\u001b[1;32m   1362\u001b[0m             \u001b[0;32mraise\u001b[0m \u001b[0mTypeError\u001b[0m\u001b[0;34m(\u001b[0m\u001b[0;34m\"condition should be string or Column\"\u001b[0m\u001b[0;34m)\u001b[0m\u001b[0;34m\u001b[0m\u001b[0;34m\u001b[0m\u001b[0m\n",
      "\u001b[0;32m/opt/spark/python/lib/py4j-0.10.7-src.zip/py4j/java_gateway.py\u001b[0m in \u001b[0;36m__call__\u001b[0;34m(self, *args)\u001b[0m\n\u001b[1;32m   1255\u001b[0m         \u001b[0manswer\u001b[0m \u001b[0;34m=\u001b[0m \u001b[0mself\u001b[0m\u001b[0;34m.\u001b[0m\u001b[0mgateway_client\u001b[0m\u001b[0;34m.\u001b[0m\u001b[0msend_command\u001b[0m\u001b[0;34m(\u001b[0m\u001b[0mcommand\u001b[0m\u001b[0;34m)\u001b[0m\u001b[0;34m\u001b[0m\u001b[0;34m\u001b[0m\u001b[0m\n\u001b[1;32m   1256\u001b[0m         return_value = get_return_value(\n\u001b[0;32m-> 1257\u001b[0;31m             answer, self.gateway_client, self.target_id, self.name)\n\u001b[0m\u001b[1;32m   1258\u001b[0m \u001b[0;34m\u001b[0m\u001b[0m\n\u001b[1;32m   1259\u001b[0m         \u001b[0;32mfor\u001b[0m \u001b[0mtemp_arg\u001b[0m \u001b[0;32min\u001b[0m \u001b[0mtemp_args\u001b[0m\u001b[0;34m:\u001b[0m\u001b[0;34m\u001b[0m\u001b[0;34m\u001b[0m\u001b[0m\n",
      "\u001b[0;32m/opt/spark/python/pyspark/sql/utils.py\u001b[0m in \u001b[0;36mdeco\u001b[0;34m(*a, **kw)\u001b[0m\n\u001b[1;32m     67\u001b[0m                                              e.java_exception.getStackTrace()))\n\u001b[1;32m     68\u001b[0m             \u001b[0;32mif\u001b[0m \u001b[0ms\u001b[0m\u001b[0;34m.\u001b[0m\u001b[0mstartswith\u001b[0m\u001b[0;34m(\u001b[0m\u001b[0;34m'org.apache.spark.sql.AnalysisException: '\u001b[0m\u001b[0;34m)\u001b[0m\u001b[0;34m:\u001b[0m\u001b[0;34m\u001b[0m\u001b[0;34m\u001b[0m\u001b[0m\n\u001b[0;32m---> 69\u001b[0;31m                 \u001b[0;32mraise\u001b[0m \u001b[0mAnalysisException\u001b[0m\u001b[0;34m(\u001b[0m\u001b[0ms\u001b[0m\u001b[0;34m.\u001b[0m\u001b[0msplit\u001b[0m\u001b[0;34m(\u001b[0m\u001b[0;34m': '\u001b[0m\u001b[0;34m,\u001b[0m \u001b[0;36m1\u001b[0m\u001b[0;34m)\u001b[0m\u001b[0;34m[\u001b[0m\u001b[0;36m1\u001b[0m\u001b[0;34m]\u001b[0m\u001b[0;34m,\u001b[0m \u001b[0mstackTrace\u001b[0m\u001b[0;34m)\u001b[0m\u001b[0;34m\u001b[0m\u001b[0;34m\u001b[0m\u001b[0m\n\u001b[0m\u001b[1;32m     70\u001b[0m             \u001b[0;32mif\u001b[0m \u001b[0ms\u001b[0m\u001b[0;34m.\u001b[0m\u001b[0mstartswith\u001b[0m\u001b[0;34m(\u001b[0m\u001b[0;34m'org.apache.spark.sql.catalyst.analysis'\u001b[0m\u001b[0;34m)\u001b[0m\u001b[0;34m:\u001b[0m\u001b[0;34m\u001b[0m\u001b[0;34m\u001b[0m\u001b[0m\n\u001b[1;32m     71\u001b[0m                 \u001b[0;32mraise\u001b[0m \u001b[0mAnalysisException\u001b[0m\u001b[0;34m(\u001b[0m\u001b[0ms\u001b[0m\u001b[0;34m.\u001b[0m\u001b[0msplit\u001b[0m\u001b[0;34m(\u001b[0m\u001b[0;34m': '\u001b[0m\u001b[0;34m,\u001b[0m \u001b[0;36m1\u001b[0m\u001b[0;34m)\u001b[0m\u001b[0;34m[\u001b[0m\u001b[0;36m1\u001b[0m\u001b[0;34m]\u001b[0m\u001b[0;34m,\u001b[0m \u001b[0mstackTrace\u001b[0m\u001b[0;34m)\u001b[0m\u001b[0;34m\u001b[0m\u001b[0;34m\u001b[0m\u001b[0m\n",
      "\u001b[0;31mAnalysisException\u001b[0m: \"Reference 'customer_key' is ambiguous, could be: customer_key, customer_key.;\""
     ]
    }
   ],
   "source": [
    "#Filtro para verificar se determinado cliente que tinha valores vazio foram substituidos por zero\n",
    "df_stage.filter((col(\"customer_key\") == \"10016588\") & (col(\"invoice_number\") == \"110753\")).show(truncate=False)"
   ]
  },
  {
   "cell_type": "code",
   "execution_count": null,
   "metadata": {},
   "outputs": [],
   "source": [
    "#Campos strings vazios deverão ser preenchidos com 'Não informado'\n",
    "all_columns = df_stage.columns\n",
    "\n",
    "for column in all_columns:\n",
    "    df_stage = df_stage.withColumn(column, \n",
    "                                   when(trim(regexp_replace(col(column), '\\n', '')) == \"\", \"Nao informado\")\n",
    "                                   .otherwise(col(column)))\n",
    "\n",
    "#Filtro para verificar se determinado cliente que tinha strings vaziasforam substituídos com 'Não informado'\n",
    "df_stage.filter((col(\"customer_key\") == \"10016588\") & (col(\"invoice_number\") == \"110753\")).show(truncate=False)\n"
   ]
  },
  {
   "cell_type": "code",
   "execution_count": null,
   "metadata": {},
   "outputs": [],
   "source": [
    "df_stage.filter((col(\"customer_key\") == \"10016588\") & (col(\"invoice_number\") == \"110753\")).show()\n"
   ]
  },
  {
   "cell_type": "code",
   "execution_count": null,
   "metadata": {},
   "outputs": [],
   "source": [
    "# # Conta o número de valores vazios em todas as colunas\n",
    "# empty_counts = [df_stage.select(when(col(c) == \"\", 1).otherwise(0)).agg({\"*\": \"sum\"}).collect()[0][0] for c in df_stage.columns]\n",
    "# for i, c in enumerate(df_stage.columns):\n",
    "#     print(f\"{c}: {empty_counts[i]}\")"
   ]
  },
  {
   "cell_type": "code",
   "execution_count": null,
   "metadata": {},
   "outputs": [],
   "source": [
    "# # Verificar se há valores nulos em colunas numéricas\n",
    "# from pyspark.sql.functions import isnan, col\n",
    "# from pyspark.sql.types import DoubleType, IntegerType, LongType, FloatType\n",
    "\n",
    "# numeric_cols = [c.name for c in df_stage.schema if c.dataType in [DoubleType(), IntegerType(), LongType(), FloatType()]]\n",
    "\n",
    "# null_counts = [df_stage.select(isnan(col(c)).alias(c)).agg({\"*\": \"sum\"}).collect()[0][0] for c in numeric_cols]\n",
    "# for i, c in enumerate(numeric_cols):\n",
    "#     print(f\"{c}: {null_counts[i]}\")"
   ]
  },
  {
   "cell_type": "code",
   "execution_count": null,
   "metadata": {},
   "outputs": [],
   "source": [
    "#Adicionar chaves estrangeiras\n",
    "df_stage = df_stage.withColumn('PK_TEMPO', sha2(concat_ws(\"\",df_stage.invoice_date, df_stage.Ano,df_stage.Mes,df_stage.Dia,df_stage.Trimestre), 256))\n",
    "\n",
    "df_stage = df_stage.withColumn('PK_CLIENTES', sha2(concat_ws(\"\",df_stage.customer_key,df_stage.customer,df_stage.business_family_name,df_stage.business_unit,df_stage.customer_type,df_stage.division,df_stage.line_of_business,df_stage.phone,df_stage.region_code,df_stage.regional_sales_mgr,df_stage.search_type), 256))\n",
    "\n",
    "df_stage = df_stage.withColumn('PK_LOCALIDADE', sha2(concat_ws(\"\",df_stage.address_number,df_stage.city,df_stage.country,df_stage.state,df_stage.zip_code,df_stage.division,df_stage.division_name,df_stage.region_code,df_stage.region_name,df_stage.customer_address_1,df_stage.customer_address_2,df_stage.customer_address_3,df_stage.customer_address_4), 256))"
   ]
  },
  {
   "cell_type": "code",
   "execution_count": null,
   "metadata": {},
   "outputs": [],
   "source": [
    "df_stage.show(5, truncate=False)"
   ]
  },
  {
   "cell_type": "code",
   "execution_count": null,
   "metadata": {},
   "outputs": [],
   "source": [
    "df_stage.createOrReplaceTempView(\"stage\")"
   ]
  },
  {
   "cell_type": "code",
   "execution_count": null,
   "metadata": {},
   "outputs": [],
   "source": [
    "#Gerar dimensões e fato a partir do tabelão  \n",
    "df_tempo = spark.sql(\"SELECT DISTINCT PK_TEMPO, invoice_date, Ano, Mes, Dia, Trimestre FROM stage\")"
   ]
  },
  {
   "cell_type": "code",
   "execution_count": null,
   "metadata": {},
   "outputs": [],
   "source": [
    "#Exportar dataframes como tabelas csv\n",
    "salvar_df(df_tempo, 'dim_tempo')"
   ]
  },
  {
   "cell_type": "code",
   "execution_count": null,
   "metadata": {},
   "outputs": [],
   "source": [
    "df_clientes = spark.sql(\"SELECT DISTINCT PK_CLIENTES, customer_key, customer, business_family_name, business_unit, customer_type, division, line_of_business, phone, region_code, regional_sales_mgr, search_type FROM stage\")"
   ]
  },
  {
   "cell_type": "code",
   "execution_count": null,
   "metadata": {},
   "outputs": [],
   "source": [
    "salvar_df(df_clientes, 'dim_clientes')"
   ]
  },
  {
   "cell_type": "code",
   "execution_count": null,
   "metadata": {},
   "outputs": [],
   "source": [
    "df_localidade = spark.sql(\"SELECT DISTINCT PK_LOCALIDADE, address_number, city, country, state, zip_code, division, division_name, region_code, region_name, customer_address_1, customer_address_2, customer_address_3, customer_address_4 FROM stage\")"
   ]
  },
  {
   "cell_type": "code",
   "execution_count": null,
   "metadata": {},
   "outputs": [],
   "source": [
    "salvar_df(df_localidade, 'dim_localidade')"
   ]
  },
  {
   "cell_type": "code",
   "execution_count": null,
   "metadata": {},
   "outputs": [],
   "source": [
    "ft_vendas = spark.sql(\"SELECT PK_CLIENTES, PK_TEMPO, PK_LOCALIDADE, actual_delivery_date, date_key, discount_amount, invoice_date, invoice_number, item_class, item_number, item, line_number, list_price, order_number, promised_delivery_date, sales_amount, sales_amount_based_on_list_price, sales_cost_amount, sales_margin_amount, sales_price, sales_quantity, sales_rep, u_m  FROM stage\")  "
   ]
  },
  {
   "cell_type": "code",
   "execution_count": null,
   "metadata": {},
   "outputs": [],
   "source": [
    "salvar_df(ft_vendas, 'ft_vendas')"
   ]
  }
 ],
 "metadata": {
  "kernelspec": {
   "display_name": "PySpark",
   "language": "python",
   "name": "pyspark"
  },
  "language_info": {
   "codemirror_mode": {
    "name": "ipython",
    "version": 3
   },
   "file_extension": ".py",
   "mimetype": "text/x-python",
   "name": "python",
   "nbconvert_exporter": "python",
   "pygments_lexer": "ipython3",
   "version": "3.6.10"
  }
 },
 "nbformat": 4,
 "nbformat_minor": 2
}
