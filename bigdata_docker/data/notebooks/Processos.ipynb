{
 "cells": [
  {
   "cell_type": "code",
   "execution_count": 19,
   "metadata": {},
   "outputs": [],
   "source": [
    "from pyspark.sql import SparkSession, dataframe\n",
    "from pyspark.sql.functions import when, col, sum, count, isnan, round\n",
    "from pyspark.sql.functions import regexp_replace, concat_ws, sha2, rtrim, substring\n",
    "from pyspark.sql.functions import unix_timestamp, from_unixtime, to_date\n",
    "from pyspark.sql.types import StructType, StructField\n",
    "from pyspark.sql.types import DoubleType, IntegerType, StringType\n",
    "from pyspark.sql import HiveContext\n",
    "\n",
    "import os\n",
    "import re\n",
    "\n",
    "from pyspark.sql.functions import regexp_replace\n",
    "from pyspark.sql.functions import when\n",
    "\n",
    "spark = SparkSession.builder.master(\"local[*]\")\\\n",
    "    .enableHiveSupport()\\\n",
    "    .getOrCreate()"
   ]
  },
  {
   "cell_type": "code",
   "execution_count": 20,
   "metadata": {},
   "outputs": [],
   "source": [
    "def salvar_df(df, file):\n",
    "    output = \"/input/projeto_hive/gold/\" + file\n",
    "    erase = \"hdfs dfs -rm \" + output + \"/*\"\n",
    "    rename = \"hdfs dfs -get /datalake/gold/\"+file+\"/part-* /input/projeto_hive/gold/\"+file+\".csv\"\n",
    "    print(rename)\n",
    "    \n",
    "    \n",
    "    df.coalesce(1).write\\\n",
    "        .format(\"csv\")\\\n",
    "        .option(\"header\", True)\\\n",
    "        .option(\"delimiter\", \";\")\\\n",
    "        .mode(\"overwrite\")\\\n",
    "        .save(\"/datalake/gold/\"+file+\"/\")\n",
    "\n",
    "    os.system(erase)\n",
    "    os.system(rename)"
   ]
  },
  {
   "cell_type": "code",
   "execution_count": 21,
   "metadata": {},
   "outputs": [],
   "source": [
    "df_clientes = spark.sql(\"select * from desafio_curso.clientes\")\n",
    "df_divisao = spark.sql(\"select * from desafio_curso.divisao\")\n",
    "df_endereco = spark.sql(\"select * from desafio_curso.endereco\")\n",
    "df_regiao = spark.sql(\"select * from desafio_curso.regiao\")\n",
    "df_vendas = spark.sql(\"select * from desafio_curso.vendas\")"
   ]
  },
  {
   "cell_type": "code",
   "execution_count": 25,
   "metadata": {},
   "outputs": [],
   "source": [
    "df_stage_clientes_localidade = df_clientes.join(df_endereco, \"address_number\", \"inner\")\\\n",
    "                                .join(df_divisao, \"division\", \"inner\")\\\n",
    "                                .join(df_regiao, \"region_code\", \"inner\")\\\n",
    "                                .join(df_vendas, \"customer_key\", \"inner\")"
   ]
  },
  {
   "cell_type": "code",
   "execution_count": 26,
   "metadata": {},
   "outputs": [
    {
     "name": "stdout",
     "output_type": "stream",
     "text": [
      "+------------+-----------+--------+--------------+--------------------+-------------+-----------+-------------+----------------+------------+------------------+-----------+--------+-------+-------------------+--------------------+--------------------+--------------------+-----+--------+-------------+-----------+--------------------+----------+---------------+------------+--------------+----------+-----------+--------------------+-----------+----------+------------+----------------------+------------+--------------------------------+-----------------+-------------------+-----------+--------------+---------+---+\n",
      "|customer_key|region_code|division|address_number|business_family_name|business_unit|   customer|customer_type|line_of_business|       phone|regional_sales_mgr|search_type|    city|country| customer_address_1|  customer_address_2|  customer_address_3|  customer_address_4|state|zip_code|division_name|region_name|actual_delivery_date|  date_key|discount_amount|invoice_date|invoice_number|item_class|item_number|                item|line_number|list_price|order_number|promised_delivery_date|sales_amount|sales_amount_based_on_list_price|sales_cost_amount|sales_margin_amount|sales_price|sales_quantity|sales_rep|u_m|\n",
      "+------------+-----------+--------+--------------+--------------------+-------------+-----------+-------------+----------------+------------+------------------+-----------+--------+-------+-------------------+--------------------+--------------------+--------------------+-----+--------+-------------+-----------+--------------------+----------+---------------+------------+--------------+----------+-----------+--------------------+-----------+----------+------------+----------------------+------------+--------------------------------+-----------------+-------------------+-----------+--------------+---------+---+\n",
      "|    10000472|          1|       2|      10000472|                  R3|            1|Aaron Store|           G2|                |816-455-8733|                S4|          C|Van Nuys|     US|8000 Haskell Avenue|                 ...|                 ...|                 ...|   CA|   91406|     Domestic|    Western|          19/01/2019|19/01/2018|         363,99|  21/01/2018|        120547|       P01|      61752|Carlson Cheese Sp...|       1000|    803,86|      216973|            19/01/2019|      439,87|                          803,86|           474,05|             -34,18|     439,87|             1|      119| EA|\n",
      "|    10000472|          1|       2|      10000472|                  R3|            1|Aaron Store|           G2|                |816-455-8733|                S4|          C|Van Nuys|     US|8000 Haskell Avenue|                 ...|                 ...|                 ...|   CA|   91406|     Domestic|    Western|          23/01/2019|23/01/2018|         919,75|  25/01/2018|        121031|       P01|      27550|   Imagine Popsicles|       2000|   1084,61|      217830|            23/01/2019|     1249,47|                         2169,22|           605,31|             644,16|    624,735|             2|      119| EA|\n",
      "|    10000472|          1|       2|      10000472|                  R3|            1|Aaron Store|           G2|                |816-455-8733|                S4|          C|Van Nuys|     US|8000 Haskell Avenue|                 ...|                 ...|                 ...|   CA|   91406|     Domestic|    Western|          23/01/2019|23/01/2018|         224,79|  25/01/2018|        121031|       P01|      29312|  Discover Spaghetti|       5000|     44,18|      217830|            23/01/2019|      305,37|                          530,16|           158,73|             146,64|    25,4475|            12|      119| EA|\n",
      "|    10000472|          1|       2|      10000472|                  R3|            1|Aaron Store|           G2|                |816-455-8733|                S4|          C|Van Nuys|     US|8000 Haskell Avenue|                 ...|                 ...|                 ...|   CA|   91406|     Domestic|    Western|          23/01/2019|23/01/2018|         398,38|  25/01/2018|        121031|       P01|      26502|Bravo Large Canne...|       1000|    939,57|      217830|            23/01/2019|      541,19|                          939,57|           273,05|             268,14|     541,19|             1|      119| EA|\n",
      "|    10000472|          1|       2|      10000472|                  R3|            1|Aaron Store|           G2|                |816-455-8733|                S4|          C|Van Nuys|     US|8000 Haskell Avenue|                 ...|                 ...|                 ...|   CA|   91406|     Domestic|    Western|          23/01/2019|23/01/2018|      1346,6403|  25/01/2018|        121031|       P01|      28500|        Ebony Squash|       3000| 1058,6801|      217830|            23/01/2019|      1829,4|                       3176,0403|           928,93|             900,47|      609,8|             3|      119| EA|\n",
      "|    10000472|          1|       2|      10000472|                  R3|            1|Aaron Store|           G2|                |816-455-8733|                S4|          C|Van Nuys|     US|8000 Haskell Avenue|                 ...|                 ...|                 ...|   CA|   91406|     Domestic|    Western|          23/01/2019|23/01/2018|         435,15|  25/01/2018|        121031|       P01|      26370|Bravo Canned Tomatos|       4000|    205,26|      217830|            23/01/2019|      591,15|                          1026,3|           287,69|             303,46|     118,23|             5|      119| EA|\n",
      "|    10000472|          1|       2|      10000472|                  R3|            1|Aaron Store|           G2|                |816-455-8733|                S4|          C|Van Nuys|     US|8000 Haskell Avenue|                 ...|                 ...|                 ...|   CA|   91406|     Domestic|    Western|          09/02/2019|09/02/2018|         334,45|  11/02/2018|        122466|       P01|      28761|   Ebony Fuji Apples|       1000|    157,76|      218734|            09/02/2019|      454,35|                           788,8|           238,73|             215,62|      90,87|             5|      119| SE|\n",
      "|    10000472|          1|       2|      10000472|                  R3|            1|Aaron Store|           G2|                |816-455-8733|                S4|          C|Van Nuys|     US|8000 Haskell Avenue|                 ...|                 ...|                 ...|   CA|   91406|     Domestic|    Western|          20/02/2019|20/02/2018|         334,45|  22/02/2018|        123476|       P01|      28761|   Ebony Fuji Apples|       5000|    157,76|      219480|            20/02/2019|      454,35|                           788,8|           238,73|             215,62|      90,87|             5|      119| SE|\n",
      "|    10000472|          1|       2|      10000472|                  R3|            1|Aaron Store|           G2|                |816-455-8733|                S4|          C|Van Nuys|     US|8000 Haskell Avenue|                 ...|                 ...|                 ...|   CA|   91406|     Domestic|    Western|          20/02/2019|20/02/2018|         253,65|  22/02/2018|        123476|       P01|      25300|   Fast Dried Apples|       1000|    199,41|      219480|            20/02/2019|      344,58|                          598,23|           167,81|             176,77|     114,86|             3|      119| EA|\n",
      "|    10000472|          1|       2|      10000472|                  R3|            1|Aaron Store|           G2|                |816-455-8733|                S4|          C|Van Nuys|     US|8000 Haskell Avenue|                 ...|                 ...|                 ...|   CA|   91406|     Domestic|    Western|          20/02/2019|20/02/2018|         374,65|  22/02/2018|        123476|       P01|      29312|  Discover Spaghetti|       2000|     44,18|      219480|            20/02/2019|      508,95|                           883,6|           264,56|             244,39|    25,4475|            20|      119| EA|\n",
      "|    10000472|          1|       2|      10000472|                  R3|            1|Aaron Store|           G2|                |816-455-8733|                S4|          C|Van Nuys|     US|8000 Haskell Avenue|                 ...|                 ...|                 ...|   CA|   91406|     Domestic|    Western|          03/03/2019|03/03/2018|         253,65|  05/03/2018|        124390|       P01|      25300|   Fast Dried Apples|       1000|    199,41|      220087|            03/03/2019|      344,58|                          598,23|           167,81|             176,77|     114,86|             3|      119| EA|\n",
      "|    10000472|          1|       2|      10000472|                  R3|            1|Aaron Store|           G2|                |816-455-8733|                S4|          C|Van Nuys|     US|8000 Haskell Avenue|                 ...|                 ...|                 ...|   CA|   91406|     Domestic|    Western|          05/03/2019|05/03/2018|         363,99|  07/03/2018|        124591|       P01|      61752|Carlson Cheese Sp...|       1000|    803,86|      220197|            05/03/2019|      439,87|                          803,86|           389,73|              50,14|     439,87|             1|      119| EA|\n",
      "|    10000472|          1|       2|      10000472|                  R3|            1|Aaron Store|           G2|                |816-455-8733|                S4|          C|Van Nuys|     US|8000 Haskell Avenue|                 ...|                 ...|                 ...|   CA|   91406|     Domestic|    Western|          11/03/2019|11/03/2018|          169,1|  13/03/2018|        125063|       P01|      25300|   Fast Dried Apples|       1000|    199,41|      220544|            11/03/2019|      229,72|                          398,82|           111,87|             117,85|     114,86|             2|      119| EA|\n",
      "|    10000472|          1|       2|      10000472|                  R3|            1|Aaron Store|           G2|                |816-455-8733|                S4|          C|Van Nuys|     US|8000 Haskell Avenue|                 ...|                 ...|                 ...|   CA|   91406|     Domestic|    Western|          19/03/2019|19/03/2018|         398,38|  21/03/2018|        125808|       P01|      26502|Bravo Large Canne...|       7000|    939,57|      220986|            19/03/2019|      541,19|                          939,57|           266,94|             274,25|     541,19|             1|      119| EA|\n",
      "|    10000472|          1|       2|      10000472|                  R3|            1|Aaron Store|           G2|                |816-455-8733|                S4|          C|Van Nuys|     US|8000 Haskell Avenue|                 ...|                 ...|                 ...|   CA|   91406|     Domestic|    Western|          19/03/2019|19/03/2018|       448,8801|  21/03/2018|        125808|       P01|      28500|        Ebony Squash|       8000| 1058,6801|      220986|            19/03/2019|       609,8|                       1058,6801|           303,54|             306,26|      609,8|             1|      119| EA|\n",
      "|    10000472|          1|       2|      10000472|                  R3|            1|Aaron Store|           G2|                |816-455-8733|                S4|          C|Van Nuys|     US|8000 Haskell Avenue|                 ...|                 ...|                 ...|   CA|   91406|     Domestic|    Western|          19/03/2019|19/03/2018|         468,23|  21/03/2018|        125808|       P01|      28761|   Ebony Fuji Apples|       4000|    157,76|      220986|            19/03/2019|      636,09|                         1104,32|           334,22|             301,87|      90,87|             7|      119| SE|\n",
      "|    10000472|          1|       2|      10000472|                  R3|            1|Aaron Store|           G2|                |816-455-8733|                S4|          C|Van Nuys|     US|8000 Haskell Avenue|                 ...|                 ...|                 ...|   CA|   91406|     Domestic|    Western|          19/03/2019|19/03/2018|         1839,5|  21/03/2018|        125808|       P01|      27550|   Imagine Popsicles|       9000|   1084,61|      220986|            19/03/2019|     2498,94|                         4338,44|          1186,19|            1312,75|    624,735|             4|      119| EA|\n",
      "|    10000472|          1|       2|      10000472|                  R3|            1|Aaron Store|           G2|                |816-455-8733|                S4|          C|Van Nuys|     US|8000 Haskell Avenue|                 ...|                 ...|                 ...|   CA|   91406|     Domestic|    Western|          19/04/2019|19/04/2018|         363,99|  21/04/2018|        132059|       P01|      61752|Carlson Cheese Sp...|       1000|    803,86|      225677|            19/04/2019|      439,87|                          803,86|           474,05|             -34,18|     439,87|             1|      119| EA|\n",
      "|    10000472|          1|       2|      10000472|                  R3|            1|Aaron Store|           G2|                |816-455-8733|                S4|          C|Van Nuys|     US|8000 Haskell Avenue|                 ...|                 ...|                 ...|   CA|   91406|     Domestic|    Western|          23/04/2019|23/04/2018|         919,75|  25/04/2018|        132543|       P01|      27550|   Imagine Popsicles|       2000|   1084,61|      226383|            23/04/2019|     1249,47|                         2169,22|           605,31|             644,16|    624,735|             2|      119| EA|\n",
      "|    10000472|          1|       2|      10000472|                  R3|            1|Aaron Store|           G2|                |816-455-8733|                S4|          C|Van Nuys|     US|8000 Haskell Avenue|                 ...|                 ...|                 ...|   CA|   91406|     Domestic|    Western|          23/04/2019|23/04/2018|         224,79|  25/04/2018|        132543|       P01|      29312|  Discover Spaghetti|       5000|     44,18|      226383|            23/04/2019|      305,37|                          530,16|           158,73|             146,64|    25,4475|            12|      119| EA|\n",
      "+------------+-----------+--------+--------------+--------------------+-------------+-----------+-------------+----------------+------------+------------------+-----------+--------+-------+-------------------+--------------------+--------------------+--------------------+-----+--------+-------------+-----------+--------------------+----------+---------------+------------+--------------+----------+-----------+--------------------+-----------+----------+------------+----------------------+------------+--------------------------------+-----------------+-------------------+-----------+--------------+---------+---+\n",
      "only showing top 20 rows\n",
      "\n"
     ]
    }
   ],
   "source": [
    "df_stage_clientes_localidade.show()"
   ]
  },
  {
   "cell_type": "code",
   "execution_count": 24,
   "metadata": {},
   "outputs": [
    {
     "name": "stdout",
     "output_type": "stream",
     "text": [
      "+--------------------+------------+----------+---------------+------------+--------------+----------+-----------+--------------------+-----------+----------+------------+----------------------+------------+--------------------------------+-----------------+-------------------+-----------+--------------+---------+---+\n",
      "|actual_delivery_date|customer_key|  date_key|discount_amount|invoice_date|invoice_number|item_class|item_number|                item|line_number|list_price|order_number|promised_delivery_date|sales_amount|sales_amount_based_on_list_price|sales_cost_amount|sales_margin_amount|sales_price|sales_quantity|sales_rep|u_m|\n",
      "+--------------------+------------+----------+---------------+------------+--------------+----------+-----------+--------------------+-----------+----------+------------+----------------------+------------+--------------------------------+-----------------+-------------------+-----------+--------------+---------+---+\n",
      "|Actual Delivery Date| CustomerKey|   DateKey|Discount Amount|Invoice Date|Invoice Number|Item Class|Item Number|                Item|Line Number|List Price|Order Number|  Promised Delivery...|Sales Amount|            Sales Amount Base...|Sales Cost Amount|Sales Margin Amount|Sales Price|Sales Quantity|Sales Rep|U/M|\n",
      "|          28/04/2019|    10000481|28/04/2018|        -237,91|  30/04/2018|        100012|          |           |    Urban Large Eggs|       2000|         0|      200015|            28/04/2019|      237,91|                               0|                0|             237,91|     237,91|             1|      184| EA|\n",
      "|          12/07/2019|    10002220|12/07/2018|         368,79|  14/07/2018|        100233|       P01|      20910|  Moms Sliced Turkey|       1000|    824,96|      200245|            12/07/2019|      456,17|                          824,96|                0|             456,17|     456,17|             1|      127| EA|\n",
      "|          14/10/2019|    10002220|15/10/2018|         109,73|  17/10/2018|        116165|       P01|      38076|Cutting Edge Foot...|       1000|    548,66|      213157|            14/10/2019|      438,93|                          548,66|                0|             438,93|     438,93|             1|      127| EA|\n",
      "|          01/06/2019|    10002489|01/06/2018|        -211,75|  03/06/2018|        100096|          |           |            Kiwi Lox|       1000|         0|      200107|            01/06/2019|      211,75|                               0|                0|             211,75|     211,75|             1|      160| EA|\n",
      "|          26/05/2019|    10004516|25/05/2018|       96627,94|  27/05/2018|        103341|       P01|      60776|High Top Sweet Onion|       1000|    408,52|      203785|            26/05/2019|    89248,66|                        185876,6|                0|           89248,66|196,1509011|           455|      124| SE|\n",
      "|          28/05/2019|    10004516|28/05/2018|          -1950|  30/05/2018|        103610|          |           |Best Choice Fudge...|       2000|         0|      203785|            28/05/2019|        1950|                               0|                0|               1950|       1950|             1|      124| EA|\n",
      "|          01/09/2019|    10007866|01/09/2018|        371,014|  03/09/2018|        100403|       P01|      20910|  Moms Sliced Turkey|       2000|   795,314|      200436|            01/09/2019|       424,3|                         795,314|                0|              424,3|      424,3|             1|      149| EA|\n",
      "|          16/06/2019|    10009356|16/06/2018|         608,08|  18/06/2018|        105481|       P01|      62550|    Tell Tale Garlic|      29000|       575|      205213|            16/06/2019|      541,92|                            1150|                0|             541,92|     270,96|             2|      103| EA|\n",
      "|          16/06/2019|    10009356|16/06/2018|          424,8|  18/06/2018|        105481|       P01|      60794|    High Top Walnuts|      18000|     51,88|      205213|            16/06/2019|       353,4|                           778,2|                0|              353,4|      23,56|            15|      103| EA|\n",
      "|          16/06/2019|    10009356|16/06/2018|        13492,8|  18/06/2018|        105481|       P01|      36001|Big Time Frozen C...|       9000|    412,03|      205213|            16/06/2019|       11229|                         24721,8|                0|              11229|     187,15|            60|      103| EA|\n",
      "|          16/06/2019|    10009356|16/06/2018|        10481,1|  18/06/2018|        105481|       P01|      38076|Cutting Edge Foot...|      13000|    548,66|      205213|            16/06/2019|        8722|                         19203,1|                0|               8722|      249,2|            35|      103| EA|\n",
      "|          16/06/2019|    10009356|16/06/2018|       404,1465|  18/06/2018|        105481|       P01|      61484|Super Creamy Pean...|      37000|   50,5051|      205213|            16/06/2019|      353,43|                        757,5765|                0|             353,43|     23,562|            15|      103| EA|\n",
      "|          14/09/2019|    10009606|14/09/2018|      1287,3476|  16/09/2018|        100445|       P01|      17801|Better Fancy Cann...|       3000| 1379,7938|      200478|            14/09/2019|     1472,24|                       2759,5876|                0|            1472,24|     736,12|             2|      118| EA|\n",
      "|          14/09/2019|    10009606|14/09/2018|        4764,33|  16/09/2018|        100445|       P01|      48500|Red Spade Low Fat...|       1000|   1134,77|      200478|            14/09/2019|      5448,6|                        10212,93|                0|             5448,6|      605,4|             9|      118| EA|\n",
      "|          04/06/2019|    10009633|08/06/2018|        -526,64|  10/06/2018|        104708|          |      38631|    Jumbo Large Eggs|       1000|         0|      204575|            04/06/2019|      526,64|                               0|                0|             526,64|     526,64|             1|      127| EA|\n",
      "|          16/08/2019|    10009633|18/08/2018|              0|  20/08/2018|        100379|       P01|      60449|High Top Corn on ...|       1000|    346,53|      200397|            16/08/2019|      346,53|                          346,53|                0|             346,53|     346,53|             1|      127| EA|\n",
      "|          12/11/2019|    10009645|15/11/2018|              0|  17/11/2018|        100684|          |      61801|Moms Low Fat Bologna|       2000|    258,01|      200733|            12/11/2019|     3096,12|                         3096,12|                0|            3096,12|     258,01|            12|      155| EA|\n",
      "|          12/05/2019|    10009652|12/05/2018|             91|  14/05/2018|        102256|          |      63113|Landslide Columbi...|       1000|      5,61|      202989|            12/05/2019|      1872,5|                          1963,5|                0|             1872,5|       5,35|           350|      145| EA|\n",
      "|          12/05/2019|    10009652|12/05/2018|           -700|  14/05/2018|        102256|          |           |High Top Dried Mu...|       2000|         0|      202989|            12/05/2019|         700|                               0|                0|                700|          2|           350|      145| EA|\n",
      "+--------------------+------------+----------+---------------+------------+--------------+----------+-----------+--------------------+-----------+----------+------------+----------------------+------------+--------------------------------+-----------------+-------------------+-----------+--------------+---------+---+\n",
      "only showing top 20 rows\n",
      "\n"
     ]
    }
   ],
   "source": [
    "df_vendas.show()"
   ]
  },
  {
   "cell_type": "code",
   "execution_count": null,
   "metadata": {},
   "outputs": [],
   "source": []
  }
 ],
 "metadata": {
  "kernelspec": {
   "display_name": "PySpark",
   "language": "python",
   "name": "pyspark"
  },
  "language_info": {
   "codemirror_mode": {
    "name": "ipython",
    "version": 3
   },
   "file_extension": ".py",
   "mimetype": "text/x-python",
   "name": "python",
   "nbconvert_exporter": "python",
   "pygments_lexer": "ipython3",
   "version": "3.6.10"
  }
 },
 "nbformat": 4,
 "nbformat_minor": 2
}
