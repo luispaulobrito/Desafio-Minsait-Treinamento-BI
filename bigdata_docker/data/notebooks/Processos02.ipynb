{
 "cells": [
  {
   "cell_type": "code",
   "execution_count": 4,
   "metadata": {},
   "outputs": [],
   "source": [
    "from pyspark.sql import SparkSession, dataframe\n",
    "from pyspark.sql.functions import when, col, sum, count, isnan, round\n",
    "from pyspark.sql.functions import regexp_replace, concat_ws, sha2, rtrim, substring\n",
    "from pyspark.sql.functions import unix_timestamp, from_unixtime, to_date\n",
    "from pyspark.sql.types import StructType, StructField\n",
    "from pyspark.sql.types import DoubleType, IntegerType, StringType\n",
    "from pyspark.sql import HiveContext\n",
    "from pyspark.sql.functions import year, month, dayofmonth, quarter\n",
    "from pyspark.sql.types import DecimalType\n",
    "from pyspark.sql.functions import trim, regexp_replace, when, col\n",
    "\n",
    "import os\n",
    "import re\n",
    "\n",
    "from pyspark.sql.functions import regexp_replace\n",
    "from pyspark.sql.functions import when\n",
    "\n",
    "spark = SparkSession.builder.master(\"local[*]\")\\\n",
    "    .enableHiveSupport()\\\n",
    "    .getOrCreate()"
   ]
  },
  {
   "cell_type": "code",
   "execution_count": 5,
   "metadata": {},
   "outputs": [],
   "source": [
    "def salvar_df(df, file):\n",
    "    output = \"input/projeto-hive/gold/\" + file\n",
    "    erase = \"hdfs dfs -rm \" + output + \"/*\"\n",
    "    rename = \"hdfs dfs -get /datalake/gold/\"+file+\"/part-* input/projeto-hive/gold/\"+file+\".csv\"\n",
    "    \n",
    "    print(rename)    \n",
    "    \n",
    "    df.coalesce(1).write\\\n",
    "        .format(\"csv\")\\\n",
    "        .option(\"header\", True)\\\n",
    "        .option(\"delimiter\", \";\")\\\n",
    "        .mode(\"overwrite\")\\\n",
    "        .save(\"/datalake/gold/\"+file+\"/\")\n",
    "    \n",
    "    os.system(erase)\n",
    "    os.system(rename)"
   ]
  },
  {
   "cell_type": "code",
   "execution_count": 6,
   "metadata": {
    "scrolled": true
   },
   "outputs": [],
   "source": [
    "# Carregar tabela endereco e remover a primeira linha que copiou o cabeçalho\n",
    "df_endereco = spark.read.table(\"desafio_curso.endereco\")\n",
    "rdd = df_endereco.rdd.zipWithIndex().filter(lambda x: x[1] > 0).map(lambda x: x[0])\n",
    "df_endereco = rdd.toDF(df_endereco.schema)\n",
    "\n",
    "# Carregar tabela clientes e remover a primeira linha que copiou o cabeçalho\n",
    "df_clientes = spark.read.table(\"desafio_curso.clientes\")\n",
    "rdd = df_clientes.rdd.zipWithIndex().filter(lambda x: x[1] > 0).map(lambda x: x[0])\n",
    "df_clientes = rdd.toDF(df_clientes.schema)\n",
    "\n",
    "# Carregar tabela divisao e remover a primeira linha que copiou o cabeçalho\n",
    "df_divisao = spark.read.table(\"desafio_curso.divisao\")\n",
    "rdd = df_divisao.rdd.zipWithIndex().filter(lambda x: x[1] > 0).map(lambda x: x[0])\n",
    "df_divisao = rdd.toDF(df_divisao.schema)\n",
    "\n",
    "# Carregar tabela regiao e remover a primeira linha que copiou o cabeçalho\n",
    "df_regiao = spark.read.table(\"desafio_curso.regiao\")\n",
    "rdd = df_regiao.rdd.zipWithIndex().filter(lambda x: x[1] > 0).map(lambda x: x[0])\n",
    "df_regiao = rdd.toDF(df_regiao.schema)\n",
    "\n",
    "# Carregar tabela regiao e remover a primeira linha que copiou o cabeçalho\n",
    "df_vendas = spark.read.table(\"desafio_curso.vendas\")\n",
    "rdd = df_vendas.rdd.zipWithIndex().filter(lambda x: x[1] > 0).map(lambda x: x[0])\n",
    "df_vendas = rdd.toDF(df_vendas.schema)\n",
    "\n",
    "\n",
    "# df_vendas.limit(3).show()\n",
    "# df_endereco.limit(3).show()\n",
    "# df_clientes.limit(3).show()\n",
    "# df_divisao.show()\n",
    "# df_regiao.show()"
   ]
  },
  {
   "cell_type": "code",
   "execution_count": 7,
   "metadata": {},
   "outputs": [],
   "source": [
    "# #Teste quantidade de linhas de cada tabela\n",
    "\n",
    "# print(df_vendas.count())\n",
    "# print(df_endereco.count())\n",
    "# print(df_clientes.count())\n",
    "# print(df_divisao.count())\n",
    "# print(df_regiao.count())"
   ]
  },
  {
   "cell_type": "code",
   "execution_count": 8,
   "metadata": {},
   "outputs": [],
   "source": [
    "# #APAGAR \n",
    "# from pyspark.sql.functions import countDistinct\n",
    "\n",
    "# distinct_count = df_endereco.select(countDistinct(\"address_number\")).collect()[0][0]\n",
    "# print(distinct_count)"
   ]
  },
  {
   "cell_type": "code",
   "execution_count": 9,
   "metadata": {},
   "outputs": [],
   "source": [
    "#limpar linhas duplicadas em clientes e endereço\n",
    "df_clientes = df_clientes.dropDuplicates(['customer_key'])\n",
    "df_endereco = df_endereco.dropDuplicates(['address_number'])"
   ]
  },
  {
   "cell_type": "code",
   "execution_count": 10,
   "metadata": {},
   "outputs": [],
   "source": [
    "# #APAGAR \n",
    "\n",
    "# distinct_count = df_endereco.select(countDistinct(\"address_number\")).collect()[0][0]\n",
    "# print(distinct_count)"
   ]
  },
  {
   "cell_type": "code",
   "execution_count": 11,
   "metadata": {},
   "outputs": [],
   "source": [
    "#Alterar nome colunas\n",
    "df_clientes = df_clientes.withColumnRenamed(\"customer_key\", \"customer_key_cliente\")\n",
    "df_endereco = df_endereco.withColumnRenamed(\"address_number\", \"address_number_endereco\")\n",
    "df_divisao = df_divisao.withColumnRenamed(\"division\", \"division_divisao\")\n",
    "df_regiao = df_regiao.withColumnRenamed(\"region_code\", \"region_code_regiao\")\n",
    "\n",
    "\n",
    "#Fazer um tabelão\n",
    "\n",
    "df_stage = df_vendas.join(df_clientes,df_vendas.customer_key == df_clientes.customer_key_cliente,\"left\")\n",
    "df_stage = df_stage.join(df_endereco,df_stage.address_number == df_endereco.address_number_endereco,\"left\")\n",
    "df_stage = df_stage.join(df_divisao,df_stage.division == df_divisao.division_divisao,\"left\")\n",
    "df_stage = df_stage.join(df_regiao,df_stage.region_code == df_regiao.region_code_regiao,\"left\")\n",
    "\n",
    "\n",
    "# df_stage.limit(3).show()"
   ]
  },
  {
   "cell_type": "code",
   "execution_count": 12,
   "metadata": {},
   "outputs": [],
   "source": [
    "# #Alterar nome colunas\n",
    "# df_clientes = df_clientes.withColumnRenamed(\"customer_key\", \"customer_key_cliente\")\n",
    "# # df_endereco = df_endereco.withColumnRenamed(\"address_number\", \"address_number_endereco\")\n",
    "# df_divisao = df_divisao.withColumnRenamed(\"division\", \"division_divisao\")\n",
    "# df_regiao = df_regiao.withColumnRenamed(\"region_code\", \"region_code_regiao\")\n",
    "\n",
    "\n",
    "# #Fazer um tabelão\n",
    "\n",
    "# # df_stage = df_vendas.join(df_clientes,df_vendas.customer_key == df_clientes.customer_key_cliente,\"left\")\n",
    "\n",
    "# df_vendas_enderecos = df_vendas.join(df_endereco,df_vendas.customer_key == df_endereco.address_number,\"left\")\n",
    "\n",
    "\n",
    "\n",
    "# df_clientes_divisao = df_clientes.join(df_divisao,df_clientes.division == df_divisao.division_divisao,\"left\")\n",
    "# df_clientes_divisao_regiao = df_clientes_divisao.join(df_regiao,df_clientes_divisao.region_code == df_regiao.region_code_regiao,\"left\")\n",
    "\n",
    "# df_stage = df_vendas_enderecos.join(df_clientes_divisao_regiao,df_vendas_enderecos.customer_key == df_clientes_divisao_regiao.address_number,\"left\")\n",
    "\n",
    "# df_stage.limit(3).show()"
   ]
  },
  {
   "cell_type": "code",
   "execution_count": 13,
   "metadata": {},
   "outputs": [],
   "source": [
    "# # Somar os valores da coluna \"sales_amount\" no DataFrame \"df_stage\"\n",
    "# total_sales_amount = df_stage.agg(sum(\"sales_amount\")).collect()[0][0]\n",
    "# total_sales_quantity = df_stage.agg(sum(\"sales_quantity\")).collect()[0][0]\n",
    "\n",
    "# # Imprimir o resultado\n",
    "# print(\"Total sales amount:\", total_sales_amount)\n",
    "# print(\"Total sales quantity:\", total_sales_quantity)\n",
    "\n",
    "# print(df_vendas.count())\n",
    "# print(df_clientes.count())\n",
    "# print(df_stage.count())"
   ]
  },
  {
   "cell_type": "code",
   "execution_count": 14,
   "metadata": {},
   "outputs": [],
   "source": [
    "# #APAGAR \n",
    "\n",
    "# distinct_enderecos = df_stage.select(countDistinct(\"address_number\")).collect()[0][0]\n",
    "# print(distinct_enderecos)\n",
    "# distinct_enderecos = df_stage.select(countDistinct(\"customer_key\")).collect()[0][0]\n",
    "# print(distinct_enderecos)\n",
    "# distinct_divisoes = df_stage.select(countDistinct(\"division\")).collect()[0][0]\n",
    "# print(distinct_divisoes)\n",
    "# distinct_regioes = df_stage.select(countDistinct(\"region_code\")).collect()[0][0]\n",
    "# print(distinct_regioes)\n",
    "# distinct_vendas = df_stage.select(countDistinct(\"order_number\")).collect()[0][0]\n",
    "# print(distinct_vendas)"
   ]
  },
  {
   "cell_type": "code",
   "execution_count": 15,
   "metadata": {},
   "outputs": [
    {
     "name": "stdout",
     "output_type": "stream",
     "text": [
      "+--------------------+------------+----------+---------------+------------+--------------+----------+-----------+--------------------+-----------+----------+------------+----------------------+------------+--------------------------------+-----------------+-------------------+-----------+--------------+---------+---+--------------+--------------------+-------------+----------------+--------------------+-------------+--------+----------------+------------+-----------+------------------+-----------+-----------------------+-------+-------+------------------+--------------------+------------------+--------------------+-----+--------+----------------+-------------+------------------+-----------+----+---+---+---------+\n",
      "|actual_delivery_date|customer_key|  date_key|discount_amount|invoice_date|invoice_number|item_class|item_number|                item|line_number|list_price|order_number|promised_delivery_date|sales_amount|sales_amount_based_on_list_price|sales_cost_amount|sales_margin_amount|sales_price|sales_quantity|sales_rep|u_m|address_number|business_family_name|business_unit|        customer|customer_key_cliente|customer_type|division|line_of_business|       phone|region_code|regional_sales_mgr|search_type|address_number_endereco|   city|country|customer_address_1|  customer_address_2|customer_address_3|  customer_address_4|state|zip_code|division_divisao|division_name|region_code_regiao|region_name| Ano|Mes|Dia|Trimestre|\n",
      "+--------------------+------------+----------+---------------+------------+--------------+----------+-----------+--------------------+-----------+----------+------------+----------------------+------------+--------------------------------+-----------------+-------------------+-----------+--------------+---------+---+--------------+--------------------+-------------+----------------+--------------------+-------------+--------+----------------+------------+-----------+------------------+-----------+-----------------------+-------+-------+------------------+--------------------+------------------+--------------------+-----+--------+----------------+-------------+------------------+-----------+----+---+---+---------+\n",
      "|          14/07/2019|    10017638|15/07/2018|        2562,97|  2018-07-17|        100246|       P01|      20990|     Moms Sliced Ham|       4000|       101|      200261|            14/07/2019|     2487,03|                            5050|                0|            2487,03|    49,7406|            50|      115| SE|      10017638|                  R3|            1|Kellys Gigastore|            10017638|           G2|       2|                |816-455-8733|          3|               S16|          C|               10017638|Roanoke|     US|Advance Auto Parts|Attn  Merchandise...|     P.O. Box 2710|                 ...|   VA|   24001|               2|     Domestic|                 3|  Northeast|2018|  7| 17|        3|\n",
      "|          13/08/2019|    10017638|13/08/2018|        -325,82|  2018-08-15|        100366|          |           |Excellent Cream Soda|       7000|         0|      200392|            13/08/2019|      325,82|                               0|                0|             325,82|     325,82|             1|      115| EA|      10017638|                  R3|            1|Kellys Gigastore|            10017638|           G2|       2|                |816-455-8733|          3|               S16|          C|               10017638|Roanoke|     US|Advance Auto Parts|Attn  Merchandise...|     P.O. Box 2710|                 ...|   VA|   24001|               2|     Domestic|                 3|  Northeast|2018|  8| 15|        3|\n",
      "|          01/09/2019|    10017638|01/09/2018|        -218,15|  2018-09-03|        100410|          |           | Jeffers Wheat Puffs|       7000|         0|      200443|            01/09/2019|      218,15|                               0|                0|             218,15|     218,15|             1|      115| EA|      10017638|                  R3|            1|Kellys Gigastore|            10017638|           G2|       2|                |816-455-8733|          3|               S16|          C|               10017638|Roanoke|     US|Advance Auto Parts|Attn  Merchandise...|     P.O. Box 2710|                 ...|   VA|   24001|               2|     Domestic|                 3|  Northeast|2018|  9|  3|        3|\n",
      "|          30/12/2018|    10017638|30/12/2017|         355,31|  2018-01-01|        119078|       P01|      26543|Bravo Fancy Canne...|       7000|    140,02|      216510|            30/12/2018|      344,79|                           700,1|           208,49|              136,3|     68,958|             5|      115| EA|      10017638|                  R3|            1|Kellys Gigastore|            10017638|           G2|       2|                |816-455-8733|          3|               S16|          C|               10017638|Roanoke|     US|Advance Auto Parts|Attn  Merchandise...|     P.O. Box 2710|                 ...|   VA|   24001|               2|     Domestic|                 3|  Northeast|2018|  1|  1|        1|\n",
      "|          31/12/2018|    10017638|31/12/2017|         347,64|  2018-01-02|        119230|       P01|      45880|Red Spade Low Fat...|       1000|    767,75|      216769|            31/12/2018|      420,11|                          767,75|           288,16|             131,95|     420,11|             1|      115| EA|      10017638|                  R3|            1|Kellys Gigastore|            10017638|           G2|       2|                |816-455-8733|          3|               S16|          C|               10017638|Roanoke|     US|Advance Auto Parts|Attn  Merchandise...|     P.O. Box 2710|                 ...|   VA|   24001|               2|     Domestic|                 3|  Northeast|2018|  1|  2|        1|\n",
      "|          13/01/2019|    10017638|13/01/2018|         248,43|  2018-01-15|        120036|       P01|      38076|Cutting Edge Foot...|       1000|    548,66|      217346|            13/01/2019|      300,23|                          548,66|           121,48|             178,75|     300,23|             1|      115| EA|      10017638|                  R3|            1|Kellys Gigastore|            10017638|           G2|       2|                |816-455-8733|          3|               S16|          C|               10017638|Roanoke|     US|Advance Auto Parts|Attn  Merchandise...|     P.O. Box 2710|                 ...|   VA|   24001|               2|     Domestic|                 3|  Northeast|2018|  1| 15|        1|\n",
      "|          19/01/2019|    10017638|19/01/2018|          214,3|  2018-01-21|        120488|       P01|      28761|   Ebony Fuji Apples|       1000|    157,76|      216010|            19/01/2019|      258,98|                          473,28|           143,24|             115,74|86,32666667|             3|      115| EA|      10017638|                  R3|            1|Kellys Gigastore|            10017638|           G2|       2|                |816-455-8733|          3|               S16|          C|               10017638|Roanoke|     US|Advance Auto Parts|Attn  Merchandise...|     P.O. Box 2710|                 ...|   VA|   24001|               2|     Domestic|                 3|  Northeast|2018|  1| 21|        1|\n",
      "|          19/01/2019|    10017638|19/01/2018|         357,17|  2018-01-21|        120490|       P01|      28761|   Ebony Fuji Apples|       2000|    157,76|      216380|            19/01/2019|      431,63|                           788,8|           238,73|              192,9|     86,326|             5|      115| EA|      10017638|                  R3|            1|Kellys Gigastore|            10017638|           G2|       2|                |816-455-8733|          3|               S16|          C|               10017638|Roanoke|     US|Advance Auto Parts|Attn  Merchandise...|     P.O. Box 2710|                 ...|   VA|   24001|               2|     Domestic|                 3|  Northeast|2018|  1| 21|        1|\n",
      "|          23/01/2019|    10017638|23/01/2018|         292,06|  2018-01-25|        121084|          |      63664|Just Right Fancy ...|       1000|       645|      218035|            23/01/2019|      352,94|                             645|           241,11|             111,83|     352,94|             1|      115| EA|      10017638|                  R3|            1|Kellys Gigastore|            10017638|           G2|       2|                |816-455-8733|          3|               S16|          C|               10017638|Roanoke|     US|Advance Auto Parts|Attn  Merchandise...|     P.O. Box 2710|                 ...|   VA|   24001|               2|     Domestic|                 3|  Northeast|2018|  1| 25|        1|\n",
      "|          09/02/2019|    10017638|09/02/2018|          214,3|  2018-02-11|        122368|       P01|      28739|Ebony Canned Peanuts|       2000|    157,76|      218897|            09/02/2019|      258,98|                          473,28|           177,96|              81,02|86,32666667|             3|      115| EA|      10017638|                  R3|            1|Kellys Gigastore|            10017638|           G2|       2|                |816-455-8733|          3|               S16|          C|               10017638|Roanoke|     US|Advance Auto Parts|Attn  Merchandise...|     P.O. Box 2710|                 ...|   VA|   24001|               2|     Domestic|                 3|  Northeast|2018|  2| 11|        1|\n",
      "|          09/02/2019|    10017638|09/02/2018|         875,21|  2018-02-11|        122367|       P01|      28401|Ebony Prepared Salad|       1000|    966,44|      218895|            09/02/2019|     1057,67|                         1932,88|           556,76|             500,91|    528,835|             2|      115| EA|      10017638|                  R3|            1|Kellys Gigastore|            10017638|           G2|       2|                |816-455-8733|          3|               S16|          C|               10017638|Roanoke|     US|Advance Auto Parts|Attn  Merchandise...|     P.O. Box 2710|                 ...|   VA|   24001|               2|     Domestic|                 3|  Northeast|2018|  2| 11|        1|\n",
      "|          09/02/2019|    10017638|09/02/2018|         323,24|  2018-02-11|        122366|       P01|      32720|High Top Cauliflower|       2000|     50,99|      218894|            09/02/2019|      390,62|                          713,86|           107,84|             282,78|27,90142857|            14|      115| EA|      10017638|                  R3|            1|Kellys Gigastore|            10017638|           G2|       2|                |816-455-8733|          3|               S16|          C|               10017638|Roanoke|     US|Advance Auto Parts|Attn  Merchandise...|     P.O. Box 2710|                 ...|   VA|   24001|               2|     Domestic|                 3|  Northeast|2018|  2| 11|        1|\n",
      "|          10/02/2019|    10017638|10/02/2018|       520,9199|  2018-02-12|        122526|       P01|      31875|Golden Frozen Chi...|      13000| 1150,4399|      218904|            10/02/2019|      629,52|                       1150,4399|           320,04|             309,48|     629,52|             1|      115| EA|      10017638|                  R3|            1|Kellys Gigastore|            10017638|           G2|       2|                |816-455-8733|          3|               S16|          C|               10017638|Roanoke|     US|Advance Auto Parts|Attn  Merchandise...|     P.O. Box 2710|                 ...|   VA|   24001|               2|     Domestic|                 3|  Northeast|2018|  2| 12|        1|\n",
      "|          10/02/2019|    10017638|10/02/2018|         252,04|  2018-02-12|        122526|       P01|      29260|     Monarch Ravioli|       8000|    556,63|      218904|            10/02/2019|      304,59|                          556,63|            166,3|             138,29|     304,59|             1|      115| EA|      10017638|                  R3|            1|Kellys Gigastore|            10017638|           G2|       2|                |816-455-8733|          3|               S16|          C|               10017638|Roanoke|     US|Advance Auto Parts|Attn  Merchandise...|     P.O. Box 2710|                 ...|   VA|   24001|               2|     Domestic|                 3|  Northeast|2018|  2| 12|        1|\n",
      "|          10/02/2019|    10017638|10/02/2018|          428,6|  2018-02-12|        122527|       P01|      28761|   Ebony Fuji Apples|       7000|    157,76|      218945|            10/02/2019|      517,96|                          946,56|           286,47|             231,49|86,32666667|             6|      115| EA|      10017638|                  R3|            1|Kellys Gigastore|            10017638|           G2|       2|                |816-455-8733|          3|               S16|          C|               10017638|Roanoke|     US|Advance Auto Parts|Attn  Merchandise...|     P.O. Box 2710|                 ...|   VA|   24001|               2|     Domestic|                 3|  Northeast|2018|  2| 12|        1|\n",
      "|          10/02/2019|    10017638|10/02/2018|        5125,95|  2018-02-12|        122528|       P01|      20990|     Moms Sliced Ham|       1000|       101|      218949|            10/02/2019|     4974,05|                           10100|          2935,66|            2038,39|    49,7405|           100|      115| EA|      10017638|                  R3|            1|Kellys Gigastore|            10017638|           G2|       2|                |816-455-8733|          3|               S16|          C|               10017638|Roanoke|     US|Advance Auto Parts|Attn  Merchandise...|     P.O. Box 2710|                 ...|   VA|   24001|               2|     Domestic|                 3|  Northeast|2018|  2| 12|        1|\n",
      "|          10/02/2019|    10017638|10/02/2018|         174,18|  2018-02-12|        122529|       P01|      11690|High Top Dried Mu...|       1000|    192,34|      218951|            10/02/2019|       210,5|                          384,68|            66,78|             143,72|     105,25|             2|      115| EA|      10017638|                  R3|            1|Kellys Gigastore|            10017638|           G2|       2|                |816-455-8733|          3|               S16|          C|               10017638|Roanoke|     US|Advance Auto Parts|Attn  Merchandise...|     P.O. Box 2710|                 ...|   VA|   24001|               2|     Domestic|                 3|  Northeast|2018|  2| 12|        1|\n",
      "|          16/02/2019|    10017638|13/02/2018|        7688,92|  2018-02-15|        122892|       P01|      20990|     Moms Sliced Ham|       1000|       101|      219072|            16/02/2019|     7461,08|                           15150|          4403,49|            3057,59|49,74053333|           150|      115| EA|      10017638|                  R3|            1|Kellys Gigastore|            10017638|           G2|       2|                |816-455-8733|          3|               S16|          C|               10017638|Roanoke|     US|Advance Auto Parts|Attn  Merchandise...|     P.O. Box 2710|                 ...|   VA|   24001|               2|     Domestic|                 3|  Northeast|2018|  2| 15|        1|\n",
      "|          16/02/2019|    10017638|16/02/2018|         373,13|  2018-02-18|        123018|       P01|      36001|Big Time Frozen C...|       2000|    412,03|      218957|            16/02/2019|      450,93|                          824,06|           168,47|             282,46|    225,465|             2|      115| EA|      10017638|                  R3|            1|Kellys Gigastore|            10017638|           G2|       2|                |816-455-8733|          3|               S16|          C|               10017638|Roanoke|     US|Advance Auto Parts|Attn  Merchandise...|     P.O. Box 2710|                 ...|   VA|   24001|               2|     Domestic|                 3|  Northeast|2018|  2| 18|        1|\n",
      "|          16/02/2019|    10017638|16/02/2018|          214,3|  2018-02-18|        123017|       P01|      28761|   Ebony Fuji Apples|       1000|    157,76|      218956|            16/02/2019|      258,98|                          473,28|           143,24|             115,74|86,32666667|             3|      115| EA|      10017638|                  R3|            1|Kellys Gigastore|            10017638|           G2|       2|                |816-455-8733|          3|               S16|          C|               10017638|Roanoke|     US|Advance Auto Parts|Attn  Merchandise...|     P.O. Box 2710|                 ...|   VA|   24001|               2|     Domestic|                 3|  Northeast|2018|  2| 18|        1|\n",
      "+--------------------+------------+----------+---------------+------------+--------------+----------+-----------+--------------------+-----------+----------+------------+----------------------+------------+--------------------------------+-----------------+-------------------+-----------+--------------+---------+---+--------------+--------------------+-------------+----------------+--------------------+-------------+--------+----------------+------------+-----------+------------------+-----------+-----------------------+-------+-------+------------------+--------------------+------------------+--------------------+-----+--------+----------------+-------------+------------------+-----------+----+---+---+---------+\n",
      "only showing top 20 rows\n",
      "\n"
     ]
    }
   ],
   "source": [
    "#Adicionar colunas Ano, Mês, Dia, Trimestre tomando como base a coluna invoice_date\n",
    "\n",
    "df_stage = df_stage.withColumn('invoice_date', to_date(col('invoice_date'), 'dd/MM/yyyy'))\n",
    "\n",
    "df_stage = df_stage \\\n",
    "    .withColumn('Ano', year('invoice_date')) \\\n",
    "    .withColumn('Mes', month('invoice_date')) \\\n",
    "    .withColumn('Dia', dayofmonth('invoice_date')) \\\n",
    "    .withColumn('Trimestre', quarter('invoice_date'))\n",
    "\n",
    "df_stage.show()    "
   ]
  },
  {
   "cell_type": "code",
   "execution_count": 16,
   "metadata": {},
   "outputs": [],
   "source": [
    "# # #APAGAR \n",
    "\n",
    "# distinct_count = df_stage.select(countDistinct(\"address_number\")).collect()[0][0]\n",
    "# print(distinct_count)"
   ]
  },
  {
   "cell_type": "code",
   "execution_count": 17,
   "metadata": {},
   "outputs": [],
   "source": [
    "#Campos decimais ou inteiros nulos ou vazios, deversão ser preenchidos por 0.\n",
    "\n",
    "cols_to_check = ['item_number', 'discount_amount', 'list_price', 'sales_amount', 'sales_amount_based_on_list_price', 'sales_cost_amount', 'sales_margin_amount', 'sales_price', 'line_number', 'sales_quantity']\n",
    "\n",
    "for col_name in cols_to_check:\n",
    "     df_stage = df_stage.withColumn(col_name, when(col(col_name) == '', 0).otherwise(col(col_name)))\n"
   ]
  },
  {
   "cell_type": "code",
   "execution_count": 18,
   "metadata": {},
   "outputs": [],
   "source": [
    "# #APAGAR \n",
    "\n",
    "# distinct_count = df_stage.select(countDistinct(\"address_number\")).collect()[0][0]\n",
    "# print(distinct_count)"
   ]
  },
  {
   "cell_type": "code",
   "execution_count": 19,
   "metadata": {},
   "outputs": [
    {
     "name": "stdout",
     "output_type": "stream",
     "text": [
      "+--------------------+------------+----------+---------------+------------+--------------+----------+-----------+------------------------------+-----------+----------+------------+----------------------+------------+--------------------------------+-----------------+-------------------+-----------+--------------+---------+---+--------------+--------------------+-------------+----------------+--------------------+-------------+--------+----------------+------------+-----------+------------------+-----------+-----------------------+-------+-------+---------------------+----------------------------------------+----------------------------------------+----------------------------------------+-----+----------+----------------+-------------+------------------+-----------+----+---+---+---------+\n",
      "|actual_delivery_date|customer_key|date_key  |discount_amount|invoice_date|invoice_number|item_class|item_number|item                          |line_number|list_price|order_number|promised_delivery_date|sales_amount|sales_amount_based_on_list_price|sales_cost_amount|sales_margin_amount|sales_price|sales_quantity|sales_rep|u_m|address_number|business_family_name|business_unit|customer        |customer_key_cliente|customer_type|division|line_of_business|phone       |region_code|regional_sales_mgr|search_type|address_number_endereco|city   |country|customer_address_1   |customer_address_2                      |customer_address_3                      |customer_address_4                      |state|zip_code  |division_divisao|division_name|region_code_regiao|region_name|Ano |Mes|Dia|Trimestre|\n",
      "+--------------------+------------+----------+---------------+------------+--------------+----------+-----------+------------------------------+-----------+----------+------------+----------------------+------------+--------------------------------+-----------------+-------------------+-----------+--------------+---------+---+--------------+--------------------+-------------+----------------+--------------------+-------------+--------+----------------+------------+-----------+------------------+-----------+-----------------------+-------+-------+---------------------+----------------------------------------+----------------------------------------+----------------------------------------+-----+----------+----------------+-------------+------------------+-----------+----+---+---+---------+\n",
      "|16/08/2019          |10016588    |16/08/2018|-698,4         |2018-08-18  |110753        |          |64420      |Blue Label Canned String Beans|1000       |0         |208991      |16/08/2019            |698,4       |0                               |361,32           |337,08             |69,84      |10            |104      |EA |10016588      |R3                  |1            |Bounds Megaplace|10016588            |G2           |2       |M1              |816-455-8733|2          |S16               |C          |10016588               |Schertz|US     |6025 Corridor Parkway|                                        |                                        |                                        |TX   |78154-3214|2               |Domestic     |2                 |Southern   |2018|8  |18 |3        |\n",
      "|16/08/2019          |10016588    |16/08/2018|0              |2018-08-18  |110753        |          |0          |Monarch Manicotti             |2000       |0         |208991      |16/08/2019            |401,86      |0                               |0                |401,86             |0          |0             |104      |EA |10016588      |R3                  |1            |Bounds Megaplace|10016588            |G2           |2       |M1              |816-455-8733|2          |S16               |C          |10016588               |Schertz|US     |6025 Corridor Parkway|                                        |                                        |                                        |TX   |78154-3214|2               |Domestic     |2                 |Southern   |2018|8  |18 |3        |\n",
      "+--------------------+------------+----------+---------------+------------+--------------+----------+-----------+------------------------------+-----------+----------+------------+----------------------+------------+--------------------------------+-----------------+-------------------+-----------+--------------+---------+---+--------------+--------------------+-------------+----------------+--------------------+-------------+--------+----------------+------------+-----------+------------------+-----------+-----------------------+-------+-------+---------------------+----------------------------------------+----------------------------------------+----------------------------------------+-----+----------+----------------+-------------+------------------+-----------+----+---+---+---------+\n",
      "\n"
     ]
    }
   ],
   "source": [
    "#Filtro para verificar se determinado cliente que tinha valores vazio foi substituidos por zero\n",
    "df_stage.filter((col(\"customer_key\") == \"10016588\") & (col(\"invoice_number\") == \"110753\")).show(truncate=False)"
   ]
  },
  {
   "cell_type": "code",
   "execution_count": 20,
   "metadata": {},
   "outputs": [],
   "source": [
    "# #APAGAR \n",
    "\n",
    "# distinct_count = df_stage.select(countDistinct(\"address_number\")).collect()[0][0]\n",
    "# print(distinct_count)"
   ]
  },
  {
   "cell_type": "code",
   "execution_count": 21,
   "metadata": {},
   "outputs": [
    {
     "name": "stdout",
     "output_type": "stream",
     "text": [
      "+--------------------+------------+----------+---------------+------------+--------------+-------------+-----------+------------------------------+-----------+----------+------------+----------------------+------------+--------------------------------+-----------------+-------------------+-----------+--------------+---------+---+--------------+--------------------+-------------+----------------+--------------------+-------------+--------+----------------+------------+-----------+------------------+-----------+-----------------------+-------+-------+---------------------+------------------+------------------+------------------+-----+----------+----------------+-------------+------------------+-----------+----+---+---+---------+\n",
      "|actual_delivery_date|customer_key|date_key  |discount_amount|invoice_date|invoice_number|item_class   |item_number|item                          |line_number|list_price|order_number|promised_delivery_date|sales_amount|sales_amount_based_on_list_price|sales_cost_amount|sales_margin_amount|sales_price|sales_quantity|sales_rep|u_m|address_number|business_family_name|business_unit|customer        |customer_key_cliente|customer_type|division|line_of_business|phone       |region_code|regional_sales_mgr|search_type|address_number_endereco|city   |country|customer_address_1   |customer_address_2|customer_address_3|customer_address_4|state|zip_code  |division_divisao|division_name|region_code_regiao|region_name|Ano |Mes|Dia|Trimestre|\n",
      "+--------------------+------------+----------+---------------+------------+--------------+-------------+-----------+------------------------------+-----------+----------+------------+----------------------+------------+--------------------------------+-----------------+-------------------+-----------+--------------+---------+---+--------------+--------------------+-------------+----------------+--------------------+-------------+--------+----------------+------------+-----------+------------------+-----------+-----------------------+-------+-------+---------------------+------------------+------------------+------------------+-----+----------+----------------+-------------+------------------+-----------+----+---+---+---------+\n",
      "|16/08/2019          |10016588    |16/08/2018|-698,4         |2018-08-18  |110753        |Nao informado|64420      |Blue Label Canned String Beans|1000       |0         |208991      |16/08/2019            |698,4       |0                               |361,32           |337,08             |69,84      |10            |104      |EA |10016588      |R3                  |1            |Bounds Megaplace|10016588            |G2           |2       |M1              |816-455-8733|2          |S16               |C          |10016588               |Schertz|US     |6025 Corridor Parkway|Nao informado     |Nao informado     |Nao informado     |TX   |78154-3214|2               |Domestic     |2                 |Southern   |2018|8  |18 |3        |\n",
      "|16/08/2019          |10016588    |16/08/2018|0              |2018-08-18  |110753        |Nao informado|0          |Monarch Manicotti             |2000       |0         |208991      |16/08/2019            |401,86      |0                               |0                |401,86             |0          |0             |104      |EA |10016588      |R3                  |1            |Bounds Megaplace|10016588            |G2           |2       |M1              |816-455-8733|2          |S16               |C          |10016588               |Schertz|US     |6025 Corridor Parkway|Nao informado     |Nao informado     |Nao informado     |TX   |78154-3214|2               |Domestic     |2                 |Southern   |2018|8  |18 |3        |\n",
      "+--------------------+------------+----------+---------------+------------+--------------+-------------+-----------+------------------------------+-----------+----------+------------+----------------------+------------+--------------------------------+-----------------+-------------------+-----------+--------------+---------+---+--------------+--------------------+-------------+----------------+--------------------+-------------+--------+----------------+------------+-----------+------------------+-----------+-----------------------+-------+-------+---------------------+------------------+------------------+------------------+-----+----------+----------------+-------------+------------------+-----------+----+---+---+---------+\n",
      "\n"
     ]
    }
   ],
   "source": [
    "#Campos strings vazios deverão ser preenchidos com 'Não informado'\n",
    "all_columns = df_stage.columns\n",
    "\n",
    "for column in all_columns:\n",
    "    df_stage = df_stage.withColumn(column, \n",
    "                                   when(trim(regexp_replace(col(column), '\\n', '')) == \"\", \"Nao informado\")\n",
    "                                   .otherwise(col(column)))\n",
    "\n",
    "#Filtro para verificar se determinado cliente que tinha strings vaziasforam substituídos com 'Não informado'\n",
    "df_stage.filter((col(\"customer_key\") == \"10016588\") & (col(\"invoice_number\") == \"110753\")).show(truncate=False)\n"
   ]
  },
  {
   "cell_type": "code",
   "execution_count": 22,
   "metadata": {},
   "outputs": [],
   "source": [
    "# #APAGAR \n",
    "\n",
    "# distinct_count = df_stage.select(countDistinct(\"address_number\")).collect()[0][0]\n",
    "# print(distinct_count)"
   ]
  },
  {
   "cell_type": "code",
   "execution_count": 23,
   "metadata": {},
   "outputs": [],
   "source": [
    "# #Verificar tamanho da tabela\n",
    "# print(df_stage.count())"
   ]
  },
  {
   "cell_type": "code",
   "execution_count": 24,
   "metadata": {},
   "outputs": [
    {
     "name": "stdout",
     "output_type": "stream",
     "text": [
      "+--------------------+------------+----------+---------------+------------+--------------+-------------+-----------+--------------------+-----------+----------+------------+----------------------+------------+--------------------------------+-----------------+-------------------+-----------+--------------+---------+---+--------------+--------------------+-------------+----------------+--------------------+-------------+--------+----------------+------------+-----------+------------------+-----------+-----------------------+-------+-------+--------------------+------------------+------------------+------------------+-----+----------+----------------+-------------+------------------+-----------+----+---+---+---------+\n",
      "|actual_delivery_date|customer_key|  date_key|discount_amount|invoice_date|invoice_number|   item_class|item_number|                item|line_number|list_price|order_number|promised_delivery_date|sales_amount|sales_amount_based_on_list_price|sales_cost_amount|sales_margin_amount|sales_price|sales_quantity|sales_rep|u_m|address_number|business_family_name|business_unit|        customer|customer_key_cliente|customer_type|division|line_of_business|       phone|region_code|regional_sales_mgr|search_type|address_number_endereco|   city|country|  customer_address_1|customer_address_2|customer_address_3|customer_address_4|state|  zip_code|division_divisao|division_name|region_code_regiao|region_name| Ano|Mes|Dia|Trimestre|\n",
      "+--------------------+------------+----------+---------------+------------+--------------+-------------+-----------+--------------------+-----------+----------+------------+----------------------+------------+--------------------------------+-----------------+-------------------+-----------+--------------+---------+---+--------------+--------------------+-------------+----------------+--------------------+-------------+--------+----------------+------------+-----------+------------------+-----------+-----------------------+-------+-------+--------------------+------------------+------------------+------------------+-----+----------+----------------+-------------+------------------+-----------+----+---+---+---------+\n",
      "|          16/08/2019|    10016588|16/08/2018|         -698,4|  2018-08-18|        110753|Nao informado|      64420|Blue Label Canned...|       1000|         0|      208991|            16/08/2019|       698,4|                               0|           361,32|             337,08|      69,84|            10|      104| EA|      10016588|                  R3|            1|Bounds Megaplace|            10016588|           G2|       2|              M1|816-455-8733|          2|               S16|          C|               10016588|Schertz|     US|6025 Corridor Par...|     Nao informado|     Nao informado|     Nao informado|   TX|78154-3214|               2|     Domestic|                 2|   Southern|2018|  8| 18|        3|\n",
      "|          16/08/2019|    10016588|16/08/2018|              0|  2018-08-18|        110753|Nao informado|          0|   Monarch Manicotti|       2000|         0|      208991|            16/08/2019|      401,86|                               0|                0|             401,86|          0|             0|      104| EA|      10016588|                  R3|            1|Bounds Megaplace|            10016588|           G2|       2|              M1|816-455-8733|          2|               S16|          C|               10016588|Schertz|     US|6025 Corridor Par...|     Nao informado|     Nao informado|     Nao informado|   TX|78154-3214|               2|     Domestic|                 2|   Southern|2018|  8| 18|        3|\n",
      "+--------------------+------------+----------+---------------+------------+--------------+-------------+-----------+--------------------+-----------+----------+------------+----------------------+------------+--------------------------------+-----------------+-------------------+-----------+--------------+---------+---+--------------+--------------------+-------------+----------------+--------------------+-------------+--------+----------------+------------+-----------+------------------+-----------+-----------------------+-------+-------+--------------------+------------------+------------------+------------------+-----+----------+----------------+-------------+------------------+-----------+----+---+---+---------+\n",
      "\n"
     ]
    }
   ],
   "source": [
    "# df_stage.filter((col(\"customer_key\") == \"10016588\") & (col(\"invoice_number\") == \"110753\")).show()\n"
   ]
  },
  {
   "cell_type": "code",
   "execution_count": 25,
   "metadata": {},
   "outputs": [],
   "source": [
    "# # Conta o número de valores vazios em todas as colunas\n",
    "# empty_counts = [df_stage.select(when(col(c) == \"\", 1).otherwise(0)).agg({\"*\": \"sum\"}).collect()[0][0] for c in df_stage.columns]\n",
    "# for i, c in enumerate(df_stage.columns):\n",
    "#     print(f\"{c}: {empty_counts[i]}\")"
   ]
  },
  {
   "cell_type": "code",
   "execution_count": 26,
   "metadata": {},
   "outputs": [],
   "source": [
    "# # Verificar se há valores nulos em colunas numéricas\n",
    "# from pyspark.sql.functions import isnan, col\n",
    "# from pyspark.sql.types import DoubleType, IntegerType, LongType, FloatType\n",
    "\n",
    "# numeric_cols = [c.name for c in df_stage.schema if c.dataType in [DoubleType(), IntegerType(), LongType(), FloatType()]]\n",
    "\n",
    "# null_counts = [df_stage.select(isnan(col(c)).alias(c)).agg({\"*\": \"sum\"}).collect()[0][0] for c in numeric_cols]\n",
    "# for i, c in enumerate(numeric_cols):\n",
    "#     print(f\"{c}: {null_counts[i]}\")"
   ]
  },
  {
   "cell_type": "code",
   "execution_count": 27,
   "metadata": {},
   "outputs": [],
   "source": [
    "#Adicionar chaves estrangeiras\n",
    "df_stage = df_stage.withColumn('PK_TEMPO', sha2(concat_ws(\"\",df_stage.invoice_date, df_stage.Ano,df_stage.Mes,df_stage.Dia,df_stage.Trimestre), 256))\n",
    "\n",
    "df_stage = df_stage.withColumn('PK_CLIENTES', sha2(concat_ws(\"\",df_stage.customer_key,df_stage.customer,df_stage.business_family_name,df_stage.business_unit,df_stage.customer_type,df_stage.division,df_stage.line_of_business,df_stage.phone,df_stage.region_code,df_stage.regional_sales_mgr,df_stage.search_type), 256))\n",
    "\n",
    "df_stage = df_stage.withColumn('PK_LOCALIDADE', sha2(concat_ws(\"\",df_stage.address_number,df_stage.city,df_stage.country,df_stage.state,df_stage.zip_code,df_stage.division,df_stage.division_name,df_stage.region_code,df_stage.region_name,df_stage.customer_address_1,df_stage.customer_address_2,df_stage.customer_address_3,df_stage.customer_address_4), 256))"
   ]
  },
  {
   "cell_type": "code",
   "execution_count": 28,
   "metadata": {},
   "outputs": [],
   "source": [
    "#APAGAR \n",
    "\n",
    "# distinct_count = df_stage.select(countDistinct(\"address_number\")).collect()[0][0]\n",
    "# print(distinct_count)"
   ]
  },
  {
   "cell_type": "code",
   "execution_count": 29,
   "metadata": {},
   "outputs": [],
   "source": [
    "df_stage.createOrReplaceTempView(\"stage\")"
   ]
  },
  {
   "cell_type": "code",
   "execution_count": 30,
   "metadata": {},
   "outputs": [],
   "source": [
    "# df_stage.filter((col(\"customer_key\") == \"10016588\") & (col(\"invoice_number\") == \"110753\")).show()"
   ]
  },
  {
   "cell_type": "code",
   "execution_count": 31,
   "metadata": {},
   "outputs": [],
   "source": [
    "# df_stage.show()"
   ]
  },
  {
   "cell_type": "code",
   "execution_count": 32,
   "metadata": {},
   "outputs": [],
   "source": [
    "#Gerar dimensões e fato a partir do tabelão  \n",
    "df_tempo = spark.sql(\"SELECT DISTINCT PK_TEMPO, invoice_date, Ano, Mes, Dia, Trimestre FROM stage\")"
   ]
  },
  {
   "cell_type": "code",
   "execution_count": 33,
   "metadata": {},
   "outputs": [
    {
     "name": "stdout",
     "output_type": "stream",
     "text": [
      "hdfs dfs -get /datalake/gold/dim_tempo/part-* input/projeto-hive/gold/dim_tempo.csv\n"
     ]
    }
   ],
   "source": [
    "#Exportar dataframes como tabelas csv\n",
    "salvar_df(df_tempo, 'dim_tempo')"
   ]
  },
  {
   "cell_type": "code",
   "execution_count": 34,
   "metadata": {},
   "outputs": [],
   "source": [
    "df_clientes = spark.sql(\"SELECT DISTINCT PK_CLIENTES, customer_key, customer, business_family_name, business_unit, customer_type, division, line_of_business, phone, region_code, regional_sales_mgr, search_type FROM stage\")"
   ]
  },
  {
   "cell_type": "code",
   "execution_count": 35,
   "metadata": {},
   "outputs": [
    {
     "name": "stdout",
     "output_type": "stream",
     "text": [
      "hdfs dfs -get /datalake/gold/dim_clientes/part-* input/projeto-hive/gold/dim_clientes.csv\n"
     ]
    }
   ],
   "source": [
    "salvar_df(df_clientes, 'dim_clientes')"
   ]
  },
  {
   "cell_type": "code",
   "execution_count": 36,
   "metadata": {},
   "outputs": [
    {
     "name": "stdout",
     "output_type": "stream",
     "text": [
      "+--------------------+--------------+------------+-------+-------------+-------------+--------+-------------+-----------+-------------+--------------------+--------------------+------------------+------------------+\n",
      "|       PK_LOCALIDADE|address_number|        city|country|        state|     zip_code|division|division_name|region_code|  region_name|  customer_address_1|  customer_address_2|customer_address_3|customer_address_4|\n",
      "+--------------------+--------------+------------+-------+-------------+-------------+--------+-------------+-----------+-------------+--------------------+--------------------+------------------+------------------+\n",
      "|4f9d6b1a369aac5ac...|      10021270|        null|   null|         null|         null|       1|International|          5|International|                null|                null|              null|              null|\n",
      "|2ec8bd45a27fad39f...|      10007457|        null|   null|         null|         null|       1|International|          5|International|                null|                null|              null|              null|\n",
      "|72c9fefc6297f5d4c...|      10026365|        null|   null|         null|         null|       1|International|          5|International|                null|                null|              null|              null|\n",
      "|caa50f8d19a279863...|      10022962|        null|   null|         null|         null|       1|International|          5|International|                null|                null|              null|              null|\n",
      "|7185ad2f9391f90c8...|      10019066|        null|   null|         null|         null|       1|International|          5|International|                null|                null|              null|              null|\n",
      "|c0fe52e72db120d56...|      10023715|  Plainfield|     US|           IN|   46168-0600|       2|     Domestic|          4|      Central|    Central Division|          PO BOX 600|     Nao informado|     Nao informado|\n",
      "|ab8492bc25cbd919a...|      10006862|       Pearl|     US|           MS|        39209|       2|     Domestic|          2|     Southern|4410 Highway 80 East|       Nao informado|     Nao informado|     Nao informado|\n",
      "|c5c340aacd52e918c...|      10011623|        null|   null|         null|         null|       1|International|          5|International|                null|                null|              null|              null|\n",
      "|15fbbf5af67e58d03...|      10023447|       Tulsa|     US|           OK|        74115|       2|     Domestic|          2|     Southern|Attention:  Accou...|1624 North 71st E...|     Nao informado|     Nao informado|\n",
      "|ccafb664a2f9a847b...|      10002114|        null|   null|         null|         null|       1|International|          5|International|                null|                null|              null|              null|\n",
      "|2ce4cbaa115c2ac69...|      10021300|        null|   null|         null|         null|       1|International|          5|International|                null|                null|              null|              null|\n",
      "|7a096f42dd2cd3bde...|      10025061|      Canton|     US|           OH|        44708|       2|     Domestic|          4|      Central|        PO Box 80509|       Nao informado|     Nao informado|     Nao informado|\n",
      "|0c09f66e0c92b910a...|      10018628|      Tigard|     US|           OR|        97223|       2|     Domestic|          1|      Western| 12805 SW 77th Place|       Nao informado|     Nao informado|     Nao informado|\n",
      "|4b85dc6dd93a861e8...|      10010935|Sioux Center|     US|           IA|        51250|       2|     Domestic|          4|      Central|   877 1st Avenue NW|       Nao informado|     Nao informado|     Nao informado|\n",
      "|b85215fb0a8da7b64...|      10023759|  Birmingham|     US|           AL|        35244|       2|     Domestic|          2|     Southern|106 B David Green...|       Nao informado|     Nao informado|     Nao informado|\n",
      "|8f51840a0598cf5d3...|      10013871|        null|   null|         null|         null|       1|International|          5|International|                null|                null|              null|              null|\n",
      "|49211ce43e17b962e...|      10017314|     El Paso|     US|           TX|        79925|       2|     Domestic|          2|     Southern| 8901 Montana Avenue|       Nao informado|     Nao informado|     Nao informado|\n",
      "|a3ea028ea594c2e8d...|      10021239|        null|   null|         null|         null|       1|International|          5|International|                null|                null|              null|              null|\n",
      "|7be5dd2bf022127db...|      10025778|      Pomona|     US|           CA|        91766|       2|     Domestic|          1|      Western|   1143 W 2nd Street|       Nao informado|     Nao informado|     Nao informado|\n",
      "|1a8a2b450bf7d75c2...|      10012761|        Cali|     UK|Nao informado|Nao informado|       1|International|          5|International| Av 6A Norte 25 N 43|       Nao informado|     Nao informado|     Nao informado|\n",
      "+--------------------+--------------+------------+-------+-------------+-------------+--------+-------------+-----------+-------------+--------------------+--------------------+------------------+------------------+\n",
      "only showing top 20 rows\n",
      "\n"
     ]
    }
   ],
   "source": [
    "df_localidade = spark.sql(\"SELECT DISTINCT PK_LOCALIDADE, address_number, city, country, state, zip_code, division, division_name, region_code, region_name, customer_address_1, customer_address_2, customer_address_3, customer_address_4 FROM stage\")\n",
    "# df_localidade.show()"
   ]
  },
  {
   "cell_type": "code",
   "execution_count": 37,
   "metadata": {},
   "outputs": [
    {
     "name": "stdout",
     "output_type": "stream",
     "text": [
      "hdfs dfs -get /datalake/gold/dim_localidade/part-* input/projeto-hive/gold/dim_localidade.csv\n"
     ]
    }
   ],
   "source": [
    "salvar_df(df_localidade, 'dim_localidade')"
   ]
  },
  {
   "cell_type": "code",
   "execution_count": 38,
   "metadata": {},
   "outputs": [],
   "source": [
    "ft_vendas = spark.sql(\"SELECT PK_CLIENTES, PK_TEMPO, PK_LOCALIDADE, actual_delivery_date, date_key, discount_amount, invoice_date, invoice_number, item_class, item_number, item, line_number, list_price, order_number, promised_delivery_date, sales_amount, sales_amount_based_on_list_price, sales_cost_amount, sales_margin_amount, sales_price, sales_quantity, sales_rep, u_m  FROM stage\")  "
   ]
  },
  {
   "cell_type": "code",
   "execution_count": 39,
   "metadata": {},
   "outputs": [
    {
     "name": "stdout",
     "output_type": "stream",
     "text": [
      "hdfs dfs -get /datalake/gold/ft_vendas/part-* input/projeto-hive/gold/ft_vendas.csv\n"
     ]
    }
   ],
   "source": [
    "salvar_df(ft_vendas, 'ft_vendas')"
   ]
  },
  {
   "cell_type": "code",
   "execution_count": 40,
   "metadata": {},
   "outputs": [
    {
     "name": "stdout",
     "output_type": "stream",
     "text": [
      "65535\n",
      "616\n",
      "616\n",
      "560\n"
     ]
    }
   ],
   "source": [
    "print(ft_vendas.count())\n",
    "print(df_localidade.count())\n",
    "print(df_clientes.count())\n",
    "print(df_tempo.count())"
   ]
  },
  {
   "cell_type": "code",
   "execution_count": 41,
   "metadata": {},
   "outputs": [
    {
     "name": "stdout",
     "output_type": "stream",
     "text": [
      "Total sales amount: 26409762.0\n",
      "Total sales quantity: 2943194.0\n"
     ]
    }
   ],
   "source": [
    "# Somar os valores da coluna \"sales_amount\" no DataFrame \"df_stage\"\n",
    "total_sales_amount = ft_vendas.agg(sum(\"sales_amount\")).collect()[0][0]\n",
    "total_sales_quantity = ft_vendas.agg(sum(\"sales_quantity\")).collect()[0][0]\n",
    "\n",
    "# Imprimir o resultado\n",
    "print(\"Total sales amount:\", total_sales_amount)\n",
    "print(\"Total sales quantity:\", total_sales_quantity)"
   ]
  },
  {
   "cell_type": "code",
   "execution_count": null,
   "metadata": {},
   "outputs": [],
   "source": []
  }
 ],
 "metadata": {
  "kernelspec": {
   "display_name": "PySpark",
   "language": "python",
   "name": "pyspark"
  }
 },
 "nbformat": 4,
 "nbformat_minor": 2
}
